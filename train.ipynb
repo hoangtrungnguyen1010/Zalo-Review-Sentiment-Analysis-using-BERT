{
  "cells": [
    {
      "cell_type": "code",
      "execution_count": 51,
      "metadata": {},
      "outputs": [],
      "source": [
        "import numpy as np\n",
        "import pandas as pd"
      ]
    },
    {
      "cell_type": "code",
      "execution_count": 52,
      "metadata": {
        "colab": {
          "base_uri": "https://localhost:8080/",
          "height": 728
        },
        "id": "8rtIh2NJxXGY",
        "outputId": "f57f7d90-222f-492d-a307-5e2ce5b4a88c"
      },
      "outputs": [],
      "source": [
        "df = pd.read_csv('Dataset/dataset.csv')\n",
        "\n",
        "\n"
      ]
    },
    {
      "cell_type": "code",
      "execution_count": 53,
      "metadata": {},
      "outputs": [
        {
          "data": {
            "text/html": [
              "<div>\n",
              "<style scoped>\n",
              "    .dataframe tbody tr th:only-of-type {\n",
              "        vertical-align: middle;\n",
              "    }\n",
              "\n",
              "    .dataframe tbody tr th {\n",
              "        vertical-align: top;\n",
              "    }\n",
              "\n",
              "    .dataframe thead th {\n",
              "        text-align: right;\n",
              "    }\n",
              "</style>\n",
              "<table border=\"1\" class=\"dataframe\">\n",
              "  <thead>\n",
              "    <tr style=\"text-align: right;\">\n",
              "      <th></th>\n",
              "      <th>Unnamed: 0</th>\n",
              "      <th>reviewId</th>\n",
              "      <th>userName</th>\n",
              "      <th>userImage</th>\n",
              "      <th>content</th>\n",
              "      <th>score</th>\n",
              "      <th>thumbsUpCount</th>\n",
              "      <th>reviewCreatedVersion</th>\n",
              "      <th>at</th>\n",
              "      <th>replyContent</th>\n",
              "      <th>repliedAt</th>\n",
              "      <th>appVersion</th>\n",
              "    </tr>\n",
              "  </thead>\n",
              "  <tbody>\n",
              "    <tr>\n",
              "      <th>0</th>\n",
              "      <td>0</td>\n",
              "      <td>f309bce7-7485-4c94-9853-efe16b49200f</td>\n",
              "      <td>nguyen tat dat mai</td>\n",
              "      <td>https://play-lh.googleusercontent.com/a-/AD_cM...</td>\n",
              "      <td>Update xong tìm quanh đây không dùng được nữa....</td>\n",
              "      <td>1</td>\n",
              "      <td>25</td>\n",
              "      <td>19.01.02.medium</td>\n",
              "      <td>2023-06-24 08:44:24</td>\n",
              "      <td>Chào bạn, hiện tại tính năng này Zalo đang tạm...</td>\n",
              "      <td>2020-09-04 15:52:40</td>\n",
              "      <td>19.01.02.medium</td>\n",
              "    </tr>\n",
              "    <tr>\n",
              "      <th>1</th>\n",
              "      <td>1</td>\n",
              "      <td>c7c762a4-e60a-40af-ae3b-c8005fb87e49</td>\n",
              "      <td>Harrier</td>\n",
              "      <td>https://play-lh.googleusercontent.com/a-/AD_cM...</td>\n",
              "      <td>Tính năng liên quan đến số tài khoản ngân hàng...</td>\n",
              "      <td>1</td>\n",
              "      <td>0</td>\n",
              "      <td>23.05.02</td>\n",
              "      <td>2023-06-24 08:32:36</td>\n",
              "      <td>NaN</td>\n",
              "      <td>NaN</td>\n",
              "      <td>23.05.02</td>\n",
              "    </tr>\n",
              "    <tr>\n",
              "      <th>2</th>\n",
              "      <td>2</td>\n",
              "      <td>a88a748b-4f11-42de-a536-44e7ddc8659a</td>\n",
              "      <td>Leo 2_1</td>\n",
              "      <td>https://play-lh.googleusercontent.com/a/AAcHTt...</td>\n",
              "      <td>Khi truy cập vào báo rất lag không truy cập được</td>\n",
              "      <td>2</td>\n",
              "      <td>0</td>\n",
              "      <td>23.05.02</td>\n",
              "      <td>2023-06-23 21:39:50</td>\n",
              "      <td>NaN</td>\n",
              "      <td>NaN</td>\n",
              "      <td>23.05.02</td>\n",
              "    </tr>\n",
              "    <tr>\n",
              "      <th>3</th>\n",
              "      <td>3</td>\n",
              "      <td>6c243ea9-65ca-40f7-9d68-49a2a6158939</td>\n",
              "      <td>စိုး ေအာင္</td>\n",
              "      <td>https://play-lh.googleusercontent.com/a/AAcHTt...</td>\n",
              "      <td>good for me before</td>\n",
              "      <td>3</td>\n",
              "      <td>0</td>\n",
              "      <td>NaN</td>\n",
              "      <td>2023-06-23 17:05:23</td>\n",
              "      <td>NaN</td>\n",
              "      <td>NaN</td>\n",
              "      <td>NaN</td>\n",
              "    </tr>\n",
              "    <tr>\n",
              "      <th>4</th>\n",
              "      <td>4</td>\n",
              "      <td>60c2a70c-8384-4a74-ae6e-b5178ae6944b</td>\n",
              "      <td>Huyền Thanh</td>\n",
              "      <td>https://play-lh.googleusercontent.com/a/AAcHTt...</td>\n",
              "      <td>Không an toàn. Zalo bị phát hiện sử dụng máy ả...</td>\n",
              "      <td>1</td>\n",
              "      <td>0</td>\n",
              "      <td>NaN</td>\n",
              "      <td>2023-06-23 15:35:30</td>\n",
              "      <td>Chào bạn. Để tiện hỗ trợ bạn hơn, bạn vui lòng...</td>\n",
              "      <td>2023-06-23 15:52:47</td>\n",
              "      <td>NaN</td>\n",
              "    </tr>\n",
              "  </tbody>\n",
              "</table>\n",
              "</div>"
            ],
            "text/plain": [
              "   Unnamed: 0                              reviewId            userName  \\\n",
              "0           0  f309bce7-7485-4c94-9853-efe16b49200f  nguyen tat dat mai   \n",
              "1           1  c7c762a4-e60a-40af-ae3b-c8005fb87e49             Harrier   \n",
              "2           2  a88a748b-4f11-42de-a536-44e7ddc8659a             Leo 2_1   \n",
              "3           3  6c243ea9-65ca-40f7-9d68-49a2a6158939          စိုး ေအာင္   \n",
              "4           4  60c2a70c-8384-4a74-ae6e-b5178ae6944b         Huyền Thanh   \n",
              "\n",
              "                                           userImage  \\\n",
              "0  https://play-lh.googleusercontent.com/a-/AD_cM...   \n",
              "1  https://play-lh.googleusercontent.com/a-/AD_cM...   \n",
              "2  https://play-lh.googleusercontent.com/a/AAcHTt...   \n",
              "3  https://play-lh.googleusercontent.com/a/AAcHTt...   \n",
              "4  https://play-lh.googleusercontent.com/a/AAcHTt...   \n",
              "\n",
              "                                             content  score  thumbsUpCount  \\\n",
              "0  Update xong tìm quanh đây không dùng được nữa....      1             25   \n",
              "1  Tính năng liên quan đến số tài khoản ngân hàng...      1              0   \n",
              "2   Khi truy cập vào báo rất lag không truy cập được      2              0   \n",
              "3                                 good for me before      3              0   \n",
              "4  Không an toàn. Zalo bị phát hiện sử dụng máy ả...      1              0   \n",
              "\n",
              "  reviewCreatedVersion                   at  \\\n",
              "0      19.01.02.medium  2023-06-24 08:44:24   \n",
              "1             23.05.02  2023-06-24 08:32:36   \n",
              "2             23.05.02  2023-06-23 21:39:50   \n",
              "3                  NaN  2023-06-23 17:05:23   \n",
              "4                  NaN  2023-06-23 15:35:30   \n",
              "\n",
              "                                        replyContent            repliedAt  \\\n",
              "0  Chào bạn, hiện tại tính năng này Zalo đang tạm...  2020-09-04 15:52:40   \n",
              "1                                                NaN                  NaN   \n",
              "2                                                NaN                  NaN   \n",
              "3                                                NaN                  NaN   \n",
              "4  Chào bạn. Để tiện hỗ trợ bạn hơn, bạn vui lòng...  2023-06-23 15:52:47   \n",
              "\n",
              "        appVersion  \n",
              "0  19.01.02.medium  \n",
              "1         23.05.02  \n",
              "2         23.05.02  \n",
              "3              NaN  \n",
              "4              NaN  "
            ]
          },
          "execution_count": 53,
          "metadata": {},
          "output_type": "execute_result"
        }
      ],
      "source": [
        "df.head()"
      ]
    },
    {
      "cell_type": "code",
      "execution_count": 54,
      "metadata": {
        "id": "7KokQ0tAyxOa"
      },
      "outputs": [],
      "source": [
        "# Import necessary libraries\n",
        "import numpy as np\n",
        "import pandas as pd\n",
        "import seaborn as sns\n",
        "from pylab import rcParams\n",
        "import matplotlib.pyplot as plt\n",
        "from matplotlib import rc\n",
        "from sklearn.model_selection import train_test_split\n",
        "from sklearn.metrics import confusion_matrix, classification_report\n",
        "from collections import defaultdict\n",
        "from textwrap import wrap\n",
        "\n",
        "# Torch ML libraries\n",
        "import transformers\n",
        "from transformers import BertModel, BertTokenizer, AdamW, get_linear_schedule_with_warmup\n",
        "import torch\n",
        "from torch import nn, optim\n",
        "from torch.utils.data import Dataset, DataLoader\n",
        "\n",
        "# Misc.\n",
        "import warnings\n",
        "warnings.filterwarnings('ignore')\n"
      ]
    },
    {
      "cell_type": "code",
      "execution_count": 55,
      "metadata": {
        "id": "r4-GiEN9y4-O"
      },
      "outputs": [],
      "source": [
        "# Set intial variables and constants\n",
        "%config InlineBackend.figure_format='retina'\n",
        "\n",
        "# Graph Designs\n",
        "sns.set(style='whitegrid', palette='muted', font_scale=1.2)\n",
        "HAPPY_COLORS_PALETTE = [\"#01BEFE\", \"#FFDD00\", \"#FF7D00\", \"#FF006D\", \"#ADFF02\", \"#8F00FF\"]\n",
        "sns.set_palette(sns.color_palette(HAPPY_COLORS_PALETTE))\n",
        "rcParams['figure.figsize'] = 12, 8\n",
        "\n",
        "# Random seed for reproducibilty\n",
        "RANDOM_SEED = 42\n",
        "np.random.seed(RANDOM_SEED)\n",
        "torch.manual_seed(RANDOM_SEED)\n",
        "\n",
        "# Set GPU\n",
        "device = torch.device(\"cuda\" if torch.cuda.is_available() else \"cpu\")"
      ]
    },
    {
      "cell_type": "code",
      "execution_count": 56,
      "metadata": {
        "id": "iqI_pztLy8xK"
      },
      "outputs": [],
      "source": [
        "# Function to convert score to sentiment\n",
        "def to_sentiment(rating):\n",
        "    \n",
        "    rating = int(rating)\n",
        "    \n",
        "    # Convert to class\n",
        "    if rating <= 2:\n",
        "        return 0\n",
        "    elif rating == 3:\n",
        "        return 1\n",
        "    else:\n",
        "        return 2\n",
        "\n"
      ]
    },
    {
      "cell_type": "code",
      "execution_count": 57,
      "metadata": {
        "id": "zbe4eOOr7qN-"
      },
      "outputs": [],
      "source": [
        "# Apply to the dataset \n",
        "df['sentiment'] = df.score.apply(to_sentiment)\n"
      ]
    },
    {
      "cell_type": "code",
      "execution_count": 58,
      "metadata": {
        "colab": {
          "base_uri": "https://localhost:8080/",
          "height": 901
        },
        "id": "9dpOjGbuzTR3",
        "outputId": "54b610dd-4cdc-4ae3-8dda-beb0dce9f317"
      },
      "outputs": [
        {
          "data": {
            "text/html": [
              "<div>\n",
              "<style scoped>\n",
              "    .dataframe tbody tr th:only-of-type {\n",
              "        vertical-align: middle;\n",
              "    }\n",
              "\n",
              "    .dataframe tbody tr th {\n",
              "        vertical-align: top;\n",
              "    }\n",
              "\n",
              "    .dataframe thead th {\n",
              "        text-align: right;\n",
              "    }\n",
              "</style>\n",
              "<table border=\"1\" class=\"dataframe\">\n",
              "  <thead>\n",
              "    <tr style=\"text-align: right;\">\n",
              "      <th></th>\n",
              "      <th>Unnamed: 0</th>\n",
              "      <th>reviewId</th>\n",
              "      <th>userName</th>\n",
              "      <th>userImage</th>\n",
              "      <th>content</th>\n",
              "      <th>score</th>\n",
              "      <th>thumbsUpCount</th>\n",
              "      <th>reviewCreatedVersion</th>\n",
              "      <th>at</th>\n",
              "      <th>replyContent</th>\n",
              "      <th>repliedAt</th>\n",
              "      <th>appVersion</th>\n",
              "      <th>sentiment</th>\n",
              "    </tr>\n",
              "  </thead>\n",
              "  <tbody>\n",
              "    <tr>\n",
              "      <th>0</th>\n",
              "      <td>0</td>\n",
              "      <td>f309bce7-7485-4c94-9853-efe16b49200f</td>\n",
              "      <td>nguyen tat dat mai</td>\n",
              "      <td>https://play-lh.googleusercontent.com/a-/AD_cM...</td>\n",
              "      <td>Update xong tìm quanh đây không dùng được nữa....</td>\n",
              "      <td>1</td>\n",
              "      <td>25</td>\n",
              "      <td>19.01.02.medium</td>\n",
              "      <td>2023-06-24 08:44:24</td>\n",
              "      <td>Chào bạn, hiện tại tính năng này Zalo đang tạm...</td>\n",
              "      <td>2020-09-04 15:52:40</td>\n",
              "      <td>19.01.02.medium</td>\n",
              "      <td>0</td>\n",
              "    </tr>\n",
              "    <tr>\n",
              "      <th>1</th>\n",
              "      <td>1</td>\n",
              "      <td>c7c762a4-e60a-40af-ae3b-c8005fb87e49</td>\n",
              "      <td>Harrier</td>\n",
              "      <td>https://play-lh.googleusercontent.com/a-/AD_cM...</td>\n",
              "      <td>Tính năng liên quan đến số tài khoản ngân hàng...</td>\n",
              "      <td>1</td>\n",
              "      <td>0</td>\n",
              "      <td>23.05.02</td>\n",
              "      <td>2023-06-24 08:32:36</td>\n",
              "      <td>NaN</td>\n",
              "      <td>NaN</td>\n",
              "      <td>23.05.02</td>\n",
              "      <td>0</td>\n",
              "    </tr>\n",
              "    <tr>\n",
              "      <th>2</th>\n",
              "      <td>2</td>\n",
              "      <td>a88a748b-4f11-42de-a536-44e7ddc8659a</td>\n",
              "      <td>Leo 2_1</td>\n",
              "      <td>https://play-lh.googleusercontent.com/a/AAcHTt...</td>\n",
              "      <td>Khi truy cập vào báo rất lag không truy cập được</td>\n",
              "      <td>2</td>\n",
              "      <td>0</td>\n",
              "      <td>23.05.02</td>\n",
              "      <td>2023-06-23 21:39:50</td>\n",
              "      <td>NaN</td>\n",
              "      <td>NaN</td>\n",
              "      <td>23.05.02</td>\n",
              "      <td>0</td>\n",
              "    </tr>\n",
              "    <tr>\n",
              "      <th>3</th>\n",
              "      <td>3</td>\n",
              "      <td>6c243ea9-65ca-40f7-9d68-49a2a6158939</td>\n",
              "      <td>စိုး ေအာင္</td>\n",
              "      <td>https://play-lh.googleusercontent.com/a/AAcHTt...</td>\n",
              "      <td>good for me before</td>\n",
              "      <td>3</td>\n",
              "      <td>0</td>\n",
              "      <td>NaN</td>\n",
              "      <td>2023-06-23 17:05:23</td>\n",
              "      <td>NaN</td>\n",
              "      <td>NaN</td>\n",
              "      <td>NaN</td>\n",
              "      <td>1</td>\n",
              "    </tr>\n",
              "    <tr>\n",
              "      <th>4</th>\n",
              "      <td>4</td>\n",
              "      <td>60c2a70c-8384-4a74-ae6e-b5178ae6944b</td>\n",
              "      <td>Huyền Thanh</td>\n",
              "      <td>https://play-lh.googleusercontent.com/a/AAcHTt...</td>\n",
              "      <td>Không an toàn. Zalo bị phát hiện sử dụng máy ả...</td>\n",
              "      <td>1</td>\n",
              "      <td>0</td>\n",
              "      <td>NaN</td>\n",
              "      <td>2023-06-23 15:35:30</td>\n",
              "      <td>Chào bạn. Để tiện hỗ trợ bạn hơn, bạn vui lòng...</td>\n",
              "      <td>2023-06-23 15:52:47</td>\n",
              "      <td>NaN</td>\n",
              "      <td>0</td>\n",
              "    </tr>\n",
              "    <tr>\n",
              "      <th>...</th>\n",
              "      <td>...</td>\n",
              "      <td>...</td>\n",
              "      <td>...</td>\n",
              "      <td>...</td>\n",
              "      <td>...</td>\n",
              "      <td>...</td>\n",
              "      <td>...</td>\n",
              "      <td>...</td>\n",
              "      <td>...</td>\n",
              "      <td>...</td>\n",
              "      <td>...</td>\n",
              "      <td>...</td>\n",
              "      <td>...</td>\n",
              "    </tr>\n",
              "    <tr>\n",
              "      <th>95</th>\n",
              "      <td>95</td>\n",
              "      <td>e6a705e2-9fb8-472c-95aa-fe7f9ac01349</td>\n",
              "      <td>Dj Dj</td>\n",
              "      <td>https://play-lh.googleusercontent.com/a/AAcHTt...</td>\n",
              "      <td>You</td>\n",
              "      <td>5</td>\n",
              "      <td>0</td>\n",
              "      <td>23.04.01</td>\n",
              "      <td>2023-05-26 10:42:48</td>\n",
              "      <td>NaN</td>\n",
              "      <td>NaN</td>\n",
              "      <td>23.04.01</td>\n",
              "      <td>2</td>\n",
              "    </tr>\n",
              "    <tr>\n",
              "      <th>96</th>\n",
              "      <td>96</td>\n",
              "      <td>68da3925-9c6f-4b2e-b24f-029d429a7f5b</td>\n",
              "      <td>HOI NGUYEN</td>\n",
              "      <td>https://play-lh.googleusercontent.com/a/AAcHTt...</td>\n",
              "      <td>Zalo có thể tắt tính năng thông báo sinh nhật ...</td>\n",
              "      <td>4</td>\n",
              "      <td>1</td>\n",
              "      <td>23.04.01</td>\n",
              "      <td>2023-05-26 09:34:58</td>\n",
              "      <td>Chào bạn. Chúng tôi sẽ ghi nhận và xem xét ý k...</td>\n",
              "      <td>2023-05-26 15:24:23</td>\n",
              "      <td>23.04.01</td>\n",
              "      <td>2</td>\n",
              "    </tr>\n",
              "    <tr>\n",
              "      <th>97</th>\n",
              "      <td>97</td>\n",
              "      <td>9987af2c-5cde-43b2-a163-7aea8584ba8e</td>\n",
              "      <td>VINH NGUYEN PHAT</td>\n",
              "      <td>https://play-lh.googleusercontent.com/a-/AD_cM...</td>\n",
              "      <td>Perfect</td>\n",
              "      <td>5</td>\n",
              "      <td>0</td>\n",
              "      <td>NaN</td>\n",
              "      <td>2023-05-25 21:27:30</td>\n",
              "      <td>NaN</td>\n",
              "      <td>NaN</td>\n",
              "      <td>NaN</td>\n",
              "      <td>2</td>\n",
              "    </tr>\n",
              "    <tr>\n",
              "      <th>98</th>\n",
              "      <td>98</td>\n",
              "      <td>c1188bcd-6e1e-4045-b8f1-eb14fd9fdd9c</td>\n",
              "      <td>TRAN NHA THUY LINH</td>\n",
              "      <td>https://play-lh.googleusercontent.com/a-/AD_cM...</td>\n",
              "      <td>Thân chào! Zalo app tình hình chung rất tốt 5 ...</td>\n",
              "      <td>5</td>\n",
              "      <td>0</td>\n",
              "      <td>23.04.01</td>\n",
              "      <td>2023-05-25 11:07:05</td>\n",
              "      <td>Chào bạn. Chúng tôi sẽ ghi nhận và xem xét ý k...</td>\n",
              "      <td>2023-05-25 16:17:33</td>\n",
              "      <td>23.04.01</td>\n",
              "      <td>2</td>\n",
              "    </tr>\n",
              "    <tr>\n",
              "      <th>99</th>\n",
              "      <td>99</td>\n",
              "      <td>1ea7e653-9bc3-4bd8-964b-92410102fca4</td>\n",
              "      <td>Giathang Co</td>\n",
              "      <td>https://play-lh.googleusercontent.com/a/AAcHTt...</td>\n",
              "      <td>Rat tot</td>\n",
              "      <td>5</td>\n",
              "      <td>0</td>\n",
              "      <td>NaN</td>\n",
              "      <td>2023-05-24 20:30:34</td>\n",
              "      <td>NaN</td>\n",
              "      <td>NaN</td>\n",
              "      <td>NaN</td>\n",
              "      <td>2</td>\n",
              "    </tr>\n",
              "  </tbody>\n",
              "</table>\n",
              "<p>100 rows × 13 columns</p>\n",
              "</div>"
            ],
            "text/plain": [
              "    Unnamed: 0                              reviewId            userName  \\\n",
              "0            0  f309bce7-7485-4c94-9853-efe16b49200f  nguyen tat dat mai   \n",
              "1            1  c7c762a4-e60a-40af-ae3b-c8005fb87e49             Harrier   \n",
              "2            2  a88a748b-4f11-42de-a536-44e7ddc8659a             Leo 2_1   \n",
              "3            3  6c243ea9-65ca-40f7-9d68-49a2a6158939          စိုး ေအာင္   \n",
              "4            4  60c2a70c-8384-4a74-ae6e-b5178ae6944b         Huyền Thanh   \n",
              "..         ...                                   ...                 ...   \n",
              "95          95  e6a705e2-9fb8-472c-95aa-fe7f9ac01349               Dj Dj   \n",
              "96          96  68da3925-9c6f-4b2e-b24f-029d429a7f5b          HOI NGUYEN   \n",
              "97          97  9987af2c-5cde-43b2-a163-7aea8584ba8e    VINH NGUYEN PHAT   \n",
              "98          98  c1188bcd-6e1e-4045-b8f1-eb14fd9fdd9c  TRAN NHA THUY LINH   \n",
              "99          99  1ea7e653-9bc3-4bd8-964b-92410102fca4         Giathang Co   \n",
              "\n",
              "                                            userImage  \\\n",
              "0   https://play-lh.googleusercontent.com/a-/AD_cM...   \n",
              "1   https://play-lh.googleusercontent.com/a-/AD_cM...   \n",
              "2   https://play-lh.googleusercontent.com/a/AAcHTt...   \n",
              "3   https://play-lh.googleusercontent.com/a/AAcHTt...   \n",
              "4   https://play-lh.googleusercontent.com/a/AAcHTt...   \n",
              "..                                                ...   \n",
              "95  https://play-lh.googleusercontent.com/a/AAcHTt...   \n",
              "96  https://play-lh.googleusercontent.com/a/AAcHTt...   \n",
              "97  https://play-lh.googleusercontent.com/a-/AD_cM...   \n",
              "98  https://play-lh.googleusercontent.com/a-/AD_cM...   \n",
              "99  https://play-lh.googleusercontent.com/a/AAcHTt...   \n",
              "\n",
              "                                              content  score  thumbsUpCount  \\\n",
              "0   Update xong tìm quanh đây không dùng được nữa....      1             25   \n",
              "1   Tính năng liên quan đến số tài khoản ngân hàng...      1              0   \n",
              "2    Khi truy cập vào báo rất lag không truy cập được      2              0   \n",
              "3                                  good for me before      3              0   \n",
              "4   Không an toàn. Zalo bị phát hiện sử dụng máy ả...      1              0   \n",
              "..                                                ...    ...            ...   \n",
              "95                                                You      5              0   \n",
              "96  Zalo có thể tắt tính năng thông báo sinh nhật ...      4              1   \n",
              "97                                            Perfect      5              0   \n",
              "98  Thân chào! Zalo app tình hình chung rất tốt 5 ...      5              0   \n",
              "99                                            Rat tot      5              0   \n",
              "\n",
              "   reviewCreatedVersion                   at  \\\n",
              "0       19.01.02.medium  2023-06-24 08:44:24   \n",
              "1              23.05.02  2023-06-24 08:32:36   \n",
              "2              23.05.02  2023-06-23 21:39:50   \n",
              "3                   NaN  2023-06-23 17:05:23   \n",
              "4                   NaN  2023-06-23 15:35:30   \n",
              "..                  ...                  ...   \n",
              "95             23.04.01  2023-05-26 10:42:48   \n",
              "96             23.04.01  2023-05-26 09:34:58   \n",
              "97                  NaN  2023-05-25 21:27:30   \n",
              "98             23.04.01  2023-05-25 11:07:05   \n",
              "99                  NaN  2023-05-24 20:30:34   \n",
              "\n",
              "                                         replyContent            repliedAt  \\\n",
              "0   Chào bạn, hiện tại tính năng này Zalo đang tạm...  2020-09-04 15:52:40   \n",
              "1                                                 NaN                  NaN   \n",
              "2                                                 NaN                  NaN   \n",
              "3                                                 NaN                  NaN   \n",
              "4   Chào bạn. Để tiện hỗ trợ bạn hơn, bạn vui lòng...  2023-06-23 15:52:47   \n",
              "..                                                ...                  ...   \n",
              "95                                                NaN                  NaN   \n",
              "96  Chào bạn. Chúng tôi sẽ ghi nhận và xem xét ý k...  2023-05-26 15:24:23   \n",
              "97                                                NaN                  NaN   \n",
              "98  Chào bạn. Chúng tôi sẽ ghi nhận và xem xét ý k...  2023-05-25 16:17:33   \n",
              "99                                                NaN                  NaN   \n",
              "\n",
              "         appVersion  sentiment  \n",
              "0   19.01.02.medium          0  \n",
              "1          23.05.02          0  \n",
              "2          23.05.02          0  \n",
              "3               NaN          1  \n",
              "4               NaN          0  \n",
              "..              ...        ...  \n",
              "95         23.04.01          2  \n",
              "96         23.04.01          2  \n",
              "97              NaN          2  \n",
              "98         23.04.01          2  \n",
              "99              NaN          2  \n",
              "\n",
              "[100 rows x 13 columns]"
            ]
          },
          "execution_count": 58,
          "metadata": {},
          "output_type": "execute_result"
        }
      ],
      "source": [
        "df.head(100)"
      ]
    },
    {
      "cell_type": "code",
      "execution_count": 59,
      "metadata": {
        "colab": {
          "base_uri": "https://localhost:8080/"
        },
        "id": "SUfeGKD3z0bj",
        "outputId": "d104c9d9-a1da-47b4-a1ba-1ea3ebc48f78"
      },
      "outputs": [
        {
          "data": {
            "text/plain": [
              "0    478\n",
              "2    283\n",
              "1     47\n",
              "Name: sentiment, dtype: int64"
            ]
          },
          "execution_count": 59,
          "metadata": {},
          "output_type": "execute_result"
        }
      ],
      "source": [
        "df.sentiment.value_counts()"
      ]
    },
    {
      "cell_type": "code",
      "execution_count": 60,
      "metadata": {
        "colab": {
          "base_uri": "https://localhost:8080/"
        },
        "id": "dDmyz1le7rRE",
        "outputId": "41595f5a-daf6-4537-8dc6-bf7ea62a7b2f"
      },
      "outputs": [
        {
          "data": {
            "text/plain": [
              "Unnamed: 0               int64\n",
              "reviewId                object\n",
              "userName                object\n",
              "userImage               object\n",
              "content                 object\n",
              "score                    int64\n",
              "thumbsUpCount            int64\n",
              "reviewCreatedVersion    object\n",
              "at                      object\n",
              "replyContent            object\n",
              "repliedAt               object\n",
              "appVersion              object\n",
              "sentiment                int64\n",
              "dtype: object"
            ]
          },
          "execution_count": 60,
          "metadata": {},
          "output_type": "execute_result"
        }
      ],
      "source": [
        "df.dtypes"
      ]
    },
    {
      "cell_type": "code",
      "execution_count": 61,
      "metadata": {
        "colab": {
          "base_uri": "https://localhost:8080/",
          "height": 713
        },
        "id": "O6aj-XZzzIth",
        "outputId": "a69eddcb-31cb-403a-a50d-3e19bd2348b8"
      },
      "outputs": [
        {
          "data": {
            "image/png": "[encoded data removed]",
            "text/plain": [
              "<Figure size 1200x800 with 1 Axes>"
            ]
          },
          "metadata": {
            "image/png": {
              "height": 700,
              "width": 1023
            }
          },
          "output_type": "display_data"
        }
      ],
      "source": [
        "# Plot the distribution\n",
        "class_names = ['negative', 'neutral', 'positive']\n",
        "df.sentiment.value_counts().plot(kind= 'bar', y = class_names)\n",
        "plt.ylabel('Count')\n",
        "plt.xlabel('Sentiment')\n",
        "plt.xticks(rotation=45)  # Rotate x-axis labels if needed\n",
        "\n",
        "# Show the plot\n",
        "plt.show()\n"
      ]
    },
    {
      "cell_type": "code",
      "execution_count": 62,
      "metadata": {},
      "outputs": [],
      "source": [
        "import torch\n",
        "from transformers import RobertaForSequenceClassification, AutoTokenizer\n"
      ]
    },
    {
      "cell_type": "code",
      "execution_count": 63,
      "metadata": {
        "id": "Nm_OyfBO0Ha_"
      },
      "outputs": [
        {
          "name": "stderr",
          "output_type": "stream",
          "text": [
            "Special tokens have been added in the vocabulary, make sure the associated word embeddings are fine-tuned or trained.\n"
          ]
        }
      ],
      "source": [
        "# Set the model name\n",
        "tokenizer = AutoTokenizer.from_pretrained(\"vinai/phobert-base-v2\")\n"
      ]
    },
    {
      "cell_type": "code",
      "execution_count": 64,
      "metadata": {
        "colab": {
          "base_uri": "https://localhost:8080/"
        },
        "id": "q9wgXiEV0yPy",
        "outputId": "7b6ba219-d4ee-4c8c-b888-9ca51768b84c"
      },
      "outputs": [
        {
          "name": "stdout",
          "output_type": "stream",
          "text": [
            "</s> 2\n",
            "<s> 0\n",
            "<pad> 1\n",
            "<unk> 3\n"
          ]
        }
      ],
      "source": [
        "# Some of the common BERT tokens\n",
        "print(tokenizer.sep_token, tokenizer.sep_token_id) # marker for ending of a sentence\n",
        "print(tokenizer.cls_token, tokenizer.cls_token_id) # start of each sentence, so BERT knows we’re doing classification\n",
        "print(tokenizer.pad_token, tokenizer.pad_token_id) # special token for padding\n",
        "print(tokenizer.unk_token, tokenizer.unk_token_id) # tokens not found in training set \n"
      ]
    },
    {
      "cell_type": "code",
      "execution_count": 65,
      "metadata": {},
      "outputs": [],
      "source": [
        "df = df.dropna(subset=['content'])\n"
      ]
    },
    {
      "cell_type": "code",
      "execution_count": 66,
      "metadata": {
        "colab": {
          "base_uri": "https://localhost:8080/"
        },
        "id": "voLj9ru40zUP",
        "outputId": "da6a7093-5937-435c-a3cf-62f0b3f06334"
      },
      "outputs": [],
      "source": [
        "# Store length of each review \n",
        "token_lens = []\n",
        "\n",
        "# Iterate through the content slide\n",
        "for txt in df.content:\n",
        "    \n",
        "    tokens = tokenizer.encode_plus(txt, padding=\"max_length\", truncation=True, max_length=160, return_tensors=\"pt\")\n",
        "    token_lens.append(len(tokens))\n"
      ]
    },
    {
      "cell_type": "code",
      "execution_count": 67,
      "metadata": {
        "colab": {
          "base_uri": "https://localhost:8080/",
          "height": 728
        },
        "id": "ALVbhX5h02RX",
        "outputId": "a9d1f243-01ab-40a2-b6a5-9adb3e2c18ab"
      },
      "outputs": [
        {
          "data": {
            "text/plain": [
              "Text(0.5, 0, 'Token count')"
            ]
          },
          "execution_count": 67,
          "metadata": {},
          "output_type": "execute_result"
        },
        {
          "data": {
            "image/png": "[encoded data removed]",
            "text/plain": [
              "<Figure size 1200x800 with 1 Axes>"
            ]
          },
          "metadata": {
            "image/png": {
              "height": 693,
              "width": 1012
            }
          },
          "output_type": "display_data"
        }
      ],
      "source": [
        "# plot the distribution of review lengths \n",
        "sns.distplot(token_lens)\n",
        "plt.xlim([0, 256])\n",
        "plt.xlabel('Token count')\n"
      ]
    },
    {
      "cell_type": "code",
      "execution_count": 68,
      "metadata": {
        "id": "ajgSitNN1TqW"
      },
      "outputs": [],
      "source": [
        "MAX_LEN = 160\n"
      ]
    },
    {
      "cell_type": "code",
      "execution_count": 69,
      "metadata": {
        "id": "CDB0NOBH1X3N"
      },
      "outputs": [],
      "source": [
        "class GPReviewDataset(Dataset):\n",
        "    # Constructor Function \n",
        "    def __init__(self, reviews, targets, tokenizer, max_len):\n",
        "        self.reviews = reviews\n",
        "        self.targets = targets\n",
        "        self.tokenizer = tokenizer\n",
        "        self.max_len = max_len\n",
        "    \n",
        "    # Length magic method\n",
        "    def __len__(self):\n",
        "        return len(self.reviews)\n",
        "    \n",
        "    # get item magic method\n",
        "    def __getitem__(self, item):\n",
        "        review = str(self.reviews[item])\n",
        "        target = self.targets[item]\n",
        "        \n",
        "        # Encoded format to be returned \n",
        "        encoding = self.tokenizer.encode_plus(\n",
        "            review,\n",
        "            add_special_tokens=True,\n",
        "            max_length=self.max_len,\n",
        "            return_token_type_ids=False,\n",
        "            pad_to_max_length=True,\n",
        "            return_attention_mask=True,\n",
        "            return_tensors='pt',\n",
        "        )\n",
        "        \n",
        "        return {\n",
        "            'review_text': review,\n",
        "            'input_ids': encoding['input_ids'].flatten(),\n",
        "            'attention_mask': encoding['attention_mask'].flatten(),\n",
        "            'targets': torch.tensor(target, dtype=torch.long)\n",
        "        }\n"
      ]
    },
    {
      "cell_type": "code",
      "execution_count": 70,
      "metadata": {
        "id": "GP0LDbLL1guw"
      },
      "outputs": [],
      "source": [
        "RANDOM_SEED = 10"
      ]
    },
    {
      "cell_type": "code",
      "execution_count": 71,
      "metadata": {
        "colab": {
          "base_uri": "https://localhost:8080/"
        },
        "id": "VYAGlU6_1cOF",
        "outputId": "7e05dec7-8752-4e9a-df96-7bf674e587c4"
      },
      "outputs": [
        {
          "name": "stdout",
          "output_type": "stream",
          "text": [
            "(645, 13) (81, 13) (81, 13)\n"
          ]
        }
      ],
      "source": [
        "df_train, df_test = train_test_split(df, test_size=0.2, random_state=RANDOM_SEED)\n",
        "df_val, df_test = train_test_split(df_test, test_size=0.5, random_state=RANDOM_SEED)\n",
        "\n",
        "print(df_train.shape, df_val.shape, df_test.shape)\n"
      ]
    },
    {
      "cell_type": "code",
      "execution_count": 72,
      "metadata": {
        "id": "xDXxrflz1knT"
      },
      "outputs": [],
      "source": [
        "def create_data_loader(df, tokenizer, max_len, batch_size):\n",
        "    ds = GPReviewDataset(\n",
        "        reviews=df.content.to_numpy(),\n",
        "        targets=df.sentiment.to_numpy(),\n",
        "        tokenizer=tokenizer,\n",
        "        max_len=max_len\n",
        "    )\n",
        "    \n",
        "    return DataLoader(\n",
        "        ds,\n",
        "        batch_size=batch_size,\n",
        "        num_workers=0\n",
        "    )\n"
      ]
    },
    {
      "cell_type": "code",
      "execution_count": 73,
      "metadata": {
        "id": "EegYVVwm1lJg"
      },
      "outputs": [],
      "source": [
        "# Create train, test and val data loaders\n",
        "BATCH_SIZE = 16\n",
        "train_data_loader = create_data_loader(df_train, tokenizer, MAX_LEN, BATCH_SIZE)\n",
        "val_data_loader = create_data_loader(df_val, tokenizer, MAX_LEN, BATCH_SIZE)\n",
        "test_data_loader = create_data_loader(df_test, tokenizer, MAX_LEN, BATCH_SIZE)\n"
      ]
    },
    {
      "cell_type": "code",
      "execution_count": 74,
      "metadata": {
        "colab": {
          "base_uri": "https://localhost:8080/"
        },
        "id": "ratHQM9J1nHW",
        "outputId": "354e66fd-5803-438e-87e1-9b37cbceac39"
      },
      "outputs": [
        {
          "name": "stderr",
          "output_type": "stream",
          "text": [
            "Truncation was not explicitly activated but `max_length` is provided a specific value, please use `truncation=True` to explicitly truncate examples to max length. Defaulting to 'longest_first' truncation strategy. If you encode pairs of sequences (GLUE-style) with the tokenizer you can select this strategy more precisely by providing a specific strategy to `truncation`.\n"
          ]
        },
        {
          "name": "stdout",
          "output_type": "stream",
          "text": [
            "dict_keys(['review_text', 'input_ids', 'attention_mask', 'targets'])\n",
            "torch.Size([16, 160])\n",
            "torch.Size([16, 160])\n",
            "torch.Size([16])\n"
          ]
        }
      ],
      "source": [
        "# Examples \n",
        "data = next(iter(train_data_loader))\n",
        "print(data.keys())\n",
        "\n",
        "print(data['input_ids'].shape)\n",
        "print(data['attention_mask'].shape)\n",
        "print(data['targets'].shape)\n"
      ]
    },
    {
      "cell_type": "code",
      "execution_count": 75,
      "metadata": {},
      "outputs": [
        {
          "name": "stderr",
          "output_type": "stream",
          "text": [
            "Special tokens have been added in the vocabulary, make sure the associated word embeddings are fine-tuned or trained.\n"
          ]
        }
      ],
      "source": [
        "from transformers import AutoModel, AutoTokenizer\n",
        "tokenizer = AutoTokenizer.from_pretrained(\"vinai/phobert-base\")\n"
      ]
    },
    {
      "cell_type": "code",
      "execution_count": 76,
      "metadata": {},
      "outputs": [],
      "source": [
        "n_classes = 3"
      ]
    },
    {
      "cell_type": "code",
      "execution_count": 77,
      "metadata": {
        "id": "ck0LxMah1sPh"
      },
      "outputs": [],
      "source": [
        "class SentimentClassifier(nn.Module):\n",
        "    def __init__(self, n_classes):\n",
        "        super(SentimentClassifier, self).__init__()\n",
        "        self.phobert = AutoModel.from_pretrained(\"vinai/phobert-base\")\n",
        "        self.dropout = nn.Dropout(0.3)\n",
        "        self.linear = nn.Linear(self.phobert.config.hidden_size, n_classes)\n",
        "\n",
        "    def forward(self, input_ids, attention_mask):\n",
        "        outputs = self.phobert(input_ids=input_ids, attention_mask=attention_mask)\n",
        "        pooled_output = outputs.pooler_output\n",
        "        pooled_output = self.dropout(pooled_output)\n",
        "        logits = self.linear(pooled_output)\n",
        "        return logits\n"
      ]
    },
    {
      "cell_type": "code",
      "execution_count": 78,
      "metadata": {},
      "outputs": [
        {
          "data": {
            "text/plain": [
              "['negative', 'neutral', 'positive']"
            ]
          },
          "execution_count": 78,
          "metadata": {},
          "output_type": "execute_result"
        }
      ],
      "source": [
        "class_names"
      ]
    },
    {
      "cell_type": "code",
      "execution_count": 79,
      "metadata": {
        "colab": {
          "base_uri": "https://localhost:8080/"
        },
        "id": "mRZFR_Rh1vvS",
        "outputId": "eb69bd83-ccbb-4e60-feb1-8954545ccaed"
      },
      "outputs": [
        {
          "name": "stderr",
          "output_type": "stream",
          "text": [
            "Some weights of the model checkpoint at vinai/phobert-base were not used when initializing RobertaModel: ['lm_head.bias', 'lm_head.layer_norm.weight', 'lm_head.dense.weight', 'lm_head.dense.bias', 'lm_head.decoder.bias', 'lm_head.layer_norm.bias', 'lm_head.decoder.weight']\n",
            "- This IS expected if you are initializing RobertaModel from the checkpoint of a model trained on another task or with another architecture (e.g. initializing a BertForSequenceClassification model from a BertForPreTraining model).\n",
            "- This IS NOT expected if you are initializing RobertaModel from the checkpoint of a model that you expect to be exactly identical (initializing a BertForSequenceClassification model from a BertForSequenceClassification model).\n"
          ]
        }
      ],
      "source": [
        "# Instantiate the model and move to classifier\n",
        "model = SentimentClassifier(len(class_names))\n",
        "model = model.to(device)\n"
      ]
    },
    {
      "cell_type": "code",
      "execution_count": null,
      "metadata": {},
      "outputs": [],
      "source": []
    },
    {
      "cell_type": "code",
      "execution_count": 80,
      "metadata": {
        "id": "TjH80Tnk10_J"
      },
      "outputs": [],
      "source": [
        "# Number of iterations \n",
        "EPOCHS = 1\n",
        "\n",
        "# Optimizer Adam \n",
        "optimizer = AdamW(model.parameters(), lr=2e-5, correct_bias=False)\n",
        "\n",
        "total_steps = len(train_data_loader) * EPOCHS\n",
        "\n",
        "scheduler = get_linear_schedule_with_warmup(\n",
        "    optimizer,\n",
        "    num_warmup_steps=0,\n",
        "    num_training_steps=total_steps\n",
        ")\n",
        "\n",
        "# Set the loss function \n",
        "loss_fn = nn.CrossEntropyLoss().to(device)\n"
      ]
    },
    {
      "cell_type": "code",
      "execution_count": 81,
      "metadata": {
        "id": "74UOGiKcSydx"
      },
      "outputs": [
        {
          "data": {
            "text/plain": [
              "SentimentClassifier(\n",
              "  (phobert): RobertaModel(\n",
              "    (embeddings): RobertaEmbeddings(\n",
              "      (word_embeddings): Embedding(64001, 768, padding_idx=1)\n",
              "      (position_embeddings): Embedding(258, 768, padding_idx=1)\n",
              "      (token_type_embeddings): Embedding(1, 768)\n",
              "      (LayerNorm): LayerNorm((768,), eps=1e-05, elementwise_affine=True)\n",
              "      (dropout): Dropout(p=0.1, inplace=False)\n",
              "    )\n",
              "    (encoder): RobertaEncoder(\n",
              "      (layer): ModuleList(\n",
              "        (0-11): 12 x RobertaLayer(\n",
              "          (attention): RobertaAttention(\n",
              "            (self): RobertaSelfAttention(\n",
              "              (query): Linear(in_features=768, out_features=768, bias=True)\n",
              "              (key): Linear(in_features=768, out_features=768, bias=True)\n",
              "              (value): Linear(in_features=768, out_features=768, bias=True)\n",
              "              (dropout): Dropout(p=0.1, inplace=False)\n",
              "            )\n",
              "            (output): RobertaSelfOutput(\n",
              "              (dense): Linear(in_features=768, out_features=768, bias=True)\n",
              "              (LayerNorm): LayerNorm((768,), eps=1e-05, elementwise_affine=True)\n",
              "              (dropout): Dropout(p=0.1, inplace=False)\n",
              "            )\n",
              "          )\n",
              "          (intermediate): RobertaIntermediate(\n",
              "            (dense): Linear(in_features=768, out_features=3072, bias=True)\n",
              "            (intermediate_act_fn): GELUActivation()\n",
              "          )\n",
              "          (output): RobertaOutput(\n",
              "            (dense): Linear(in_features=3072, out_features=768, bias=True)\n",
              "            (LayerNorm): LayerNorm((768,), eps=1e-05, elementwise_affine=True)\n",
              "            (dropout): Dropout(p=0.1, inplace=False)\n",
              "          )\n",
              "        )\n",
              "      )\n",
              "    )\n",
              "    (pooler): RobertaPooler(\n",
              "      (dense): Linear(in_features=768, out_features=768, bias=True)\n",
              "      (activation): Tanh()\n",
              "    )\n",
              "  )\n",
              "  (dropout): Dropout(p=0.3, inplace=False)\n",
              "  (linear): Linear(in_features=768, out_features=3, bias=True)\n",
              ")"
            ]
          },
          "execution_count": 81,
          "metadata": {},
          "output_type": "execute_result"
        }
      ],
      "source": [
        "model"
      ]
    },
    {
      "cell_type": "code",
      "execution_count": 82,
      "metadata": {
        "id": "Rku9XvFfSPT3"
      },
      "outputs": [],
      "source": [
        "model = model.to(device)\n"
      ]
    },
    {
      "cell_type": "code",
      "execution_count": 83,
      "metadata": {
        "id": "eU4FZtbe11J5"
      },
      "outputs": [],
      "source": [
        "# Function for a single training iteration\n",
        "def train_epoch(model, data_loader, loss_fn, optimizer, device, scheduler, n_examples):\n",
        "    model = model.train()\n",
        "    losses = []\n",
        "    correct_predictions = 0\n",
        "    \n",
        "    for d in data_loader:\n",
        "        input_ids = d[\"input_ids\"].to(device)\n",
        "        attention_mask = d[\"attention_mask\"].to(device)\n",
        "        targets = d[\"targets\"].to(device)\n",
        "\n",
        "\n",
        "        outputs = model(\n",
        "            input_ids = input_ids,\n",
        "            attention_mask=attention_mask\n",
        "        )\n",
        "        \n",
        "        _, preds = torch.max(outputs, dim=1)\n",
        "        loss = loss_fn(outputs, targets)\n",
        "        correct_predictions += torch.sum(preds == targets)\n",
        "        losses.append(loss.item())\n",
        "        \n",
        "        # Backward prop\n",
        "        loss.backward()\n",
        "        \n",
        "        # Gradient Descent\n",
        "        nn.utils.clip_grad_norm_(model.parameters(), max_norm=1.0)\n",
        "        optimizer.step()\n",
        "        scheduler.step()\n",
        "        optimizer.zero_grad()\n",
        "    \n",
        "    return correct_predictions.double() / n_examples, np.mean(losses)"
      ]
    },
    {
      "cell_type": "code",
      "execution_count": 84,
      "metadata": {
        "id": "grICix9b2UJ7"
      },
      "outputs": [],
      "source": [
        "def eval_model(model, data_loader, loss_fn, device, n_examples):\n",
        "    model = model.eval()\n",
        "    \n",
        "    losses = []\n",
        "    correct_predictions = 0\n",
        "    \n",
        "    with torch.no_grad():\n",
        "        for d in data_loader:\n",
        "            input_ids = d[\"input_ids\"].to(device)\n",
        "            attention_mask = d[\"attention_mask\"].to(device)\n",
        "            targets = d[\"targets\"].to(device)\n",
        "            \n",
        "            # Get model ouptuts\n",
        "            outputs = model(\n",
        "                input_ids=input_ids,\n",
        "                attention_mask=attention_mask\n",
        "            )\n",
        "            \n",
        "            _, preds = torch.max(outputs, dim=1)\n",
        "            loss = loss_fn(outputs, targets)\n",
        "            \n",
        "            correct_predictions += torch.sum(preds == targets)\n",
        "            losses.append(loss.item())\n",
        "            \n",
        "    return correct_predictions.double() / n_examples, np.mean(losses)\n"
      ]
    },
    {
      "cell_type": "code",
      "execution_count": 85,
      "metadata": {
        "colab": {
          "base_uri": "https://localhost:8080/"
        },
        "id": "VkRN3yf-2GyU",
        "outputId": "3eac8e98-af38-4366-f244-27773e63e3ce"
      },
      "outputs": [
        {
          "name": "stdout",
          "output_type": "stream",
          "text": [
            "Epoch 1/1\n",
            "----------\n",
            "targets\n",
            "torch.Size([16, 160])\n",
            "targets\n",
            "torch.Size([16, 160])\n",
            "targets\n",
            "torch.Size([16, 160])\n",
            "targets\n",
            "torch.Size([16, 160])\n",
            "targets\n",
            "torch.Size([16, 160])\n",
            "targets\n",
            "torch.Size([16, 160])\n",
            "targets\n",
            "torch.Size([16, 160])\n",
            "targets\n",
            "torch.Size([16, 160])\n",
            "targets\n",
            "torch.Size([16, 160])\n",
            "targets\n",
            "torch.Size([16, 160])\n",
            "targets\n",
            "torch.Size([16, 160])\n",
            "targets\n",
            "torch.Size([16, 160])\n",
            "targets\n",
            "torch.Size([16, 160])\n",
            "targets\n",
            "torch.Size([16, 160])\n",
            "targets\n",
            "torch.Size([16, 160])\n",
            "targets\n",
            "torch.Size([16, 160])\n",
            "targets\n",
            "torch.Size([16, 160])\n",
            "targets\n",
            "torch.Size([16, 160])\n",
            "targets\n",
            "torch.Size([16, 160])\n",
            "targets\n",
            "torch.Size([16, 160])\n",
            "targets\n",
            "torch.Size([16, 160])\n",
            "targets\n",
            "torch.Size([16, 160])\n",
            "targets\n",
            "torch.Size([16, 160])\n",
            "targets\n",
            "torch.Size([16, 160])\n",
            "targets\n",
            "torch.Size([16, 160])\n",
            "targets\n",
            "torch.Size([16, 160])\n",
            "targets\n",
            "torch.Size([16, 160])\n",
            "targets\n",
            "torch.Size([16, 160])\n",
            "targets\n",
            "torch.Size([16, 160])\n",
            "targets\n",
            "torch.Size([16, 160])\n",
            "targets\n",
            "torch.Size([16, 160])\n",
            "targets\n",
            "torch.Size([16, 160])\n",
            "targets\n",
            "torch.Size([16, 160])\n",
            "targets\n",
            "torch.Size([16, 160])\n",
            "targets\n",
            "torch.Size([16, 160])\n",
            "targets\n",
            "torch.Size([16, 160])\n",
            "targets\n",
            "torch.Size([16, 160])\n",
            "targets\n",
            "torch.Size([16, 160])\n",
            "targets\n",
            "torch.Size([16, 160])\n",
            "targets\n",
            "torch.Size([16, 160])\n",
            "targets\n",
            "torch.Size([5, 160])\n",
            "Train loss 0.7606724776872774 accuracy 0.6852713178294574\n",
            "Val   loss 0.6889312267303467 accuracy 0.7530864197530864\n",
            "\n",
            "CPU times: user 23min 48s, sys: 2min, total: 25min 48s\n",
            "Wall time: 13min 34s\n"
          ]
        }
      ],
      "source": [
        "%%time\n",
        "\n",
        "history = defaultdict(list)\n",
        "best_accuracy = 0\n",
        "\n",
        "for epoch in range(EPOCHS):\n",
        "    \n",
        "    # Show details \n",
        "    print(f\"Epoch {epoch + 1}/{EPOCHS}\")\n",
        "    print(\"-\" * 10)\n",
        "    \n",
        "    train_acc, train_loss = train_epoch(\n",
        "        model,\n",
        "        train_data_loader,\n",
        "        loss_fn,\n",
        "        optimizer,\n",
        "        device,\n",
        "        scheduler,\n",
        "        len(df_train)\n",
        "    )\n",
        "    \n",
        "    print(f\"Train loss {train_loss} accuracy {train_acc}\")\n",
        "    \n",
        "    # Get model performance (accuracy and loss)\n",
        "    val_acc, val_loss = eval_model(\n",
        "        model,\n",
        "        val_data_loader,\n",
        "        loss_fn,\n",
        "        device,\n",
        "        len(df_val)\n",
        "    )\n",
        "    \n",
        "    print(f\"Val   loss {val_loss} accuracy {val_acc}\")\n",
        "    print()\n",
        "    \n",
        "    history['train_acc'].append(train_acc)\n",
        "    history['train_loss'].append(train_loss)\n",
        "    history['val_acc'].append(val_acc)\n",
        "    history['val_loss'].append(val_loss)\n",
        "    \n",
        "    # If we beat prev performance\n",
        "    if val_acc > best_accuracy:\n",
        "        torch.save(model.state_dict(), 'best_model_state.bin')\n",
        "        best_accuracy = val_acc"
      ]
    },
    {
      "attachments": {},
      "cell_type": "markdown",
      "metadata": {
        "id": "r9HmYGjJPTOZ"
      },
      "source": []
    }
  ],
  "metadata": {
    "accelerator": "GPU",
    "colab": {
      "gpuType": "T4",
      "provenance": []
    },
    "kernelspec": {
      "display_name": "Python 3",
      "name": "python3"
    },
    "language_info": {
      "codemirror_mode": {
        "name": "ipython",
        "version": 3
      },
      "file_extension": ".py",
      "mimetype": "text/x-python",
      "name": "python",
      "nbconvert_exporter": "python",
      "pygments_lexer": "ipython3",
      "version": "3.10.6"
    }
  },
  "nbformat": 4,
  "nbformat_minor": 0
}
