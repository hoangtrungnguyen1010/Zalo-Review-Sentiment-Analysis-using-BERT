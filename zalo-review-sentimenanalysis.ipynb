{
 "cells": [
  {
   "cell_type": "code",
   "execution_count": 1,
   "id": "bb532b76",
   "metadata": {
    "execution": {
     "iopub.execute_input": "2023-07-07T17:54:32.961435Z",
     "iopub.status.busy": "2023-07-07T17:54:32.960640Z",
     "iopub.status.idle": "2023-07-07T17:54:32.973404Z",
     "shell.execute_reply": "2023-07-07T17:54:32.972559Z"
    },
    "papermill": {
     "duration": 0.029478,
     "end_time": "2023-07-07T17:54:32.975327",
     "exception": false,
     "start_time": "2023-07-07T17:54:32.945849",
     "status": "completed"
    },
    "tags": []
   },
   "outputs": [],
   "source": [
    "import numpy as np\n",
    "import pandas as pd"
   ]
  },
  {
   "cell_type": "code",
   "execution_count": 2,
   "id": "d3b1f6ae",
   "metadata": {
    "execution": {
     "iopub.execute_input": "2023-07-07T17:54:33.001843Z",
     "iopub.status.busy": "2023-07-07T17:54:33.001568Z",
     "iopub.status.idle": "2023-07-07T17:54:45.559696Z",
     "shell.execute_reply": "2023-07-07T17:54:45.558731Z"
    },
    "papermill": {
     "duration": 12.573882,
     "end_time": "2023-07-07T17:54:45.561969",
     "exception": false,
     "start_time": "2023-07-07T17:54:32.988087",
     "status": "completed"
    },
    "tags": []
   },
   "outputs": [
    {
     "name": "stderr",
     "output_type": "stream",
     "text": [
      "/opt/conda/lib/python3.10/site-packages/tensorflow_io/python/ops/__init__.py:98: UserWarning: unable to load libtensorflow_io_plugins.so: unable to open file: libtensorflow_io_plugins.so, from paths: ['/opt/conda/lib/python3.10/site-packages/tensorflow_io/python/ops/libtensorflow_io_plugins.so']\n",
      "caused by: ['/opt/conda/lib/python3.10/site-packages/tensorflow_io/python/ops/libtensorflow_io_plugins.so: undefined symbol: _ZN3tsl6StatusC1EN10tensorflow5error4CodeESt17basic_string_viewIcSt11char_traitsIcEENS_14SourceLocationE']\n",
      "  warnings.warn(f\"unable to load libtensorflow_io_plugins.so: {e}\")\n",
      "/opt/conda/lib/python3.10/site-packages/tensorflow_io/python/ops/__init__.py:104: UserWarning: file system plugins are not loaded: unable to open file: libtensorflow_io.so, from paths: ['/opt/conda/lib/python3.10/site-packages/tensorflow_io/python/ops/libtensorflow_io.so']\n",
      "caused by: ['/opt/conda/lib/python3.10/site-packages/tensorflow_io/python/ops/libtensorflow_io.so: undefined symbol: _ZTVN10tensorflow13GcsFileSystemE']\n",
      "  warnings.warn(f\"file system plugins are not loaded: {e}\")\n"
     ]
    }
   ],
   "source": [
    "import torch\n",
    "from torch.utils.data import TensorDataset, DataLoader, RandomSampler, SequentialSampler\n",
    "from transformers import BertTokenizer, BertForSequenceClassification\n",
    "from sklearn.model_selection import train_test_split\n",
    "\n",
    "import pandas as pd\n",
    "import numpy as np\n",
    "import seaborn as sns\n",
    "\n",
    "from tabulate import tabulate\n",
    "from tqdm import trange\n",
    "import random\n",
    "\n",
    "from datasets import load_dataset\n",
    "\n",
    "import matplotlib.pyplot as plt\n",
    "from sklearn.metrics import accuracy_score, recall_score, precision_score, f1_score\n",
    "from sklearn.metrics import confusion_matrix, classification_report\n",
    "from sklearn.model_selection import train_test_split\n",
    "import torch\n",
    "from transformers import BertTokenizer, BertForSequenceClassification, AutoModel\n",
    "\n",
    "from torch.utils.data import DataLoader, Dataset\n",
    "from torch.optim import AdamW\n",
    "from transformers import get_scheduler\n",
    "from collections import defaultdict\n",
    "from torch import nn, optim\n",
    "from torch.utils.data import Dataset, DataLoader\n"
   ]
  },
  {
   "cell_type": "code",
   "execution_count": 3,
   "id": "e136be6f",
   "metadata": {
    "execution": {
     "iopub.execute_input": "2023-07-07T17:54:45.590235Z",
     "iopub.status.busy": "2023-07-07T17:54:45.588825Z",
     "iopub.status.idle": "2023-07-07T17:54:45.788679Z",
     "shell.execute_reply": "2023-07-07T17:54:45.787722Z"
    },
    "id": "8rtIh2NJxXGY",
    "outputId": "f57f7d90-222f-492d-a307-5e2ce5b4a88c",
    "papermill": {
     "duration": 0.215916,
     "end_time": "2023-07-07T17:54:45.790990",
     "exception": false,
     "start_time": "2023-07-07T17:54:45.575074",
     "status": "completed"
    },
    "tags": []
   },
   "outputs": [],
   "source": [
    "df = pd.read_csv('../input/dataset/dataset.csv')\n",
    "\n",
    "\n"
   ]
  },
  {
   "cell_type": "code",
   "execution_count": 4,
   "id": "b4eb78e0",
   "metadata": {
    "execution": {
     "iopub.execute_input": "2023-07-07T17:54:45.818309Z",
     "iopub.status.busy": "2023-07-07T17:54:45.817967Z",
     "iopub.status.idle": "2023-07-07T17:54:45.840105Z",
     "shell.execute_reply": "2023-07-07T17:54:45.839066Z"
    },
    "papermill": {
     "duration": 0.038552,
     "end_time": "2023-07-07T17:54:45.842832",
     "exception": false,
     "start_time": "2023-07-07T17:54:45.804280",
     "status": "completed"
    },
    "tags": []
   },
   "outputs": [
    {
     "data": {
      "text/html": [
       "<div>\n",
       "<style scoped>\n",
       "    .dataframe tbody tr th:only-of-type {\n",
       "        vertical-align: middle;\n",
       "    }\n",
       "\n",
       "    .dataframe tbody tr th {\n",
       "        vertical-align: top;\n",
       "    }\n",
       "\n",
       "    .dataframe thead th {\n",
       "        text-align: right;\n",
       "    }\n",
       "</style>\n",
       "<table border=\"1\" class=\"dataframe\">\n",
       "  <thead>\n",
       "    <tr style=\"text-align: right;\">\n",
       "      <th></th>\n",
       "      <th>Unnamed: 0</th>\n",
       "      <th>reviewId</th>\n",
       "      <th>userName</th>\n",
       "      <th>userImage</th>\n",
       "      <th>content</th>\n",
       "      <th>score</th>\n",
       "      <th>thumbsUpCount</th>\n",
       "      <th>reviewCreatedVersion</th>\n",
       "      <th>at</th>\n",
       "      <th>replyContent</th>\n",
       "      <th>repliedAt</th>\n",
       "      <th>appVersion</th>\n",
       "    </tr>\n",
       "  </thead>\n",
       "  <tbody>\n",
       "    <tr>\n",
       "      <th>0</th>\n",
       "      <td>0</td>\n",
       "      <td>f309bce7-7485-4c94-9853-efe16b49200f</td>\n",
       "      <td>nguyen tat dat mai</td>\n",
       "      <td>https://play-lh.googleusercontent.com/a-/AD_cM...</td>\n",
       "      <td>Update xong tìm quanh đây không dùng được nữa....</td>\n",
       "      <td>1</td>\n",
       "      <td>25</td>\n",
       "      <td>19.01.02.medium</td>\n",
       "      <td>2023-06-24 08:44:24</td>\n",
       "      <td>Chào bạn, hiện tại tính năng này Zalo đang tạm...</td>\n",
       "      <td>2020-09-04 15:52:40</td>\n",
       "      <td>19.01.02.medium</td>\n",
       "    </tr>\n",
       "    <tr>\n",
       "      <th>1</th>\n",
       "      <td>1</td>\n",
       "      <td>c7c762a4-e60a-40af-ae3b-c8005fb87e49</td>\n",
       "      <td>Harrier</td>\n",
       "      <td>https://play-lh.googleusercontent.com/a-/AD_cM...</td>\n",
       "      <td>Tính năng liên quan đến số tài khoản ngân hàng...</td>\n",
       "      <td>1</td>\n",
       "      <td>0</td>\n",
       "      <td>23.05.02</td>\n",
       "      <td>2023-06-24 08:32:36</td>\n",
       "      <td>NaN</td>\n",
       "      <td>NaN</td>\n",
       "      <td>23.05.02</td>\n",
       "    </tr>\n",
       "    <tr>\n",
       "      <th>2</th>\n",
       "      <td>2</td>\n",
       "      <td>a88a748b-4f11-42de-a536-44e7ddc8659a</td>\n",
       "      <td>Leo 2_1</td>\n",
       "      <td>https://play-lh.googleusercontent.com/a/AAcHTt...</td>\n",
       "      <td>Khi truy cập vào báo rất lag không truy cập được</td>\n",
       "      <td>2</td>\n",
       "      <td>0</td>\n",
       "      <td>23.05.02</td>\n",
       "      <td>2023-06-23 21:39:50</td>\n",
       "      <td>NaN</td>\n",
       "      <td>NaN</td>\n",
       "      <td>23.05.02</td>\n",
       "    </tr>\n",
       "    <tr>\n",
       "      <th>3</th>\n",
       "      <td>3</td>\n",
       "      <td>6c243ea9-65ca-40f7-9d68-49a2a6158939</td>\n",
       "      <td>စိုး ေအာင္</td>\n",
       "      <td>https://play-lh.googleusercontent.com/a/AAcHTt...</td>\n",
       "      <td>good for me before</td>\n",
       "      <td>3</td>\n",
       "      <td>0</td>\n",
       "      <td>NaN</td>\n",
       "      <td>2023-06-23 17:05:23</td>\n",
       "      <td>NaN</td>\n",
       "      <td>NaN</td>\n",
       "      <td>NaN</td>\n",
       "    </tr>\n",
       "    <tr>\n",
       "      <th>4</th>\n",
       "      <td>4</td>\n",
       "      <td>60c2a70c-8384-4a74-ae6e-b5178ae6944b</td>\n",
       "      <td>Huyền Thanh</td>\n",
       "      <td>https://play-lh.googleusercontent.com/a/AAcHTt...</td>\n",
       "      <td>Không an toàn. Zalo bị phát hiện sử dụng máy ả...</td>\n",
       "      <td>1</td>\n",
       "      <td>0</td>\n",
       "      <td>NaN</td>\n",
       "      <td>2023-06-23 15:35:30</td>\n",
       "      <td>Chào bạn. Để tiện hỗ trợ bạn hơn, bạn vui lòng...</td>\n",
       "      <td>2023-06-23 15:52:47</td>\n",
       "      <td>NaN</td>\n",
       "    </tr>\n",
       "  </tbody>\n",
       "</table>\n",
       "</div>"
      ],
      "text/plain": [
       "  Unnamed: 0                              reviewId            userName  \\\n",
       "0          0  f309bce7-7485-4c94-9853-efe16b49200f  nguyen tat dat mai   \n",
       "1          1  c7c762a4-e60a-40af-ae3b-c8005fb87e49             Harrier   \n",
       "2          2  a88a748b-4f11-42de-a536-44e7ddc8659a             Leo 2_1   \n",
       "3          3  6c243ea9-65ca-40f7-9d68-49a2a6158939          စိုး ေအာင္   \n",
       "4          4  60c2a70c-8384-4a74-ae6e-b5178ae6944b         Huyền Thanh   \n",
       "\n",
       "                                           userImage  \\\n",
       "0  https://play-lh.googleusercontent.com/a-/AD_cM...   \n",
       "1  https://play-lh.googleusercontent.com/a-/AD_cM...   \n",
       "2  https://play-lh.googleusercontent.com/a/AAcHTt...   \n",
       "3  https://play-lh.googleusercontent.com/a/AAcHTt...   \n",
       "4  https://play-lh.googleusercontent.com/a/AAcHTt...   \n",
       "\n",
       "                                             content  score thumbsUpCount  \\\n",
       "0  Update xong tìm quanh đây không dùng được nữa....      1            25   \n",
       "1  Tính năng liên quan đến số tài khoản ngân hàng...      1             0   \n",
       "2   Khi truy cập vào báo rất lag không truy cập được      2             0   \n",
       "3                                 good for me before      3             0   \n",
       "4  Không an toàn. Zalo bị phát hiện sử dụng máy ả...      1             0   \n",
       "\n",
       "  reviewCreatedVersion                   at  \\\n",
       "0      19.01.02.medium  2023-06-24 08:44:24   \n",
       "1             23.05.02  2023-06-24 08:32:36   \n",
       "2             23.05.02  2023-06-23 21:39:50   \n",
       "3                  NaN  2023-06-23 17:05:23   \n",
       "4                  NaN  2023-06-23 15:35:30   \n",
       "\n",
       "                                        replyContent            repliedAt  \\\n",
       "0  Chào bạn, hiện tại tính năng này Zalo đang tạm...  2020-09-04 15:52:40   \n",
       "1                                                NaN                  NaN   \n",
       "2                                                NaN                  NaN   \n",
       "3                                                NaN                  NaN   \n",
       "4  Chào bạn. Để tiện hỗ trợ bạn hơn, bạn vui lòng...  2023-06-23 15:52:47   \n",
       "\n",
       "        appVersion  \n",
       "0  19.01.02.medium  \n",
       "1         23.05.02  \n",
       "2         23.05.02  \n",
       "3              NaN  \n",
       "4              NaN  "
      ]
     },
     "execution_count": 4,
     "metadata": {},
     "output_type": "execute_result"
    }
   ],
   "source": [
    "df.head()"
   ]
  },
  {
   "cell_type": "code",
   "execution_count": 5,
   "id": "b67e4c6d",
   "metadata": {
    "execution": {
     "iopub.execute_input": "2023-07-07T17:54:45.870771Z",
     "iopub.status.busy": "2023-07-07T17:54:45.870480Z",
     "iopub.status.idle": "2023-07-07T17:54:45.880411Z",
     "shell.execute_reply": "2023-07-07T17:54:45.879585Z"
    },
    "id": "7KokQ0tAyxOa",
    "papermill": {
     "duration": 0.026105,
     "end_time": "2023-07-07T17:54:45.882281",
     "exception": false,
     "start_time": "2023-07-07T17:54:45.856176",
     "status": "completed"
    },
    "tags": []
   },
   "outputs": [],
   "source": [
    "# Import necessary libraries\n",
    "import numpy as np\n",
    "import pandas as pd\n",
    "import seaborn as sns\n",
    "from pylab import rcParams\n",
    "import matplotlib.pyplot as plt\n",
    "from matplotlib import rc\n",
    "from sklearn.model_selection import train_test_split\n",
    "from sklearn.metrics import confusion_matrix, classification_report\n",
    "from collections import defaultdict\n",
    "from textwrap import wrap\n",
    "\n",
    "# Torch ML libraries\n",
    "import transformers\n",
    "from transformers import BertModel, BertTokenizer, AdamW, get_linear_schedule_with_warmup\n",
    "import torch\n",
    "from torch import nn, optim\n",
    "from torch.utils.data import Dataset, DataLoader\n",
    "\n",
    "# Misc.\n",
    "import warnings\n",
    "warnings.filterwarnings('ignore')\n"
   ]
  },
  {
   "cell_type": "code",
   "execution_count": 6,
   "id": "13070b5c",
   "metadata": {
    "execution": {
     "iopub.execute_input": "2023-07-07T17:54:45.909133Z",
     "iopub.status.busy": "2023-07-07T17:54:45.908868Z",
     "iopub.status.idle": "2023-07-07T17:54:45.993513Z",
     "shell.execute_reply": "2023-07-07T17:54:45.992535Z"
    },
    "id": "r4-GiEN9y4-O",
    "papermill": {
     "duration": 0.100873,
     "end_time": "2023-07-07T17:54:45.996031",
     "exception": false,
     "start_time": "2023-07-07T17:54:45.895158",
     "status": "completed"
    },
    "tags": []
   },
   "outputs": [],
   "source": [
    "# Set intial variables and constants\n",
    "%config InlineBackend.figure_format='retina'\n",
    "\n",
    "# Graph Designs\n",
    "sns.set(style='whitegrid', palette='muted', font_scale=1.2)\n",
    "HAPPY_COLORS_PALETTE = [\"#01BEFE\", \"#FFDD00\", \"#FF7D00\", \"#FF006D\", \"#ADFF02\", \"#8F00FF\"]\n",
    "sns.set_palette(sns.color_palette(HAPPY_COLORS_PALETTE))\n",
    "rcParams['figure.figsize'] = 12, 8\n",
    "\n",
    "# Random seed for reproducibilty\n",
    "RANDOM_SEED = 42\n",
    "np.random.seed(RANDOM_SEED)\n",
    "torch.manual_seed(RANDOM_SEED)\n",
    "\n",
    "# Set GPU\n",
    "device = torch.device(\"cuda\" if torch.cuda.is_available() else \"cpu\")"
   ]
  },
  {
   "cell_type": "code",
   "execution_count": 7,
   "id": "42f9812d",
   "metadata": {
    "execution": {
     "iopub.execute_input": "2023-07-07T17:54:46.025052Z",
     "iopub.status.busy": "2023-07-07T17:54:46.023462Z",
     "iopub.status.idle": "2023-07-07T17:54:46.030036Z",
     "shell.execute_reply": "2023-07-07T17:54:46.029174Z"
    },
    "id": "iqI_pztLy8xK",
    "papermill": {
     "duration": 0.02264,
     "end_time": "2023-07-07T17:54:46.031921",
     "exception": false,
     "start_time": "2023-07-07T17:54:46.009281",
     "status": "completed"
    },
    "tags": []
   },
   "outputs": [],
   "source": [
    "# Function to convert score to sentiment\n",
    "def to_sentiment(rating):\n",
    "    \n",
    "    rating = int(rating)\n",
    "    \n",
    "    # Convert to class\n",
    "    if rating <= 2:\n",
    "        return 0\n",
    "    elif rating == 3:\n",
    "        return 1\n",
    "    else:\n",
    "        return 2\n",
    "\n"
   ]
  },
  {
   "cell_type": "code",
   "execution_count": 8,
   "id": "7c9d9e8d",
   "metadata": {
    "execution": {
     "iopub.execute_input": "2023-07-07T17:54:46.060670Z",
     "iopub.status.busy": "2023-07-07T17:54:46.059171Z",
     "iopub.status.idle": "2023-07-07T17:54:46.078561Z",
     "shell.execute_reply": "2023-07-07T17:54:46.077709Z"
    },
    "id": "zbe4eOOr7qN-",
    "papermill": {
     "duration": 0.035625,
     "end_time": "2023-07-07T17:54:46.080628",
     "exception": false,
     "start_time": "2023-07-07T17:54:46.045003",
     "status": "completed"
    },
    "tags": []
   },
   "outputs": [],
   "source": [
    "# Apply to the dataset \n",
    "df['sentiment'] = df.score.apply(to_sentiment)\n"
   ]
  },
  {
   "cell_type": "code",
   "execution_count": 9,
   "id": "e2712a58",
   "metadata": {
    "execution": {
     "iopub.execute_input": "2023-07-07T17:54:46.107780Z",
     "iopub.status.busy": "2023-07-07T17:54:46.107503Z",
     "iopub.status.idle": "2023-07-07T17:54:46.129910Z",
     "shell.execute_reply": "2023-07-07T17:54:46.129049Z"
    },
    "id": "9dpOjGbuzTR3",
    "outputId": "54b610dd-4cdc-4ae3-8dda-beb0dce9f317",
    "papermill": {
     "duration": 0.038347,
     "end_time": "2023-07-07T17:54:46.132025",
     "exception": false,
     "start_time": "2023-07-07T17:54:46.093678",
     "status": "completed"
    },
    "tags": []
   },
   "outputs": [
    {
     "data": {
      "text/html": [
       "<div>\n",
       "<style scoped>\n",
       "    .dataframe tbody tr th:only-of-type {\n",
       "        vertical-align: middle;\n",
       "    }\n",
       "\n",
       "    .dataframe tbody tr th {\n",
       "        vertical-align: top;\n",
       "    }\n",
       "\n",
       "    .dataframe thead th {\n",
       "        text-align: right;\n",
       "    }\n",
       "</style>\n",
       "<table border=\"1\" class=\"dataframe\">\n",
       "  <thead>\n",
       "    <tr style=\"text-align: right;\">\n",
       "      <th></th>\n",
       "      <th>Unnamed: 0</th>\n",
       "      <th>reviewId</th>\n",
       "      <th>userName</th>\n",
       "      <th>userImage</th>\n",
       "      <th>content</th>\n",
       "      <th>score</th>\n",
       "      <th>thumbsUpCount</th>\n",
       "      <th>reviewCreatedVersion</th>\n",
       "      <th>at</th>\n",
       "      <th>replyContent</th>\n",
       "      <th>repliedAt</th>\n",
       "      <th>appVersion</th>\n",
       "      <th>sentiment</th>\n",
       "    </tr>\n",
       "  </thead>\n",
       "  <tbody>\n",
       "    <tr>\n",
       "      <th>0</th>\n",
       "      <td>0</td>\n",
       "      <td>f309bce7-7485-4c94-9853-efe16b49200f</td>\n",
       "      <td>nguyen tat dat mai</td>\n",
       "      <td>https://play-lh.googleusercontent.com/a-/AD_cM...</td>\n",
       "      <td>Update xong tìm quanh đây không dùng được nữa....</td>\n",
       "      <td>1</td>\n",
       "      <td>25</td>\n",
       "      <td>19.01.02.medium</td>\n",
       "      <td>2023-06-24 08:44:24</td>\n",
       "      <td>Chào bạn, hiện tại tính năng này Zalo đang tạm...</td>\n",
       "      <td>2020-09-04 15:52:40</td>\n",
       "      <td>19.01.02.medium</td>\n",
       "      <td>0</td>\n",
       "    </tr>\n",
       "    <tr>\n",
       "      <th>1</th>\n",
       "      <td>1</td>\n",
       "      <td>c7c762a4-e60a-40af-ae3b-c8005fb87e49</td>\n",
       "      <td>Harrier</td>\n",
       "      <td>https://play-lh.googleusercontent.com/a-/AD_cM...</td>\n",
       "      <td>Tính năng liên quan đến số tài khoản ngân hàng...</td>\n",
       "      <td>1</td>\n",
       "      <td>0</td>\n",
       "      <td>23.05.02</td>\n",
       "      <td>2023-06-24 08:32:36</td>\n",
       "      <td>NaN</td>\n",
       "      <td>NaN</td>\n",
       "      <td>23.05.02</td>\n",
       "      <td>0</td>\n",
       "    </tr>\n",
       "    <tr>\n",
       "      <th>2</th>\n",
       "      <td>2</td>\n",
       "      <td>a88a748b-4f11-42de-a536-44e7ddc8659a</td>\n",
       "      <td>Leo 2_1</td>\n",
       "      <td>https://play-lh.googleusercontent.com/a/AAcHTt...</td>\n",
       "      <td>Khi truy cập vào báo rất lag không truy cập được</td>\n",
       "      <td>2</td>\n",
       "      <td>0</td>\n",
       "      <td>23.05.02</td>\n",
       "      <td>2023-06-23 21:39:50</td>\n",
       "      <td>NaN</td>\n",
       "      <td>NaN</td>\n",
       "      <td>23.05.02</td>\n",
       "      <td>0</td>\n",
       "    </tr>\n",
       "    <tr>\n",
       "      <th>3</th>\n",
       "      <td>3</td>\n",
       "      <td>6c243ea9-65ca-40f7-9d68-49a2a6158939</td>\n",
       "      <td>စိုး ေအာင္</td>\n",
       "      <td>https://play-lh.googleusercontent.com/a/AAcHTt...</td>\n",
       "      <td>good for me before</td>\n",
       "      <td>3</td>\n",
       "      <td>0</td>\n",
       "      <td>NaN</td>\n",
       "      <td>2023-06-23 17:05:23</td>\n",
       "      <td>NaN</td>\n",
       "      <td>NaN</td>\n",
       "      <td>NaN</td>\n",
       "      <td>1</td>\n",
       "    </tr>\n",
       "    <tr>\n",
       "      <th>4</th>\n",
       "      <td>4</td>\n",
       "      <td>60c2a70c-8384-4a74-ae6e-b5178ae6944b</td>\n",
       "      <td>Huyền Thanh</td>\n",
       "      <td>https://play-lh.googleusercontent.com/a/AAcHTt...</td>\n",
       "      <td>Không an toàn. Zalo bị phát hiện sử dụng máy ả...</td>\n",
       "      <td>1</td>\n",
       "      <td>0</td>\n",
       "      <td>NaN</td>\n",
       "      <td>2023-06-23 15:35:30</td>\n",
       "      <td>Chào bạn. Để tiện hỗ trợ bạn hơn, bạn vui lòng...</td>\n",
       "      <td>2023-06-23 15:52:47</td>\n",
       "      <td>NaN</td>\n",
       "      <td>0</td>\n",
       "    </tr>\n",
       "    <tr>\n",
       "      <th>...</th>\n",
       "      <td>...</td>\n",
       "      <td>...</td>\n",
       "      <td>...</td>\n",
       "      <td>...</td>\n",
       "      <td>...</td>\n",
       "      <td>...</td>\n",
       "      <td>...</td>\n",
       "      <td>...</td>\n",
       "      <td>...</td>\n",
       "      <td>...</td>\n",
       "      <td>...</td>\n",
       "      <td>...</td>\n",
       "      <td>...</td>\n",
       "    </tr>\n",
       "    <tr>\n",
       "      <th>95</th>\n",
       "      <td>95</td>\n",
       "      <td>e6a705e2-9fb8-472c-95aa-fe7f9ac01349</td>\n",
       "      <td>Dj Dj</td>\n",
       "      <td>https://play-lh.googleusercontent.com/a/AAcHTt...</td>\n",
       "      <td>You</td>\n",
       "      <td>5</td>\n",
       "      <td>0</td>\n",
       "      <td>23.04.01</td>\n",
       "      <td>2023-05-26 10:42:48</td>\n",
       "      <td>NaN</td>\n",
       "      <td>NaN</td>\n",
       "      <td>23.04.01</td>\n",
       "      <td>2</td>\n",
       "    </tr>\n",
       "    <tr>\n",
       "      <th>96</th>\n",
       "      <td>96</td>\n",
       "      <td>68da3925-9c6f-4b2e-b24f-029d429a7f5b</td>\n",
       "      <td>HOI NGUYEN</td>\n",
       "      <td>https://play-lh.googleusercontent.com/a/AAcHTt...</td>\n",
       "      <td>Zalo có thể tắt tính năng thông báo sinh nhật ...</td>\n",
       "      <td>4</td>\n",
       "      <td>1</td>\n",
       "      <td>23.04.01</td>\n",
       "      <td>2023-05-26 09:34:58</td>\n",
       "      <td>Chào bạn. Chúng tôi sẽ ghi nhận và xem xét ý k...</td>\n",
       "      <td>2023-05-26 15:24:23</td>\n",
       "      <td>23.04.01</td>\n",
       "      <td>2</td>\n",
       "    </tr>\n",
       "    <tr>\n",
       "      <th>97</th>\n",
       "      <td>97</td>\n",
       "      <td>9987af2c-5cde-43b2-a163-7aea8584ba8e</td>\n",
       "      <td>VINH NGUYEN PHAT</td>\n",
       "      <td>https://play-lh.googleusercontent.com/a-/AD_cM...</td>\n",
       "      <td>Perfect</td>\n",
       "      <td>5</td>\n",
       "      <td>0</td>\n",
       "      <td>NaN</td>\n",
       "      <td>2023-05-25 21:27:30</td>\n",
       "      <td>NaN</td>\n",
       "      <td>NaN</td>\n",
       "      <td>NaN</td>\n",
       "      <td>2</td>\n",
       "    </tr>\n",
       "    <tr>\n",
       "      <th>98</th>\n",
       "      <td>98</td>\n",
       "      <td>c1188bcd-6e1e-4045-b8f1-eb14fd9fdd9c</td>\n",
       "      <td>TRAN NHA THUY LINH</td>\n",
       "      <td>https://play-lh.googleusercontent.com/a-/AD_cM...</td>\n",
       "      <td>Thân chào! Zalo app tình hình chung rất tốt 5 ...</td>\n",
       "      <td>5</td>\n",
       "      <td>0</td>\n",
       "      <td>23.04.01</td>\n",
       "      <td>2023-05-25 11:07:05</td>\n",
       "      <td>Chào bạn. Chúng tôi sẽ ghi nhận và xem xét ý k...</td>\n",
       "      <td>2023-05-25 16:17:33</td>\n",
       "      <td>23.04.01</td>\n",
       "      <td>2</td>\n",
       "    </tr>\n",
       "    <tr>\n",
       "      <th>99</th>\n",
       "      <td>99</td>\n",
       "      <td>1ea7e653-9bc3-4bd8-964b-92410102fca4</td>\n",
       "      <td>Giathang Co</td>\n",
       "      <td>https://play-lh.googleusercontent.com/a/AAcHTt...</td>\n",
       "      <td>Rat tot</td>\n",
       "      <td>5</td>\n",
       "      <td>0</td>\n",
       "      <td>NaN</td>\n",
       "      <td>2023-05-24 20:30:34</td>\n",
       "      <td>NaN</td>\n",
       "      <td>NaN</td>\n",
       "      <td>NaN</td>\n",
       "      <td>2</td>\n",
       "    </tr>\n",
       "  </tbody>\n",
       "</table>\n",
       "<p>100 rows × 13 columns</p>\n",
       "</div>"
      ],
      "text/plain": [
       "   Unnamed: 0                              reviewId            userName  \\\n",
       "0           0  f309bce7-7485-4c94-9853-efe16b49200f  nguyen tat dat mai   \n",
       "1           1  c7c762a4-e60a-40af-ae3b-c8005fb87e49             Harrier   \n",
       "2           2  a88a748b-4f11-42de-a536-44e7ddc8659a             Leo 2_1   \n",
       "3           3  6c243ea9-65ca-40f7-9d68-49a2a6158939          စိုး ေအာင္   \n",
       "4           4  60c2a70c-8384-4a74-ae6e-b5178ae6944b         Huyền Thanh   \n",
       "..        ...                                   ...                 ...   \n",
       "95         95  e6a705e2-9fb8-472c-95aa-fe7f9ac01349               Dj Dj   \n",
       "96         96  68da3925-9c6f-4b2e-b24f-029d429a7f5b          HOI NGUYEN   \n",
       "97         97  9987af2c-5cde-43b2-a163-7aea8584ba8e    VINH NGUYEN PHAT   \n",
       "98         98  c1188bcd-6e1e-4045-b8f1-eb14fd9fdd9c  TRAN NHA THUY LINH   \n",
       "99         99  1ea7e653-9bc3-4bd8-964b-92410102fca4         Giathang Co   \n",
       "\n",
       "                                            userImage  \\\n",
       "0   https://play-lh.googleusercontent.com/a-/AD_cM...   \n",
       "1   https://play-lh.googleusercontent.com/a-/AD_cM...   \n",
       "2   https://play-lh.googleusercontent.com/a/AAcHTt...   \n",
       "3   https://play-lh.googleusercontent.com/a/AAcHTt...   \n",
       "4   https://play-lh.googleusercontent.com/a/AAcHTt...   \n",
       "..                                                ...   \n",
       "95  https://play-lh.googleusercontent.com/a/AAcHTt...   \n",
       "96  https://play-lh.googleusercontent.com/a/AAcHTt...   \n",
       "97  https://play-lh.googleusercontent.com/a-/AD_cM...   \n",
       "98  https://play-lh.googleusercontent.com/a-/AD_cM...   \n",
       "99  https://play-lh.googleusercontent.com/a/AAcHTt...   \n",
       "\n",
       "                                              content  score thumbsUpCount  \\\n",
       "0   Update xong tìm quanh đây không dùng được nữa....      1            25   \n",
       "1   Tính năng liên quan đến số tài khoản ngân hàng...      1             0   \n",
       "2    Khi truy cập vào báo rất lag không truy cập được      2             0   \n",
       "3                                  good for me before      3             0   \n",
       "4   Không an toàn. Zalo bị phát hiện sử dụng máy ả...      1             0   \n",
       "..                                                ...    ...           ...   \n",
       "95                                                You      5             0   \n",
       "96  Zalo có thể tắt tính năng thông báo sinh nhật ...      4             1   \n",
       "97                                            Perfect      5             0   \n",
       "98  Thân chào! Zalo app tình hình chung rất tốt 5 ...      5             0   \n",
       "99                                            Rat tot      5             0   \n",
       "\n",
       "   reviewCreatedVersion                   at  \\\n",
       "0       19.01.02.medium  2023-06-24 08:44:24   \n",
       "1              23.05.02  2023-06-24 08:32:36   \n",
       "2              23.05.02  2023-06-23 21:39:50   \n",
       "3                   NaN  2023-06-23 17:05:23   \n",
       "4                   NaN  2023-06-23 15:35:30   \n",
       "..                  ...                  ...   \n",
       "95             23.04.01  2023-05-26 10:42:48   \n",
       "96             23.04.01  2023-05-26 09:34:58   \n",
       "97                  NaN  2023-05-25 21:27:30   \n",
       "98             23.04.01  2023-05-25 11:07:05   \n",
       "99                  NaN  2023-05-24 20:30:34   \n",
       "\n",
       "                                         replyContent            repliedAt  \\\n",
       "0   Chào bạn, hiện tại tính năng này Zalo đang tạm...  2020-09-04 15:52:40   \n",
       "1                                                 NaN                  NaN   \n",
       "2                                                 NaN                  NaN   \n",
       "3                                                 NaN                  NaN   \n",
       "4   Chào bạn. Để tiện hỗ trợ bạn hơn, bạn vui lòng...  2023-06-23 15:52:47   \n",
       "..                                                ...                  ...   \n",
       "95                                                NaN                  NaN   \n",
       "96  Chào bạn. Chúng tôi sẽ ghi nhận và xem xét ý k...  2023-05-26 15:24:23   \n",
       "97                                                NaN                  NaN   \n",
       "98  Chào bạn. Chúng tôi sẽ ghi nhận và xem xét ý k...  2023-05-25 16:17:33   \n",
       "99                                                NaN                  NaN   \n",
       "\n",
       "         appVersion  sentiment  \n",
       "0   19.01.02.medium          0  \n",
       "1          23.05.02          0  \n",
       "2          23.05.02          0  \n",
       "3               NaN          1  \n",
       "4               NaN          0  \n",
       "..              ...        ...  \n",
       "95         23.04.01          2  \n",
       "96         23.04.01          2  \n",
       "97              NaN          2  \n",
       "98         23.04.01          2  \n",
       "99              NaN          2  \n",
       "\n",
       "[100 rows x 13 columns]"
      ]
     },
     "execution_count": 9,
     "metadata": {},
     "output_type": "execute_result"
    }
   ],
   "source": [
    "df.head(100)"
   ]
  },
  {
   "cell_type": "code",
   "execution_count": 10,
   "id": "0b16feaa",
   "metadata": {
    "execution": {
     "iopub.execute_input": "2023-07-07T17:54:46.160146Z",
     "iopub.status.busy": "2023-07-07T17:54:46.159870Z",
     "iopub.status.idle": "2023-07-07T17:54:46.170139Z",
     "shell.execute_reply": "2023-07-07T17:54:46.169170Z"
    },
    "id": "SUfeGKD3z0bj",
    "outputId": "d104c9d9-a1da-47b4-a1ba-1ea3ebc48f78",
    "papermill": {
     "duration": 0.02663,
     "end_time": "2023-07-07T17:54:46.172152",
     "exception": false,
     "start_time": "2023-07-07T17:54:46.145522",
     "status": "completed"
    },
    "tags": []
   },
   "outputs": [
    {
     "data": {
      "text/plain": [
       "2    10525\n",
       "0     4652\n",
       "1     1546\n",
       "Name: sentiment, dtype: int64"
      ]
     },
     "execution_count": 10,
     "metadata": {},
     "output_type": "execute_result"
    }
   ],
   "source": [
    "df.sentiment.value_counts()"
   ]
  },
  {
   "cell_type": "code",
   "execution_count": 11,
   "id": "6ada6395",
   "metadata": {
    "execution": {
     "iopub.execute_input": "2023-07-07T17:54:46.200543Z",
     "iopub.status.busy": "2023-07-07T17:54:46.200265Z",
     "iopub.status.idle": "2023-07-07T17:54:46.206985Z",
     "shell.execute_reply": "2023-07-07T17:54:46.206131Z"
    },
    "id": "dDmyz1le7rRE",
    "outputId": "41595f5a-daf6-4537-8dc6-bf7ea62a7b2f",
    "papermill": {
     "duration": 0.023022,
     "end_time": "2023-07-07T17:54:46.208909",
     "exception": false,
     "start_time": "2023-07-07T17:54:46.185887",
     "status": "completed"
    },
    "tags": []
   },
   "outputs": [
    {
     "data": {
      "text/plain": [
       "Unnamed: 0              object\n",
       "reviewId                object\n",
       "userName                object\n",
       "userImage               object\n",
       "content                 object\n",
       "score                    int64\n",
       "thumbsUpCount           object\n",
       "reviewCreatedVersion    object\n",
       "at                      object\n",
       "replyContent            object\n",
       "repliedAt               object\n",
       "appVersion              object\n",
       "sentiment                int64\n",
       "dtype: object"
      ]
     },
     "execution_count": 11,
     "metadata": {},
     "output_type": "execute_result"
    }
   ],
   "source": [
    "df.dtypes"
   ]
  },
  {
   "cell_type": "code",
   "execution_count": 12,
   "id": "06033533",
   "metadata": {
    "execution": {
     "iopub.execute_input": "2023-07-07T17:54:46.237240Z",
     "iopub.status.busy": "2023-07-07T17:54:46.236932Z",
     "iopub.status.idle": "2023-07-07T17:54:46.721008Z",
     "shell.execute_reply": "2023-07-07T17:54:46.720116Z"
    },
    "id": "O6aj-XZzzIth",
    "outputId": "a69eddcb-31cb-403a-a50d-3e19bd2348b8",
    "papermill": {
     "duration": 0.500849,
     "end_time": "2023-07-07T17:54:46.723271",
     "exception": false,
     "start_time": "2023-07-07T17:54:46.222422",
     "status": "completed"
    },
    "tags": []
   },
   "outputs": [
    {
     "data": {
      "image/png": "[encoded data removed]",
      "text/plain": [
       "<Figure size 1200x800 with 1 Axes>"
      ]
     },
     "metadata": {
      "image/png": {
       "height": 695,
       "width": 1046
      }
     },
     "output_type": "display_data"
    }
   ],
   "source": [
    "# Plot the distribution\n",
    "class_names = ['negative', 'neutral', 'positive']\n",
    "df.sentiment.value_counts().plot(kind= 'bar', y = class_names)\n",
    "plt.ylabel('Count')\n",
    "plt.xlabel('Sentiment')\n",
    "plt.xticks(rotation=45)  # Rotate x-axis labels if needed\n",
    "\n",
    "# Show the plot\n",
    "plt.show()\n"
   ]
  },
  {
   "cell_type": "code",
   "execution_count": 13,
   "id": "a6e68866",
   "metadata": {
    "execution": {
     "iopub.execute_input": "2023-07-07T17:54:46.754972Z",
     "iopub.status.busy": "2023-07-07T17:54:46.753521Z",
     "iopub.status.idle": "2023-07-07T17:54:46.766562Z",
     "shell.execute_reply": "2023-07-07T17:54:46.765711Z"
    },
    "papermill": {
     "duration": 0.030608,
     "end_time": "2023-07-07T17:54:46.768668",
     "exception": false,
     "start_time": "2023-07-07T17:54:46.738060",
     "status": "completed"
    },
    "tags": []
   },
   "outputs": [],
   "source": [
    "import torch\n",
    "from transformers import RobertaForSequenceClassification, AutoTokenizer\n"
   ]
  },
  {
   "cell_type": "code",
   "execution_count": 14,
   "id": "8004b774",
   "metadata": {
    "execution": {
     "iopub.execute_input": "2023-07-07T17:54:46.798441Z",
     "iopub.status.busy": "2023-07-07T17:54:46.798144Z",
     "iopub.status.idle": "2023-07-07T17:54:52.896170Z",
     "shell.execute_reply": "2023-07-07T17:54:52.894835Z"
    },
    "id": "Nm_OyfBO0Ha_",
    "papermill": {
     "duration": 6.115418,
     "end_time": "2023-07-07T17:54:52.898314",
     "exception": false,
     "start_time": "2023-07-07T17:54:46.782896",
     "status": "completed"
    },
    "tags": []
   },
   "outputs": [
    {
     "data": {
      "application/vnd.jupyter.widget-view+json": {
       "model_id": "abd3b345050a40038953e63dd88bf24e",
       "version_major": 2,
       "version_minor": 0
      },
      "text/plain": [
       "Downloading (…)lve/main/config.json:   0%|          | 0.00/678 [00:00<?, ?B/s]"
      ]
     },
     "metadata": {},
     "output_type": "display_data"
    },
    {
     "data": {
      "application/vnd.jupyter.widget-view+json": {
       "model_id": "96845654106249a882386b5ca51290a0",
       "version_major": 2,
       "version_minor": 0
      },
      "text/plain": [
       "Downloading (…)solve/main/vocab.txt:   0%|          | 0.00/895k [00:00<?, ?B/s]"
      ]
     },
     "metadata": {},
     "output_type": "display_data"
    },
    {
     "data": {
      "application/vnd.jupyter.widget-view+json": {
       "model_id": "1b7d3b32a8b943fa8e0e9cfba30876d0",
       "version_major": 2,
       "version_minor": 0
      },
      "text/plain": [
       "Downloading (…)solve/main/bpe.codes:   0%|          | 0.00/1.14M [00:00<?, ?B/s]"
      ]
     },
     "metadata": {},
     "output_type": "display_data"
    },
    {
     "name": "stderr",
     "output_type": "stream",
     "text": [
      "Special tokens have been added in the vocabulary, make sure the associated word embeddings are fine-tuned or trained.\n"
     ]
    }
   ],
   "source": [
    "# Set the model name\n",
    "tokenizer = AutoTokenizer.from_pretrained(\"vinai/phobert-base-v2\")\n"
   ]
  },
  {
   "cell_type": "code",
   "execution_count": 15,
   "id": "25be6c8b",
   "metadata": {
    "execution": {
     "iopub.execute_input": "2023-07-07T17:54:52.930596Z",
     "iopub.status.busy": "2023-07-07T17:54:52.929628Z",
     "iopub.status.idle": "2023-07-07T17:54:52.936305Z",
     "shell.execute_reply": "2023-07-07T17:54:52.935170Z"
    },
    "id": "q9wgXiEV0yPy",
    "outputId": "7b6ba219-d4ee-4c8c-b888-9ca51768b84c",
    "papermill": {
     "duration": 0.024765,
     "end_time": "2023-07-07T17:54:52.938324",
     "exception": false,
     "start_time": "2023-07-07T17:54:52.913559",
     "status": "completed"
    },
    "tags": []
   },
   "outputs": [
    {
     "name": "stdout",
     "output_type": "stream",
     "text": [
      "</s> 2\n",
      "<s> 0\n",
      "<pad> 1\n",
      "<unk> 3\n"
     ]
    }
   ],
   "source": [
    "# Some of the common BERT tokens\n",
    "print(tokenizer.sep_token, tokenizer.sep_token_id) # marker for ending of a sentence\n",
    "print(tokenizer.cls_token, tokenizer.cls_token_id) # start of each sentence, so BERT knows we’re doing classification\n",
    "print(tokenizer.pad_token, tokenizer.pad_token_id) # special token for padding\n",
    "print(tokenizer.unk_token, tokenizer.unk_token_id) # tokens not found in training set \n"
   ]
  },
  {
   "cell_type": "code",
   "execution_count": 16,
   "id": "ff13e751",
   "metadata": {
    "execution": {
     "iopub.execute_input": "2023-07-07T17:54:52.969600Z",
     "iopub.status.busy": "2023-07-07T17:54:52.969028Z",
     "iopub.status.idle": "2023-07-07T17:54:52.983766Z",
     "shell.execute_reply": "2023-07-07T17:54:52.982881Z"
    },
    "papermill": {
     "duration": 0.032597,
     "end_time": "2023-07-07T17:54:52.985776",
     "exception": false,
     "start_time": "2023-07-07T17:54:52.953179",
     "status": "completed"
    },
    "tags": []
   },
   "outputs": [],
   "source": [
    "df = df.dropna(subset=['content'])\n"
   ]
  },
  {
   "cell_type": "code",
   "execution_count": 17,
   "id": "2cbffaed",
   "metadata": {
    "execution": {
     "iopub.execute_input": "2023-07-07T17:54:53.017681Z",
     "iopub.status.busy": "2023-07-07T17:54:53.016997Z",
     "iopub.status.idle": "2023-07-07T17:54:59.225992Z",
     "shell.execute_reply": "2023-07-07T17:54:59.225052Z"
    },
    "id": "voLj9ru40zUP",
    "outputId": "da6a7093-5937-435c-a3cf-62f0b3f06334",
    "papermill": {
     "duration": 6.227504,
     "end_time": "2023-07-07T17:54:59.228360",
     "exception": false,
     "start_time": "2023-07-07T17:54:53.000856",
     "status": "completed"
    },
    "tags": []
   },
   "outputs": [],
   "source": [
    "# Store length of each review \n",
    "token_lens = []\n",
    "\n",
    "# Iterate through the content slide\n",
    "for txt in df.content:\n",
    "    \n",
    "    tokens = tokenizer.encode_plus(txt, padding=\"max_length\", truncation=True, max_length=160, return_tensors=\"pt\")\n",
    "    token_lens.append(len(tokens))\n"
   ]
  },
  {
   "cell_type": "code",
   "execution_count": 18,
   "id": "6f2059d8",
   "metadata": {
    "execution": {
     "iopub.execute_input": "2023-07-07T17:54:59.262025Z",
     "iopub.status.busy": "2023-07-07T17:54:59.260334Z",
     "iopub.status.idle": "2023-07-07T17:54:59.961204Z",
     "shell.execute_reply": "2023-07-07T17:54:59.960070Z"
    },
    "id": "ALVbhX5h02RX",
    "outputId": "a9d1f243-01ab-40a2-b6a5-9adb3e2c18ab",
    "papermill": {
     "duration": 0.719487,
     "end_time": "2023-07-07T17:54:59.963600",
     "exception": false,
     "start_time": "2023-07-07T17:54:59.244113",
     "status": "completed"
    },
    "tags": []
   },
   "outputs": [
    {
     "data": {
      "text/plain": [
       "Text(0.5, 0, 'Token count')"
      ]
     },
     "execution_count": 18,
     "metadata": {},
     "output_type": "execute_result"
    },
    {
     "data": {
      "image/png": "[encoded data removed]",
      "text/plain": [
       "<Figure size 1200x800 with 1 Axes>"
      ]
     },
     "metadata": {
      "image/png": {
       "height": 692,
       "width": 1012
      }
     },
     "output_type": "display_data"
    }
   ],
   "source": [
    "# plot the distribution of review lengths \n",
    "sns.distplot(token_lens)\n",
    "plt.xlim([0, 256])\n",
    "plt.xlabel('Token count')\n"
   ]
  },
  {
   "cell_type": "code",
   "execution_count": 19,
   "id": "40a3d3f5",
   "metadata": {
    "execution": {
     "iopub.execute_input": "2023-07-07T17:54:59.998288Z",
     "iopub.status.busy": "2023-07-07T17:54:59.996872Z",
     "iopub.status.idle": "2023-07-07T17:55:00.001773Z",
     "shell.execute_reply": "2023-07-07T17:55:00.000917Z"
    },
    "id": "ajgSitNN1TqW",
    "papermill": {
     "duration": 0.023757,
     "end_time": "2023-07-07T17:55:00.003758",
     "exception": false,
     "start_time": "2023-07-07T17:54:59.980001",
     "status": "completed"
    },
    "tags": []
   },
   "outputs": [],
   "source": [
    "MAX_LEN = 160\n"
   ]
  },
  {
   "cell_type": "code",
   "execution_count": 20,
   "id": "66898b88",
   "metadata": {
    "execution": {
     "iopub.execute_input": "2023-07-07T17:55:00.036722Z",
     "iopub.status.busy": "2023-07-07T17:55:00.036021Z",
     "iopub.status.idle": "2023-07-07T17:55:00.044590Z",
     "shell.execute_reply": "2023-07-07T17:55:00.043746Z"
    },
    "id": "CDB0NOBH1X3N",
    "papermill": {
     "duration": 0.027078,
     "end_time": "2023-07-07T17:55:00.046524",
     "exception": false,
     "start_time": "2023-07-07T17:55:00.019446",
     "status": "completed"
    },
    "tags": []
   },
   "outputs": [],
   "source": [
    "class GPReviewDataset(Dataset):\n",
    "    # Constructor Function \n",
    "    def __init__(self, reviews, targets, tokenizer, max_len):\n",
    "        self.reviews = reviews\n",
    "        self.targets = targets\n",
    "        self.tokenizer = tokenizer\n",
    "        self.max_len = max_len\n",
    "    \n",
    "    # Length magic method\n",
    "    def __len__(self):\n",
    "        return len(self.reviews)\n",
    "    \n",
    "    # get item magic method\n",
    "    def __getitem__(self, item):\n",
    "        review = str(self.reviews[item])\n",
    "        target = self.targets[item]\n",
    "        \n",
    "        # Encoded format to be returned \n",
    "        encoding = self.tokenizer.encode_plus(\n",
    "            review,\n",
    "            add_special_tokens=True,\n",
    "            max_length=self.max_len,\n",
    "            return_token_type_ids=False,\n",
    "            pad_to_max_length=True,\n",
    "            return_attention_mask=True,\n",
    "            return_tensors='pt',\n",
    "        )\n",
    "        \n",
    "        return {\n",
    "            'review_text': review,\n",
    "            'input_ids': encoding['input_ids'].flatten(),\n",
    "            'attention_mask': encoding['attention_mask'].flatten(),\n",
    "            'targets': torch.tensor(target, dtype=torch.long)\n",
    "        }\n"
   ]
  },
  {
   "cell_type": "code",
   "execution_count": 21,
   "id": "af3e8f71",
   "metadata": {
    "execution": {
     "iopub.execute_input": "2023-07-07T17:55:00.081029Z",
     "iopub.status.busy": "2023-07-07T17:55:00.080118Z",
     "iopub.status.idle": "2023-07-07T17:55:00.084838Z",
     "shell.execute_reply": "2023-07-07T17:55:00.083899Z"
    },
    "id": "GP0LDbLL1guw",
    "papermill": {
     "duration": 0.024131,
     "end_time": "2023-07-07T17:55:00.086943",
     "exception": false,
     "start_time": "2023-07-07T17:55:00.062812",
     "status": "completed"
    },
    "tags": []
   },
   "outputs": [],
   "source": [
    "RANDOM_SEED = 10"
   ]
  },
  {
   "cell_type": "code",
   "execution_count": 22,
   "id": "4f3ca64d",
   "metadata": {
    "execution": {
     "iopub.execute_input": "2023-07-07T17:55:00.121066Z",
     "iopub.status.busy": "2023-07-07T17:55:00.120137Z",
     "iopub.status.idle": "2023-07-07T17:55:00.137946Z",
     "shell.execute_reply": "2023-07-07T17:55:00.136732Z"
    },
    "id": "VYAGlU6_1cOF",
    "outputId": "7e05dec7-8752-4e9a-df96-7bf674e587c4",
    "papermill": {
     "duration": 0.036804,
     "end_time": "2023-07-07T17:55:00.140085",
     "exception": false,
     "start_time": "2023-07-07T17:55:00.103281",
     "status": "completed"
    },
    "tags": []
   },
   "outputs": [
    {
     "name": "stdout",
     "output_type": "stream",
     "text": [
      "(13280, 13) (1660, 13) (1660, 13)\n"
     ]
    }
   ],
   "source": [
    "df_train, df_test = train_test_split(df, test_size=0.2, random_state=RANDOM_SEED)\n",
    "df_val, df_test = train_test_split(df_test, test_size=0.5, random_state=RANDOM_SEED)\n",
    "\n",
    "print(df_train.shape, df_val.shape, df_test.shape)\n"
   ]
  },
  {
   "cell_type": "code",
   "execution_count": 23,
   "id": "e3ae149d",
   "metadata": {
    "execution": {
     "iopub.execute_input": "2023-07-07T17:55:00.174584Z",
     "iopub.status.busy": "2023-07-07T17:55:00.173655Z",
     "iopub.status.idle": "2023-07-07T17:55:00.179491Z",
     "shell.execute_reply": "2023-07-07T17:55:00.178578Z"
    },
    "id": "xDXxrflz1knT",
    "papermill": {
     "duration": 0.025249,
     "end_time": "2023-07-07T17:55:00.181609",
     "exception": false,
     "start_time": "2023-07-07T17:55:00.156360",
     "status": "completed"
    },
    "tags": []
   },
   "outputs": [],
   "source": [
    "def create_data_loader(df, tokenizer, max_len, batch_size):\n",
    "    ds = GPReviewDataset(\n",
    "        reviews=df.content.to_numpy(),\n",
    "        targets=df.sentiment.to_numpy(),\n",
    "        tokenizer=tokenizer,\n",
    "        max_len=max_len\n",
    "    )\n",
    "    \n",
    "    return DataLoader(\n",
    "        ds,\n",
    "        batch_size=batch_size,\n",
    "        num_workers=0\n",
    "    )\n"
   ]
  },
  {
   "cell_type": "code",
   "execution_count": 24,
   "id": "3b858b1f",
   "metadata": {
    "execution": {
     "iopub.execute_input": "2023-07-07T17:55:00.215660Z",
     "iopub.status.busy": "2023-07-07T17:55:00.215011Z",
     "iopub.status.idle": "2023-07-07T17:55:00.221540Z",
     "shell.execute_reply": "2023-07-07T17:55:00.220674Z"
    },
    "id": "EegYVVwm1lJg",
    "papermill": {
     "duration": 0.025809,
     "end_time": "2023-07-07T17:55:00.223541",
     "exception": false,
     "start_time": "2023-07-07T17:55:00.197732",
     "status": "completed"
    },
    "tags": []
   },
   "outputs": [],
   "source": [
    "# Create train, test and val data loaders\n",
    "BATCH_SIZE = 16\n",
    "train_data_loader = create_data_loader(df_train, tokenizer, MAX_LEN, BATCH_SIZE)\n",
    "val_data_loader = create_data_loader(df_val, tokenizer, MAX_LEN, BATCH_SIZE)\n",
    "test_data_loader = create_data_loader(df_test, tokenizer, MAX_LEN, BATCH_SIZE)\n"
   ]
  },
  {
   "cell_type": "code",
   "execution_count": 25,
   "id": "8832a8df",
   "metadata": {
    "execution": {
     "iopub.execute_input": "2023-07-07T17:55:00.256613Z",
     "iopub.status.busy": "2023-07-07T17:55:00.256078Z",
     "iopub.status.idle": "2023-07-07T17:55:00.300782Z",
     "shell.execute_reply": "2023-07-07T17:55:00.299399Z"
    },
    "id": "ratHQM9J1nHW",
    "outputId": "354e66fd-5803-438e-87e1-9b37cbceac39",
    "papermill": {
     "duration": 0.063452,
     "end_time": "2023-07-07T17:55:00.302770",
     "exception": false,
     "start_time": "2023-07-07T17:55:00.239318",
     "status": "completed"
    },
    "tags": []
   },
   "outputs": [
    {
     "name": "stderr",
     "output_type": "stream",
     "text": [
      "Truncation was not explicitly activated but `max_length` is provided a specific value, please use `truncation=True` to explicitly truncate examples to max length. Defaulting to 'longest_first' truncation strategy. If you encode pairs of sequences (GLUE-style) with the tokenizer you can select this strategy more precisely by providing a specific strategy to `truncation`.\n"
     ]
    },
    {
     "name": "stdout",
     "output_type": "stream",
     "text": [
      "dict_keys(['review_text', 'input_ids', 'attention_mask', 'targets'])\n",
      "torch.Size([16, 160])\n",
      "torch.Size([16, 160])\n",
      "torch.Size([16])\n"
     ]
    }
   ],
   "source": [
    "# Examples \n",
    "data = next(iter(train_data_loader))\n",
    "print(data.keys())\n",
    "\n",
    "print(data['input_ids'].shape)\n",
    "print(data['attention_mask'].shape)\n",
    "print(data['targets'].shape)\n"
   ]
  },
  {
   "cell_type": "code",
   "execution_count": 26,
   "id": "fa2f7765",
   "metadata": {
    "execution": {
     "iopub.execute_input": "2023-07-07T17:55:00.336896Z",
     "iopub.status.busy": "2023-07-07T17:55:00.336320Z",
     "iopub.status.idle": "2023-07-07T17:55:03.877420Z",
     "shell.execute_reply": "2023-07-07T17:55:03.876175Z"
    },
    "papermill": {
     "duration": 3.560821,
     "end_time": "2023-07-07T17:55:03.879807",
     "exception": false,
     "start_time": "2023-07-07T17:55:00.318986",
     "status": "completed"
    },
    "tags": []
   },
   "outputs": [
    {
     "data": {
      "application/vnd.jupyter.widget-view+json": {
       "model_id": "f1053a0f59d64c489eec7ae3346f00a9",
       "version_major": 2,
       "version_minor": 0
      },
      "text/plain": [
       "Downloading (…)lve/main/config.json:   0%|          | 0.00/557 [00:00<?, ?B/s]"
      ]
     },
     "metadata": {},
     "output_type": "display_data"
    },
    {
     "data": {
      "application/vnd.jupyter.widget-view+json": {
       "model_id": "7f8fb82518ce45e0bce6f182edb734c4",
       "version_major": 2,
       "version_minor": 0
      },
      "text/plain": [
       "Downloading (…)solve/main/vocab.txt:   0%|          | 0.00/895k [00:00<?, ?B/s]"
      ]
     },
     "metadata": {},
     "output_type": "display_data"
    },
    {
     "data": {
      "application/vnd.jupyter.widget-view+json": {
       "model_id": "00b27b59cd18499389fa45bd2b9ee0cc",
       "version_major": 2,
       "version_minor": 0
      },
      "text/plain": [
       "Downloading (…)solve/main/bpe.codes:   0%|          | 0.00/1.14M [00:00<?, ?B/s]"
      ]
     },
     "metadata": {},
     "output_type": "display_data"
    },
    {
     "name": "stderr",
     "output_type": "stream",
     "text": [
      "Special tokens have been added in the vocabulary, make sure the associated word embeddings are fine-tuned or trained.\n"
     ]
    }
   ],
   "source": [
    "from transformers import AutoModel, AutoTokenizer\n",
    "tokenizer = AutoTokenizer.from_pretrained(\"vinai/phobert-base\")\n"
   ]
  },
  {
   "cell_type": "code",
   "execution_count": 27,
   "id": "456c66b1",
   "metadata": {
    "execution": {
     "iopub.execute_input": "2023-07-07T17:55:03.914997Z",
     "iopub.status.busy": "2023-07-07T17:55:03.914692Z",
     "iopub.status.idle": "2023-07-07T17:55:03.919004Z",
     "shell.execute_reply": "2023-07-07T17:55:03.918057Z"
    },
    "papermill": {
     "duration": 0.024514,
     "end_time": "2023-07-07T17:55:03.921220",
     "exception": false,
     "start_time": "2023-07-07T17:55:03.896706",
     "status": "completed"
    },
    "tags": []
   },
   "outputs": [],
   "source": [
    "n_classes = 3"
   ]
  },
  {
   "cell_type": "code",
   "execution_count": 28,
   "id": "7e5809f3",
   "metadata": {
    "execution": {
     "iopub.execute_input": "2023-07-07T17:55:03.956278Z",
     "iopub.status.busy": "2023-07-07T17:55:03.955406Z",
     "iopub.status.idle": "2023-07-07T17:55:03.962661Z",
     "shell.execute_reply": "2023-07-07T17:55:03.961822Z"
    },
    "id": "ck0LxMah1sPh",
    "papermill": {
     "duration": 0.026979,
     "end_time": "2023-07-07T17:55:03.964598",
     "exception": false,
     "start_time": "2023-07-07T17:55:03.937619",
     "status": "completed"
    },
    "tags": []
   },
   "outputs": [],
   "source": [
    "class SentimentClassifier(nn.Module):\n",
    "    def __init__(self, n_classes):\n",
    "        super(SentimentClassifier, self).__init__()\n",
    "        self.phobert = AutoModel.from_pretrained(\"vinai/phobert-base\")\n",
    "        self.dropout = nn.Dropout(0.3)\n",
    "        self.linear = nn.Linear(self.phobert.config.hidden_size, n_classes)\n",
    "\n",
    "    def forward(self, input_ids, attention_mask):\n",
    "        outputs = self.phobert(input_ids=input_ids, attention_mask=attention_mask)\n",
    "        pooled_output = outputs.pooler_output\n",
    "        pooled_output = self.dropout(pooled_output)\n",
    "        logits = self.linear(pooled_output)\n",
    "        return logits\n"
   ]
  },
  {
   "cell_type": "code",
   "execution_count": 29,
   "id": "e7fc4192",
   "metadata": {
    "execution": {
     "iopub.execute_input": "2023-07-07T17:55:03.999504Z",
     "iopub.status.busy": "2023-07-07T17:55:03.998574Z",
     "iopub.status.idle": "2023-07-07T17:55:04.005178Z",
     "shell.execute_reply": "2023-07-07T17:55:04.004085Z"
    },
    "papermill": {
     "duration": 0.025885,
     "end_time": "2023-07-07T17:55:04.007123",
     "exception": false,
     "start_time": "2023-07-07T17:55:03.981238",
     "status": "completed"
    },
    "tags": []
   },
   "outputs": [
    {
     "data": {
      "text/plain": [
       "['negative', 'neutral', 'positive']"
      ]
     },
     "execution_count": 29,
     "metadata": {},
     "output_type": "execute_result"
    }
   ],
   "source": [
    "class_names"
   ]
  },
  {
   "cell_type": "code",
   "execution_count": 30,
   "id": "f5723133",
   "metadata": {
    "execution": {
     "iopub.execute_input": "2023-07-07T17:55:04.042487Z",
     "iopub.status.busy": "2023-07-07T17:55:04.041558Z",
     "iopub.status.idle": "2023-07-07T17:55:28.532910Z",
     "shell.execute_reply": "2023-07-07T17:55:28.531920Z"
    },
    "id": "mRZFR_Rh1vvS",
    "outputId": "eb69bd83-ccbb-4e60-feb1-8954545ccaed",
    "papermill": {
     "duration": 24.511562,
     "end_time": "2023-07-07T17:55:28.535405",
     "exception": false,
     "start_time": "2023-07-07T17:55:04.023843",
     "status": "completed"
    },
    "tags": []
   },
   "outputs": [
    {
     "data": {
      "application/vnd.jupyter.widget-view+json": {
       "model_id": "adc7beb69a7e410b98f83f558bc64060",
       "version_major": 2,
       "version_minor": 0
      },
      "text/plain": [
       "Downloading pytorch_model.bin:   0%|          | 0.00/543M [00:00<?, ?B/s]"
      ]
     },
     "metadata": {},
     "output_type": "display_data"
    },
    {
     "name": "stderr",
     "output_type": "stream",
     "text": [
      "Some weights of the model checkpoint at vinai/phobert-base were not used when initializing RobertaModel: ['lm_head.decoder.bias', 'lm_head.decoder.weight', 'lm_head.dense.bias', 'lm_head.dense.weight', 'lm_head.layer_norm.bias', 'lm_head.bias', 'lm_head.layer_norm.weight']\n",
      "- This IS expected if you are initializing RobertaModel from the checkpoint of a model trained on another task or with another architecture (e.g. initializing a BertForSequenceClassification model from a BertForPreTraining model).\n",
      "- This IS NOT expected if you are initializing RobertaModel from the checkpoint of a model that you expect to be exactly identical (initializing a BertForSequenceClassification model from a BertForSequenceClassification model).\n"
     ]
    }
   ],
   "source": [
    "# Instantiate the model and move to classifier\n",
    "model = SentimentClassifier(len(class_names))\n",
    "model = model.to(device)\n"
   ]
  },
  {
   "cell_type": "code",
   "execution_count": 31,
   "id": "f6358be7",
   "metadata": {
    "execution": {
     "iopub.execute_input": "2023-07-07T17:55:28.571601Z",
     "iopub.status.busy": "2023-07-07T17:55:28.571292Z",
     "iopub.status.idle": "2023-07-07T17:55:28.580360Z",
     "shell.execute_reply": "2023-07-07T17:55:28.579332Z"
    },
    "id": "74UOGiKcSydx",
    "papermill": {
     "duration": 0.02971,
     "end_time": "2023-07-07T17:55:28.582501",
     "exception": false,
     "start_time": "2023-07-07T17:55:28.552791",
     "status": "completed"
    },
    "tags": []
   },
   "outputs": [
    {
     "data": {
      "text/plain": [
       "SentimentClassifier(\n",
       "  (phobert): RobertaModel(\n",
       "    (embeddings): RobertaEmbeddings(\n",
       "      (word_embeddings): Embedding(64001, 768, padding_idx=1)\n",
       "      (position_embeddings): Embedding(258, 768, padding_idx=1)\n",
       "      (token_type_embeddings): Embedding(1, 768)\n",
       "      (LayerNorm): LayerNorm((768,), eps=1e-05, elementwise_affine=True)\n",
       "      (dropout): Dropout(p=0.1, inplace=False)\n",
       "    )\n",
       "    (encoder): RobertaEncoder(\n",
       "      (layer): ModuleList(\n",
       "        (0-11): 12 x RobertaLayer(\n",
       "          (attention): RobertaAttention(\n",
       "            (self): RobertaSelfAttention(\n",
       "              (query): Linear(in_features=768, out_features=768, bias=True)\n",
       "              (key): Linear(in_features=768, out_features=768, bias=True)\n",
       "              (value): Linear(in_features=768, out_features=768, bias=True)\n",
       "              (dropout): Dropout(p=0.1, inplace=False)\n",
       "            )\n",
       "            (output): RobertaSelfOutput(\n",
       "              (dense): Linear(in_features=768, out_features=768, bias=True)\n",
       "              (LayerNorm): LayerNorm((768,), eps=1e-05, elementwise_affine=True)\n",
       "              (dropout): Dropout(p=0.1, inplace=False)\n",
       "            )\n",
       "          )\n",
       "          (intermediate): RobertaIntermediate(\n",
       "            (dense): Linear(in_features=768, out_features=3072, bias=True)\n",
       "            (intermediate_act_fn): GELUActivation()\n",
       "          )\n",
       "          (output): RobertaOutput(\n",
       "            (dense): Linear(in_features=3072, out_features=768, bias=True)\n",
       "            (LayerNorm): LayerNorm((768,), eps=1e-05, elementwise_affine=True)\n",
       "            (dropout): Dropout(p=0.1, inplace=False)\n",
       "          )\n",
       "        )\n",
       "      )\n",
       "    )\n",
       "    (pooler): RobertaPooler(\n",
       "      (dense): Linear(in_features=768, out_features=768, bias=True)\n",
       "      (activation): Tanh()\n",
       "    )\n",
       "  )\n",
       "  (dropout): Dropout(p=0.3, inplace=False)\n",
       "  (linear): Linear(in_features=768, out_features=3, bias=True)\n",
       ")"
      ]
     },
     "execution_count": 31,
     "metadata": {},
     "output_type": "execute_result"
    }
   ],
   "source": [
    "model"
   ]
  },
  {
   "cell_type": "code",
   "execution_count": 32,
   "id": "58e5ea78",
   "metadata": {
    "execution": {
     "iopub.execute_input": "2023-07-07T17:55:28.620328Z",
     "iopub.status.busy": "2023-07-07T17:55:28.619477Z",
     "iopub.status.idle": "2023-07-07T17:55:28.626431Z",
     "shell.execute_reply": "2023-07-07T17:55:28.625604Z"
    },
    "id": "Rku9XvFfSPT3",
    "papermill": {
     "duration": 0.028726,
     "end_time": "2023-07-07T17:55:28.628313",
     "exception": false,
     "start_time": "2023-07-07T17:55:28.599587",
     "status": "completed"
    },
    "tags": []
   },
   "outputs": [],
   "source": [
    "model = model.to(device)\n"
   ]
  },
  {
   "cell_type": "code",
   "execution_count": 33,
   "id": "ca6fc8eb",
   "metadata": {
    "execution": {
     "iopub.execute_input": "2023-07-07T17:55:28.663635Z",
     "iopub.status.busy": "2023-07-07T17:55:28.662972Z",
     "iopub.status.idle": "2023-07-07T17:55:28.671034Z",
     "shell.execute_reply": "2023-07-07T17:55:28.670131Z"
    },
    "id": "eU4FZtbe11J5",
    "papermill": {
     "duration": 0.027729,
     "end_time": "2023-07-07T17:55:28.672910",
     "exception": false,
     "start_time": "2023-07-07T17:55:28.645181",
     "status": "completed"
    },
    "tags": []
   },
   "outputs": [],
   "source": [
    "# Function for a single training iteration\n",
    "def train_epoch(model, data_loader, loss_fn, optimizer, device, scheduler, n_examples):\n",
    "    model = model.train()\n",
    "    losses = []\n",
    "    correct_predictions = 0\n",
    "    \n",
    "    for d in data_loader:\n",
    "        input_ids = d[\"input_ids\"].to(device)\n",
    "        attention_mask = d[\"attention_mask\"].to(device)\n",
    "        targets = d[\"targets\"].to(device)\n",
    "\n",
    "\n",
    "        outputs = model(\n",
    "            input_ids = input_ids,\n",
    "            attention_mask=attention_mask\n",
    "        )\n",
    "        \n",
    "        _, preds = torch.max(outputs, dim=1)\n",
    "        loss = loss_fn(outputs, targets)\n",
    "        correct_predictions += torch.sum(preds == targets)\n",
    "        losses.append(loss.item())\n",
    "        \n",
    "        # Backward prop\n",
    "        loss.backward()\n",
    "        \n",
    "        # Gradient Descent\n",
    "        nn.utils.clip_grad_norm_(model.parameters(), max_norm=1.0)\n",
    "        optimizer.step()\n",
    "        scheduler.step()\n",
    "        optimizer.zero_grad()\n",
    "    \n",
    "    return correct_predictions.double() / n_examples, np.mean(losses)"
   ]
  },
  {
   "cell_type": "code",
   "execution_count": 34,
   "id": "b6cab236",
   "metadata": {
    "execution": {
     "iopub.execute_input": "2023-07-07T17:55:28.708626Z",
     "iopub.status.busy": "2023-07-07T17:55:28.707787Z",
     "iopub.status.idle": "2023-07-07T17:55:28.714120Z",
     "shell.execute_reply": "2023-07-07T17:55:28.713326Z"
    },
    "papermill": {
     "duration": 0.026248,
     "end_time": "2023-07-07T17:55:28.716011",
     "exception": false,
     "start_time": "2023-07-07T17:55:28.689763",
     "status": "completed"
    },
    "tags": []
   },
   "outputs": [],
   "source": [
    "def evaluation_metrics(preds, labels):\n",
    "    '''\n",
    "    Returns the following metrics:\n",
    "    - accuracy    = (TP + TN) / N\n",
    "    - precision   = TP / (TP + FP)\n",
    "    - recall      = TP / (TP + FN)\n",
    "    - f1_score = 2 * precision * recall / (precision + recall)\n",
    "    '''\n",
    "    preds = preds.flatten()\n",
    "    labels = labels.flatten()\n",
    "    accuracy = accuracy_score(labels, preds)\n",
    "    precision = precision_score(labels, preds, average='macro')\n",
    "    recall = recall_score(labels, preds, average='macro')\n",
    "    f1 = f1_score(labels, preds, average='macro')\n",
    "    return accuracy, precision, recall, f1\n"
   ]
  },
  {
   "cell_type": "code",
   "execution_count": 35,
   "id": "2f0032a9",
   "metadata": {
    "execution": {
     "iopub.execute_input": "2023-07-07T17:55:28.751644Z",
     "iopub.status.busy": "2023-07-07T17:55:28.750838Z",
     "iopub.status.idle": "2023-07-07T17:55:28.761929Z",
     "shell.execute_reply": "2023-07-07T17:55:28.761110Z"
    },
    "papermill": {
     "duration": 0.030979,
     "end_time": "2023-07-07T17:55:28.763854",
     "exception": false,
     "start_time": "2023-07-07T17:55:28.732875",
     "status": "completed"
    },
    "tags": []
   },
   "outputs": [],
   "source": [
    "def eval_model(model, data_loader, loss_fn, device, n_examples):\n",
    "    model = model.eval()\n",
    "    \n",
    "    losses = []\n",
    "    correct_predictions = 0\n",
    "    # Tracking variables \n",
    "    val_accuracy = []\n",
    "    val_precision = []\n",
    "    val_recall = []\n",
    "    val_f1_score = []\n",
    "    \n",
    "    with torch.no_grad():\n",
    "        for d in data_loader:\n",
    "            input_ids = d[\"input_ids\"].to(device)\n",
    "            attention_mask = d[\"attention_mask\"].to(device)\n",
    "            targets = d[\"targets\"].to(device)\n",
    "            \n",
    "            # Get model ouptuts\n",
    "            outputs = model(\n",
    "                input_ids=input_ids,\n",
    "                attention_mask=attention_mask\n",
    "            )\n",
    "            \n",
    "            _, preds = torch.max(outputs, dim=1)\n",
    "            loss = loss_fn(outputs, targets)\n",
    "            \n",
    "#             correct_predictions += torch.sum(preds == targets)\n",
    "            losses.append(loss.item())\n",
    "            \n",
    "            eval_metrics = evaluation_metrics(np.array(preds.cpu()), np.array(targets.cpu()))\n",
    "\n",
    "            # Calculate validation metrics\n",
    "            accuracy, precision, recall, f1 = eval_metrics\n",
    "            val_accuracy.append(accuracy)\n",
    "            # Update precision only when (tp + fp) !=0; ignore nan\n",
    "            if precision != 'nan': val_precision.append(precision)\n",
    "            # Update recall only when (tp + fn) !=0; ignore nan\n",
    "            if recall != 'nan': val_recall.append(recall)\n",
    "            # Update specificity only when (tn + fp) !=0; ignore nan\n",
    "            if f1 != 'nan': val_f1_score.append(f1)\n",
    "            \n",
    "    final_metrics = (sum(val_accuracy)/len(val_accuracy), sum(val_precision)/len(val_precision), \n",
    "                     sum(val_recall)/len(val_recall), sum(val_f1_score)/len(val_f1_score))\n",
    "            \n",
    "    return sum(val_accuracy)/len(val_accuracy), np.mean(losses), final_metrics\n"
   ]
  },
  {
   "cell_type": "code",
   "execution_count": 36,
   "id": "f7c2ccc1",
   "metadata": {
    "execution": {
     "iopub.execute_input": "2023-07-07T17:55:28.799953Z",
     "iopub.status.busy": "2023-07-07T17:55:28.799041Z",
     "iopub.status.idle": "2023-07-07T17:55:28.807675Z",
     "shell.execute_reply": "2023-07-07T17:55:28.806832Z"
    },
    "papermill": {
     "duration": 0.028695,
     "end_time": "2023-07-07T17:55:28.809620",
     "exception": false,
     "start_time": "2023-07-07T17:55:28.780925",
     "status": "completed"
    },
    "tags": []
   },
   "outputs": [],
   "source": [
    "# Number of iterations \n",
    "EPOCHS = 10\n",
    "\n",
    "# Optimizer Adam \n",
    "optimizer = AdamW(model.parameters(), lr=2e-5)\n",
    "\n",
    "total_steps = len(train_data_loader) * EPOCHS\n",
    "\n",
    "scheduler = get_linear_schedule_with_warmup(\n",
    "    optimizer,\n",
    "    num_warmup_steps=0,\n",
    "    num_training_steps=total_steps\n",
    ")\n",
    "\n",
    "# Set the loss function \n",
    "loss_fn = nn.CrossEntropyLoss().to(device)\n"
   ]
  },
  {
   "cell_type": "code",
   "execution_count": 37,
   "id": "ee1f12d4",
   "metadata": {
    "execution": {
     "iopub.execute_input": "2023-07-07T17:55:28.846906Z",
     "iopub.status.busy": "2023-07-07T17:55:28.845384Z",
     "iopub.status.idle": "2023-07-07T18:33:19.182143Z",
     "shell.execute_reply": "2023-07-07T18:33:19.180769Z"
    },
    "id": "VkRN3yf-2GyU",
    "outputId": "3eac8e98-af38-4366-f244-27773e63e3ce",
    "papermill": {
     "duration": 2270.357723,
     "end_time": "2023-07-07T18:33:19.184543",
     "exception": false,
     "start_time": "2023-07-07T17:55:28.826820",
     "status": "completed"
    },
    "tags": []
   },
   "outputs": [
    {
     "name": "stdout",
     "output_type": "stream",
     "text": [
      "Epoch 1/10\n",
      "----------\n",
      "Train loss 0.7084 accuracy 0.7160\n",
      "Val   loss 0.6419 accuracy 0.7644\n",
      "\tVal Accuracy: 0.7644\n",
      "\tVal macro-Precision: 0.5484\n",
      "\tVal macro-Recall: 0.5745\n",
      "\tVal macro-F1-score: 0.5473\n",
      "\n",
      "Epoch 2/10\n",
      "----------\n",
      "Train loss 0.5957 accuracy 0.7815\n",
      "Val   loss 0.6163 accuracy 0.7762\n",
      "\tVal Accuracy: 0.7762\n",
      "\tVal macro-Precision: 0.5656\n",
      "\tVal macro-Recall: 0.5923\n",
      "\tVal macro-F1-score: 0.5650\n",
      "\n",
      "Epoch 3/10\n",
      "----------\n",
      "Train loss 0.5396 accuracy 0.8061\n",
      "Val   loss 0.6758 accuracy 0.7632\n",
      "\tVal Accuracy: 0.7632\n",
      "\tVal macro-Precision: 0.5771\n",
      "\tVal macro-Recall: 0.5751\n",
      "\tVal macro-F1-score: 0.5551\n",
      "\n",
      "Epoch 4/10\n",
      "----------\n",
      "Train loss 0.4878 accuracy 0.8297\n",
      "Val   loss 0.7178 accuracy 0.7636\n",
      "\tVal Accuracy: 0.7636\n",
      "\tVal macro-Precision: 0.5801\n",
      "\tVal macro-Recall: 0.5789\n",
      "\tVal macro-F1-score: 0.5613\n",
      "\n",
      "Epoch 5/10\n",
      "----------\n",
      "Train loss 0.4383 accuracy 0.8503\n",
      "Val   loss 0.7734 accuracy 0.7570\n",
      "\tVal Accuracy: 0.7570\n",
      "\tVal macro-Precision: 0.5635\n",
      "\tVal macro-Recall: 0.5710\n",
      "\tVal macro-F1-score: 0.5497\n",
      "\n",
      "Epoch 6/10\n",
      "----------\n",
      "Train loss 0.3958 accuracy 0.8701\n",
      "Val   loss 0.8049 accuracy 0.7588\n",
      "\tVal Accuracy: 0.7588\n",
      "\tVal macro-Precision: 0.5706\n",
      "\tVal macro-Recall: 0.5750\n",
      "\tVal macro-F1-score: 0.5550\n",
      "\n",
      "Epoch 7/10\n",
      "----------\n",
      "Train loss 0.3566 accuracy 0.8888\n",
      "Val   loss 0.8491 accuracy 0.7582\n",
      "\tVal Accuracy: 0.7582\n",
      "\tVal macro-Precision: 0.5787\n",
      "\tVal macro-Recall: 0.5828\n",
      "\tVal macro-F1-score: 0.5646\n",
      "\n",
      "Epoch 8/10\n",
      "----------\n",
      "Train loss 0.3264 accuracy 0.9014\n",
      "Val   loss 0.9320 accuracy 0.7588\n",
      "\tVal Accuracy: 0.7588\n",
      "\tVal macro-Precision: 0.5866\n",
      "\tVal macro-Recall: 0.5882\n",
      "\tVal macro-F1-score: 0.5701\n",
      "\n",
      "Epoch 9/10\n",
      "----------\n",
      "Train loss 0.3027 accuracy 0.9124\n",
      "Val   loss 0.9853 accuracy 0.7474\n",
      "\tVal Accuracy: 0.7474\n",
      "\tVal macro-Precision: 0.5886\n",
      "\tVal macro-Recall: 0.5735\n",
      "\tVal macro-F1-score: 0.5624\n",
      "\n",
      "Epoch 10/10\n",
      "----------\n",
      "Train loss 0.2818 accuracy 0.9194\n",
      "Val   loss 1.0353 accuracy 0.7504\n",
      "\tVal Accuracy: 0.7504\n",
      "\tVal macro-Precision: 0.5872\n",
      "\tVal macro-Recall: 0.5741\n",
      "\tVal macro-F1-score: 0.5628\n",
      "\n",
      "CPU times: user 37min 41s, sys: 3.64 s, total: 37min 44s\n",
      "Wall time: 37min 50s\n"
     ]
    }
   ],
   "source": [
    "%%time\n",
    "\n",
    "history = defaultdict(list)\n",
    "best_accuracy = 0\n",
    "\n",
    "for epoch in range(EPOCHS):\n",
    "    \n",
    "    # Show details \n",
    "    print(f\"Epoch {epoch + 1}/{EPOCHS}\")\n",
    "    print(\"-\" * 10)\n",
    "    \n",
    "    train_acc, train_loss = train_epoch(\n",
    "        model,\n",
    "        train_data_loader,\n",
    "        loss_fn,\n",
    "        optimizer,\n",
    "        device,\n",
    "        scheduler,\n",
    "        len(df_train)\n",
    "    )\n",
    "    \n",
    "    print(f\"Train loss {train_loss:.4f} accuracy {train_acc:.4f}\")\n",
    "    \n",
    "    # Get model performance (accuracy and loss)\n",
    "    val_acc, val_loss, eval_metrics = eval_model(\n",
    "        model,\n",
    "        val_data_loader,\n",
    "        loss_fn,\n",
    "        device,\n",
    "        len(df_val)\n",
    "    )\n",
    "    \n",
    "    accuracy, precision, recall, f1 = eval_metrics\n",
    "    \n",
    "    print(f\"Val   loss {val_loss:.4f} accuracy {val_acc:.4f}\")\n",
    "    print('\\tVal Accuracy: {:.4f}'.format(accuracy))\n",
    "    print('\\tVal macro-Precision: {:.4f}'.format(precision))\n",
    "    print('\\tVal macro-Recall: {:.4f}'.format(recall))\n",
    "    print('\\tVal macro-F1-score: {:.4f}\\n'.format(f1))\n",
    "    \n",
    "    history['train_acc'].append(train_acc)\n",
    "    history['train_loss'].append(train_loss)\n",
    "    history['val_acc'].append(val_acc)\n",
    "    history['val_loss'].append(val_loss)\n",
    "    \n",
    "    history['accuracy'].append(accuracy)\n",
    "    history['precision'].append(precision)\n",
    "    history['recall'].append(recall)\n",
    "    history['f1_score'].append(f1)\n",
    "    \n",
    "    \n",
    "    # If we beat prev performance\n",
    "    if val_acc > best_accuracy:\n",
    "        torch.save(model.state_dict(), 'best_model.bin')\n",
    "        best_accuracy = val_acc"
   ]
  },
  {
   "cell_type": "code",
   "execution_count": 38,
   "id": "8da225b1",
   "metadata": {
    "execution": {
     "iopub.execute_input": "2023-07-07T18:33:19.228313Z",
     "iopub.status.busy": "2023-07-07T18:33:19.226912Z",
     "iopub.status.idle": "2023-07-07T18:33:19.946801Z",
     "shell.execute_reply": "2023-07-07T18:33:19.945877Z"
    },
    "papermill": {
     "duration": 0.744807,
     "end_time": "2023-07-07T18:33:19.949381",
     "exception": false,
     "start_time": "2023-07-07T18:33:19.204574",
     "status": "completed"
    },
    "tags": []
   },
   "outputs": [
    {
     "data": {
      "image/png": "[encoded data removed]",
      "text/plain": [
       "<Figure size 1200x800 with 1 Axes>"
      ]
     },
     "metadata": {
      "image/png": {
       "height": 716,
       "width": 992
      }
     },
     "output_type": "display_data"
    }
   ],
   "source": [
    "# Plot training and validation accuracy\n",
    "train_acc = history['train_acc']\n",
    "val_acc = history['val_acc']\n",
    "train_acc = [float(i) for i in train_acc]\n",
    "val_acc = [float(i) for i in val_acc]\n",
    "\n",
    "x__ = range(1, EPOCHS + 1)\n",
    "\n",
    "plt.plot(x__, train_acc, label='train accuracy')\n",
    "plt.plot(x__, val_acc, label='validation accuracy')\n",
    "plt.plot(x__, history['precision'], label='validation precision')\n",
    "plt.plot(x__, history['recall'], label='validation recall')\n",
    "plt.plot(x__, history['f1_score'], label='validation F1-score')\n",
    "\n",
    "\n",
    "# Graph chars\n",
    "plt.title('Training history')\n",
    "plt.xlabel('Epoch')\n",
    "plt.legend()\n",
    "plt.ylim([0, 1]);\n"
   ]
  },
  {
   "cell_type": "code",
   "execution_count": 39,
   "id": "2249bbec",
   "metadata": {
    "execution": {
     "iopub.execute_input": "2023-07-07T18:33:19.991754Z",
     "iopub.status.busy": "2023-07-07T18:33:19.991447Z",
     "iopub.status.idle": "2023-07-07T18:33:20.696008Z",
     "shell.execute_reply": "2023-07-07T18:33:20.695120Z"
    },
    "papermill": {
     "duration": 0.728803,
     "end_time": "2023-07-07T18:33:20.698990",
     "exception": false,
     "start_time": "2023-07-07T18:33:19.970187",
     "status": "completed"
    },
    "tags": []
   },
   "outputs": [
    {
     "data": {
      "text/plain": [
       "<matplotlib.legend.Legend at 0x7f0df1d0a9e0>"
      ]
     },
     "execution_count": 39,
     "metadata": {},
     "output_type": "execute_result"
    },
    {
     "data": {
      "image/png": "[encoded data removed]",
      "text/plain": [
       "<Figure size 1200x800 with 1 Axes>"
      ]
     },
     "metadata": {
      "image/png": {
       "height": 716,
       "width": 992
      }
     },
     "output_type": "display_data"
    }
   ],
   "source": [
    "plt.plot(x__, history['train_loss'], label='training loss')\n",
    "plt.plot(x__, history['val_loss'], label='validation loss')\n",
    "\n",
    "\n",
    "# Graph chars\n",
    "plt.title('Loss history')\n",
    "plt.xlabel('Epoch')\n",
    "plt.legend()\n"
   ]
  },
  {
   "cell_type": "code",
   "execution_count": 40,
   "id": "4f152703",
   "metadata": {
    "execution": {
     "iopub.execute_input": "2023-07-07T18:33:20.746469Z",
     "iopub.status.busy": "2023-07-07T18:33:20.745030Z",
     "iopub.status.idle": "2023-07-07T18:33:29.844940Z",
     "shell.execute_reply": "2023-07-07T18:33:29.843974Z"
    },
    "papermill": {
     "duration": 9.125916,
     "end_time": "2023-07-07T18:33:29.847718",
     "exception": false,
     "start_time": "2023-07-07T18:33:20.721802",
     "status": "completed"
    },
    "tags": []
   },
   "outputs": [
    {
     "name": "stdout",
     "output_type": "stream",
     "text": [
      "Test Accuracy: 0.7414\n",
      "Test macro-Precision: 0.5917\n",
      "Test macro-Recall: 0.5751\n",
      "Test macro-F1-score: 0.5637\n",
      "\n"
     ]
    }
   ],
   "source": [
    "# Get model performance (accuracy and loss)\n",
    "test_acc, test_loss, test_eval_metrics = eval_model(\n",
    "    model,\n",
    "    test_data_loader,\n",
    "    loss_fn,\n",
    "    device,\n",
    "    len(df_test)\n",
    ")\n",
    "\n",
    "accuracy, precision, recall, f1 = test_eval_metrics\n",
    "\n",
    "print('Test Accuracy: {:.4f}'.format(accuracy))\n",
    "print('Test macro-Precision: {:.4f}'.format(precision))\n",
    "print('Test macro-Recall: {:.4f}'.format(recall))\n",
    "print('Test macro-F1-score: {:.4f}\\n'.format(f1))\n"
   ]
  },
  {
   "cell_type": "code",
   "execution_count": 41,
   "id": "ab0f7d87",
   "metadata": {
    "execution": {
     "iopub.execute_input": "2023-07-07T18:33:29.915550Z",
     "iopub.status.busy": "2023-07-07T18:33:29.915064Z",
     "iopub.status.idle": "2023-07-07T18:33:29.927157Z",
     "shell.execute_reply": "2023-07-07T18:33:29.926258Z"
    },
    "papermill": {
     "duration": 0.048789,
     "end_time": "2023-07-07T18:33:29.930281",
     "exception": false,
     "start_time": "2023-07-07T18:33:29.881492",
     "status": "completed"
    },
    "tags": []
   },
   "outputs": [],
   "source": [
    "def get_predictions(model, data_loader):\n",
    "    model = model.eval()\n",
    "\n",
    "    review_texts = []\n",
    "    predictions = []\n",
    "    prediction_probs = []\n",
    "    real_values = []\n",
    "\n",
    "    with torch.no_grad():\n",
    "        for d in data_loader:\n",
    "            texts = d[\"review_text\"]\n",
    "            input_ids = d[\"input_ids\"].to(device)\n",
    "            attention_mask = d[\"attention_mask\"].to(device)\n",
    "            targets = d[\"targets\"].to(device)\n",
    "\n",
    "            # Get outouts\n",
    "            outputs = model(\n",
    "                input_ids=input_ids,\n",
    "                attention_mask=attention_mask\n",
    "            )\n",
    "            _, preds = torch.max(outputs, dim=1)\n",
    "\n",
    "            review_texts.extend(texts)\n",
    "            predictions.extend(preds)\n",
    "            prediction_probs.extend(outputs)\n",
    "            real_values.extend(targets)\n",
    "\n",
    "    predictions = torch.stack(predictions).cpu()\n",
    "    prediction_probs = torch.stack(prediction_probs).cpu()\n",
    "    real_values = torch.stack(real_values).cpu()\n",
    "\n",
    "    return review_texts, predictions, prediction_probs, real_values\n"
   ]
  },
  {
   "cell_type": "code",
   "execution_count": 42,
   "id": "67c56d8f",
   "metadata": {
    "execution": {
     "iopub.execute_input": "2023-07-07T18:33:30.005413Z",
     "iopub.status.busy": "2023-07-07T18:33:30.004917Z",
     "iopub.status.idle": "2023-07-07T18:33:38.068045Z",
     "shell.execute_reply": "2023-07-07T18:33:38.067005Z"
    },
    "papermill": {
     "duration": 8.107445,
     "end_time": "2023-07-07T18:33:38.070489",
     "exception": false,
     "start_time": "2023-07-07T18:33:29.963044",
     "status": "completed"
    },
    "tags": []
   },
   "outputs": [],
   "source": [
    "y_review_texts, y_pred, y_pred_probs, y_test = get_predictions(\n",
    "    model,\n",
    "    test_data_loader\n",
    ")\n"
   ]
  },
  {
   "cell_type": "code",
   "execution_count": 43,
   "id": "79362c67",
   "metadata": {
    "execution": {
     "iopub.execute_input": "2023-07-07T18:33:38.117007Z",
     "iopub.status.busy": "2023-07-07T18:33:38.116149Z",
     "iopub.status.idle": "2023-07-07T18:33:38.130525Z",
     "shell.execute_reply": "2023-07-07T18:33:38.129249Z"
    },
    "papermill": {
     "duration": 0.039432,
     "end_time": "2023-07-07T18:33:38.132549",
     "exception": false,
     "start_time": "2023-07-07T18:33:38.093117",
     "status": "completed"
    },
    "tags": []
   },
   "outputs": [
    {
     "name": "stdout",
     "output_type": "stream",
     "text": [
      "              precision    recall  f1-score   support\n",
      "\n",
      "    negative       0.70      0.61      0.65       467\n",
      "     neutral       0.21      0.19      0.20       156\n",
      "    positive       0.82      0.88      0.85      1037\n",
      "\n",
      "    accuracy                           0.74      1660\n",
      "   macro avg       0.58      0.56      0.57      1660\n",
      "weighted avg       0.73      0.74      0.73      1660\n",
      "\n"
     ]
    }
   ],
   "source": [
    "print(classification_report(y_test, y_pred, target_names=class_names))\n"
   ]
  },
  {
   "cell_type": "code",
   "execution_count": 44,
   "id": "bdcd4d75",
   "metadata": {
    "execution": {
     "iopub.execute_input": "2023-07-07T18:33:38.181843Z",
     "iopub.status.busy": "2023-07-07T18:33:38.180946Z",
     "iopub.status.idle": "2023-07-07T18:33:38.879005Z",
     "shell.execute_reply": "2023-07-07T18:33:38.878099Z"
    },
    "papermill": {
     "duration": 0.725207,
     "end_time": "2023-07-07T18:33:38.881561",
     "exception": false,
     "start_time": "2023-07-07T18:33:38.156354",
     "status": "completed"
    },
    "tags": []
   },
   "outputs": [
    {
     "data": {
      "image/png": "[encoded data removed]",
      "text/plain": [
       "<Figure size 1200x800 with 2 Axes>"
      ]
     },
     "metadata": {
      "image/png": {
       "height": 730,
       "width": 1008
      }
     },
     "output_type": "display_data"
    }
   ],
   "source": [
    "def show_confusion_matrix(confusion_matrix):\n",
    "    hmap = sns.heatmap(confusion_matrix, annot=True, fmt=\"d\", cmap=\"Blues\")\n",
    "    hmap.yaxis.set_ticklabels(hmap.yaxis.get_ticklabels(), rotation=0, ha='right')\n",
    "    hmap.xaxis.set_ticklabels(hmap.xaxis.get_ticklabels(), rotation=30, ha='right')\n",
    "    plt.ylabel('True sentiment')\n",
    "    plt.xlabel('Predicted sentiment');\n",
    "\n",
    "cm = confusion_matrix(y_test, y_pred)\n",
    "df_cm = pd.DataFrame(cm, index=class_names, columns=class_names)\n",
    "show_confusion_matrix(df_cm)\n"
   ]
  },
  {
   "cell_type": "code",
   "execution_count": 45,
   "id": "3c885840",
   "metadata": {
    "execution": {
     "iopub.execute_input": "2023-07-07T18:33:38.934504Z",
     "iopub.status.busy": "2023-07-07T18:33:38.933490Z",
     "iopub.status.idle": "2023-07-07T18:33:38.941395Z",
     "shell.execute_reply": "2023-07-07T18:33:38.940516Z"
    },
    "papermill": {
     "duration": 0.03642,
     "end_time": "2023-07-07T18:33:38.943474",
     "exception": false,
     "start_time": "2023-07-07T18:33:38.907054",
     "status": "completed"
    },
    "tags": []
   },
   "outputs": [
    {
     "name": "stderr",
     "output_type": "stream",
     "text": [
      "Truncation was not explicitly activated but `max_length` is provided a specific value, please use `truncation=True` to explicitly truncate examples to max length. Defaulting to 'longest_first' truncation strategy. If you encode pairs of sequences (GLUE-style) with the tokenizer you can select this strategy more precisely by providing a specific strategy to `truncation`.\n"
     ]
    }
   ],
   "source": [
    "review_text = \"App này không có nhiều tính năng nhưng vẫn hoạt động được\"\n",
    "encoded_review = tokenizer.encode_plus(\n",
    "    review_text,\n",
    "    max_length=MAX_LEN,\n",
    "    add_special_tokens=True,\n",
    "    return_token_type_ids=False,\n",
    "    pad_to_max_length=True,\n",
    "    return_attention_mask=True,\n",
    "    return_tensors='pt',\n",
    ")\n"
   ]
  },
  {
   "cell_type": "code",
   "execution_count": 46,
   "id": "9dde7281",
   "metadata": {
    "execution": {
     "iopub.execute_input": "2023-07-07T18:33:38.992744Z",
     "iopub.status.busy": "2023-07-07T18:33:38.991822Z",
     "iopub.status.idle": "2023-07-07T18:33:39.020288Z",
     "shell.execute_reply": "2023-07-07T18:33:39.019294Z"
    },
    "papermill": {
     "duration": 0.055293,
     "end_time": "2023-07-07T18:33:39.022317",
     "exception": false,
     "start_time": "2023-07-07T18:33:38.967024",
     "status": "completed"
    },
    "tags": []
   },
   "outputs": [
    {
     "name": "stdout",
     "output_type": "stream",
     "text": [
      "Review text: App này không có nhiều tính năng nhưng vẫn hoạt động được\n",
      "Sentiment  : positive\n"
     ]
    }
   ],
   "source": [
    "input_ids = encoded_review['input_ids'].to(device)\n",
    "attention_mask = encoded_review['attention_mask'].to(device)\n",
    "\n",
    "output = model(input_ids, attention_mask)\n",
    "_, prediction = torch.max(output, dim=1)\n",
    "\n",
    "print(f'Review text: {review_text}')\n",
    "print(f'Sentiment  : {class_names[prediction]}')\n"
   ]
  },
  {
   "cell_type": "code",
   "execution_count": 47,
   "id": "326c0915",
   "metadata": {
    "execution": {
     "iopub.execute_input": "2023-07-07T18:33:39.072364Z",
     "iopub.status.busy": "2023-07-07T18:33:39.070931Z",
     "iopub.status.idle": "2023-07-07T18:33:39.076059Z",
     "shell.execute_reply": "2023-07-07T18:33:39.075164Z"
    },
    "papermill": {
     "duration": 0.03196,
     "end_time": "2023-07-07T18:33:39.077989",
     "exception": false,
     "start_time": "2023-07-07T18:33:39.046029",
     "status": "completed"
    },
    "tags": []
   },
   "outputs": [],
   "source": [
    "softmax = torch.nn.Softmax(dim=1)\n",
    "output_ = softmax(output)\n"
   ]
  },
  {
   "cell_type": "code",
   "execution_count": 48,
   "id": "6c444697",
   "metadata": {
    "execution": {
     "iopub.execute_input": "2023-07-07T18:33:39.127364Z",
     "iopub.status.busy": "2023-07-07T18:33:39.126481Z",
     "iopub.status.idle": "2023-07-07T18:33:39.143244Z",
     "shell.execute_reply": "2023-07-07T18:33:39.142374Z"
    },
    "papermill": {
     "duration": 0.043676,
     "end_time": "2023-07-07T18:33:39.145169",
     "exception": false,
     "start_time": "2023-07-07T18:33:39.101493",
     "status": "completed"
    },
    "tags": []
   },
   "outputs": [
    {
     "name": "stdout",
     "output_type": "stream",
     "text": [
      "tensor([[0.0041, 0.0041, 0.9918]], device='cuda:0', grad_fn=<SoftmaxBackward0>)\n"
     ]
    }
   ],
   "source": [
    "print(output_)\n"
   ]
  },
  {
   "cell_type": "markdown",
   "id": "c6ec8ffc",
   "metadata": {
    "id": "r9HmYGjJPTOZ",
    "papermill": {
     "duration": 0.023786,
     "end_time": "2023-07-07T18:33:39.192672",
     "exception": false,
     "start_time": "2023-07-07T18:33:39.168886",
     "status": "completed"
    },
    "tags": []
   },
   "source": []
  }
 ],
 "metadata": {
  "kernelspec": {
   "display_name": "Python 3",
   "language": "python",
   "name": "python3"
  },
  "language_info": {
   "codemirror_mode": {
    "name": "ipython",
    "version": 3
   },
   "file_extension": ".py",
   "mimetype": "text/x-python",
   "name": "python",
   "nbconvert_exporter": "python",
   "pygments_lexer": "ipython3",
   "version": "3.10.10"
  },
  "papermill": {
   "default_parameters": {},
   "duration": 2359.679543,
   "end_time": "2023-07-07T18:33:42.585570",
   "environment_variables": {},
   "exception": null,
   "input_path": "__notebook__.ipynb",
   "output_path": "__notebook__.ipynb",
   "parameters": {},
   "start_time": "2023-07-07T17:54:22.906027",
   "version": "2.4.0"
  },
  "widgets": {
   "application/vnd.jupyter.widget-state+json": {
    "state": {
     "00b27b59cd18499389fa45bd2b9ee0cc": {
      "model_module": "@jupyter-widgets/controls",
      "model_module_version": "1.5.0",
      "model_name": "HBoxModel",
      "state": {
       "_dom_classes": [],
       "_model_module": "@jupyter-widgets/controls",
       "_model_module_version": "1.5.0",
       "_model_name": "HBoxModel",
       "_view_count": null,
       "_view_module": "@jupyter-widgets/controls",
       "_view_module_version": "1.5.0",
       "_view_name": "HBoxView",
       "box_style": "",
       "children": [
        "IPY_MODEL_7276c68c219a463baee708fe3eda3596",
        "IPY_MODEL_a02c6a82f20e45609ff52898ad8ca954",
        "IPY_MODEL_729714f98bf94e0f97c619f583c6fceb"
       ],
       "layout": "IPY_MODEL_d7b7953835e5469986fd2d70606c37ac"
      }
     },
     "093cfdda2f8642aead9cf1e555efc8f2": {
      "model_module": "@jupyter-widgets/controls",
      "model_module_version": "1.5.0",
      "model_name": "FloatProgressModel",
      "state": {
       "_dom_classes": [],
       "_model_module": "@jupyter-widgets/controls",
       "_model_module_version": "1.5.0",
       "_model_name": "FloatProgressModel",
       "_view_count": null,
       "_view_module": "@jupyter-widgets/controls",
       "_view_module_version": "1.5.0",
       "_view_name": "ProgressView",
       "bar_style": "success",
       "description": "",
       "description_tooltip": null,
       "layout": "IPY_MODEL_b3020ad3cb7c4addb237432df0ceea52",
       "max": 542923308.0,
       "min": 0.0,
       "orientation": "horizontal",
       "style": "IPY_MODEL_543c213754d94275a42bb6e678ec5bdc",
       "value": 542923308.0
      }
     },
     "110b426b8e8b42e1957536b7fdc84e8a": {
      "model_module": "@jupyter-widgets/controls",
      "model_module_version": "1.5.0",
      "model_name": "ProgressStyleModel",
      "state": {
       "_model_module": "@jupyter-widgets/controls",
       "_model_module_version": "1.5.0",
       "_model_name": "ProgressStyleModel",
       "_view_count": null,
       "_view_module": "@jupyter-widgets/base",
       "_view_module_version": "1.2.0",
       "_view_name": "StyleView",
       "bar_color": null,
       "description_width": ""
      }
     },
     "114faa12d09f48628ac35a9c7b7934ea": {
      "model_module": "@jupyter-widgets/controls",
      "model_module_version": "1.5.0",
      "model_name": "DescriptionStyleModel",
      "state": {
       "_model_module": "@jupyter-widgets/controls",
       "_model_module_version": "1.5.0",
       "_model_name": "DescriptionStyleModel",
       "_view_count": null,
       "_view_module": "@jupyter-widgets/base",
       "_view_module_version": "1.2.0",
       "_view_name": "StyleView",
       "description_width": ""
      }
     },
     "12d288a87b6f48fc8197a91e95309960": {
      "model_module": "@jupyter-widgets/controls",
      "model_module_version": "1.5.0",
      "model_name": "ProgressStyleModel",
      "state": {
       "_model_module": "@jupyter-widgets/controls",
       "_model_module_version": "1.5.0",
       "_model_name": "ProgressStyleModel",
       "_view_count": null,
       "_view_module": "@jupyter-widgets/base",
       "_view_module_version": "1.2.0",
       "_view_name": "StyleView",
       "bar_color": null,
       "description_width": ""
      }
     },
     "1b7d3b32a8b943fa8e0e9cfba30876d0": {
      "model_module": "@jupyter-widgets/controls",
      "model_module_version": "1.5.0",
      "model_name": "HBoxModel",
      "state": {
       "_dom_classes": [],
       "_model_module": "@jupyter-widgets/controls",
       "_model_module_version": "1.5.0",
       "_model_name": "HBoxModel",
       "_view_count": null,
       "_view_module": "@jupyter-widgets/controls",
       "_view_module_version": "1.5.0",
       "_view_name": "HBoxView",
       "box_style": "",
       "children": [
        "IPY_MODEL_2da6e858de5b42e582920cc494810c39",
        "IPY_MODEL_7b9cdc6468c94ca69587eb231bae4ab1",
        "IPY_MODEL_d539b1e4843542f6b2ef9acbf76dd2e1"
       ],
       "layout": "IPY_MODEL_95d4461aa2cb4866a2a686f8f59691b8"
      }
     },
     "1e4ce1c93c3c4871b3d6282965038963": {
      "model_module": "@jupyter-widgets/controls",
      "model_module_version": "1.5.0",
      "model_name": "DescriptionStyleModel",
      "state": {
       "_model_module": "@jupyter-widgets/controls",
       "_model_module_version": "1.5.0",
       "_model_name": "DescriptionStyleModel",
       "_view_count": null,
       "_view_module": "@jupyter-widgets/base",
       "_view_module_version": "1.2.0",
       "_view_name": "StyleView",
       "description_width": ""
      }
     },
     "218e46cf67e34ab78f68d589786ef38d": {
      "model_module": "@jupyter-widgets/controls",
      "model_module_version": "1.5.0",
      "model_name": "ProgressStyleModel",
      "state": {
       "_model_module": "@jupyter-widgets/controls",
       "_model_module_version": "1.5.0",
       "_model_name": "ProgressStyleModel",
       "_view_count": null,
       "_view_module": "@jupyter-widgets/base",
       "_view_module_version": "1.2.0",
       "_view_name": "StyleView",
       "bar_color": null,
       "description_width": ""
      }
     },
     "2852ba100b2846949a3811b3dfd3c932": {
      "model_module": "@jupyter-widgets/base",
      "model_module_version": "1.2.0",
      "model_name": "LayoutModel",
      "state": {
       "_model_module": "@jupyter-widgets/base",
       "_model_module_version": "1.2.0",
       "_model_name": "LayoutModel",
       "_view_count": null,
       "_view_module": "@jupyter-widgets/base",
       "_view_module_version": "1.2.0",
       "_view_name": "LayoutView",
       "align_content": null,
       "align_items": null,
       "align_self": null,
       "border": null,
       "bottom": null,
       "display": null,
       "flex": null,
       "flex_flow": null,
       "grid_area": null,
       "grid_auto_columns": null,
       "grid_auto_flow": null,
       "grid_auto_rows": null,
       "grid_column": null,
       "grid_gap": null,
       "grid_row": null,
       "grid_template_areas": null,
       "grid_template_columns": null,
       "grid_template_rows": null,
       "height": null,
       "justify_content": null,
       "justify_items": null,
       "left": null,
       "margin": null,
       "max_height": null,
       "max_width": null,
       "min_height": null,
       "min_width": null,
       "object_fit": null,
       "object_position": null,
       "order": null,
       "overflow": null,
       "overflow_x": null,
       "overflow_y": null,
       "padding": null,
       "right": null,
       "top": null,
       "visibility": null,
       "width": null
      }
     },
     "2aebe903994a49dc915bf1103947f69c": {
      "model_module": "@jupyter-widgets/base",
      "model_module_version": "1.2.0",
      "model_name": "LayoutModel",
      "state": {
       "_model_module": "@jupyter-widgets/base",
       "_model_module_version": "1.2.0",
       "_model_name": "LayoutModel",
       "_view_count": null,
       "_view_module": "@jupyter-widgets/base",
       "_view_module_version": "1.2.0",
       "_view_name": "LayoutView",
       "align_content": null,
       "align_items": null,
       "align_self": null,
       "border": null,
       "bottom": null,
       "display": null,
       "flex": null,
       "flex_flow": null,
       "grid_area": null,
       "grid_auto_columns": null,
       "grid_auto_flow": null,
       "grid_auto_rows": null,
       "grid_column": null,
       "grid_gap": null,
       "grid_row": null,
       "grid_template_areas": null,
       "grid_template_columns": null,
       "grid_template_rows": null,
       "height": null,
       "justify_content": null,
       "justify_items": null,
       "left": null,
       "margin": null,
       "max_height": null,
       "max_width": null,
       "min_height": null,
       "min_width": null,
       "object_fit": null,
       "object_position": null,
       "order": null,
       "overflow": null,
       "overflow_x": null,
       "overflow_y": null,
       "padding": null,
       "right": null,
       "top": null,
       "visibility": null,
       "width": null
      }
     },
     "2b0edaf4574a4671a800d9c36cf4ebd4": {
      "model_module": "@jupyter-widgets/controls",
      "model_module_version": "1.5.0",
      "model_name": "ProgressStyleModel",
      "state": {
       "_model_module": "@jupyter-widgets/controls",
       "_model_module_version": "1.5.0",
       "_model_name": "ProgressStyleModel",
       "_view_count": null,
       "_view_module": "@jupyter-widgets/base",
       "_view_module_version": "1.2.0",
       "_view_name": "StyleView",
       "bar_color": null,
       "description_width": ""
      }
     },
     "2ce384685b1c4c68a23f9d8369034ec7": {
      "model_module": "@jupyter-widgets/base",
      "model_module_version": "1.2.0",
      "model_name": "LayoutModel",
      "state": {
       "_model_module": "@jupyter-widgets/base",
       "_model_module_version": "1.2.0",
       "_model_name": "LayoutModel",
       "_view_count": null,
       "_view_module": "@jupyter-widgets/base",
       "_view_module_version": "1.2.0",
       "_view_name": "LayoutView",
       "align_content": null,
       "align_items": null,
       "align_self": null,
       "border": null,
       "bottom": null,
       "display": null,
       "flex": null,
       "flex_flow": null,
       "grid_area": null,
       "grid_auto_columns": null,
       "grid_auto_flow": null,
       "grid_auto_rows": null,
       "grid_column": null,
       "grid_gap": null,
       "grid_row": null,
       "grid_template_areas": null,
       "grid_template_columns": null,
       "grid_template_rows": null,
       "height": null,
       "justify_content": null,
       "justify_items": null,
       "left": null,
       "margin": null,
       "max_height": null,
       "max_width": null,
       "min_height": null,
       "min_width": null,
       "object_fit": null,
       "object_position": null,
       "order": null,
       "overflow": null,
       "overflow_x": null,
       "overflow_y": null,
       "padding": null,
       "right": null,
       "top": null,
       "visibility": null,
       "width": null
      }
     },
     "2da6e858de5b42e582920cc494810c39": {
      "model_module": "@jupyter-widgets/controls",
      "model_module_version": "1.5.0",
      "model_name": "HTMLModel",
      "state": {
       "_dom_classes": [],
       "_model_module": "@jupyter-widgets/controls",
       "_model_module_version": "1.5.0",
       "_model_name": "HTMLModel",
       "_view_count": null,
       "_view_module": "@jupyter-widgets/controls",
       "_view_module_version": "1.5.0",
       "_view_name": "HTMLView",
       "description": "",
       "description_tooltip": null,
       "layout": "IPY_MODEL_acc189a583b84d288dda20ca13ee285d",
       "placeholder": "​",
       "style": "IPY_MODEL_6aea2aa99bb44b5cbc82577de4945ef1",
       "value": "Downloading (…)solve/main/bpe.codes: 100%"
      }
     },
     "34e5a4df985f428ea4b269fa95c75fd1": {
      "model_module": "@jupyter-widgets/base",
      "model_module_version": "1.2.0",
      "model_name": "LayoutModel",
      "state": {
       "_model_module": "@jupyter-widgets/base",
       "_model_module_version": "1.2.0",
       "_model_name": "LayoutModel",
       "_view_count": null,
       "_view_module": "@jupyter-widgets/base",
       "_view_module_version": "1.2.0",
       "_view_name": "LayoutView",
       "align_content": null,
       "align_items": null,
       "align_self": null,
       "border": null,
       "bottom": null,
       "display": null,
       "flex": null,
       "flex_flow": null,
       "grid_area": null,
       "grid_auto_columns": null,
       "grid_auto_flow": null,
       "grid_auto_rows": null,
       "grid_column": null,
       "grid_gap": null,
       "grid_row": null,
       "grid_template_areas": null,
       "grid_template_columns": null,
       "grid_template_rows": null,
       "height": null,
       "justify_content": null,
       "justify_items": null,
       "left": null,
       "margin": null,
       "max_height": null,
       "max_width": null,
       "min_height": null,
       "min_width": null,
       "object_fit": null,
       "object_position": null,
       "order": null,
       "overflow": null,
       "overflow_x": null,
       "overflow_y": null,
       "padding": null,
       "right": null,
       "top": null,
       "visibility": null,
       "width": null
      }
     },
     "37631ee20b4742fb8bcad618cb7f04d9": {
      "model_module": "@jupyter-widgets/controls",
      "model_module_version": "1.5.0",
      "model_name": "FloatProgressModel",
      "state": {
       "_dom_classes": [],
       "_model_module": "@jupyter-widgets/controls",
       "_model_module_version": "1.5.0",
       "_model_name": "FloatProgressModel",
       "_view_count": null,
       "_view_module": "@jupyter-widgets/controls",
       "_view_module_version": "1.5.0",
       "_view_name": "ProgressView",
       "bar_style": "success",
       "description": "",
       "description_tooltip": null,
       "layout": "IPY_MODEL_d00a93924ac14ed496a855815043dafd",
       "max": 895321.0,
       "min": 0.0,
       "orientation": "horizontal",
       "style": "IPY_MODEL_2b0edaf4574a4671a800d9c36cf4ebd4",
       "value": 895321.0
      }
     },
     "3e6cd686022c40ef9197f86991c93bd8": {
      "model_module": "@jupyter-widgets/controls",
      "model_module_version": "1.5.0",
      "model_name": "DescriptionStyleModel",
      "state": {
       "_model_module": "@jupyter-widgets/controls",
       "_model_module_version": "1.5.0",
       "_model_name": "DescriptionStyleModel",
       "_view_count": null,
       "_view_module": "@jupyter-widgets/base",
       "_view_module_version": "1.2.0",
       "_view_name": "StyleView",
       "description_width": ""
      }
     },
     "3faa1eb571b84f848fc385de08976ac2": {
      "model_module": "@jupyter-widgets/base",
      "model_module_version": "1.2.0",
      "model_name": "LayoutModel",
      "state": {
       "_model_module": "@jupyter-widgets/base",
       "_model_module_version": "1.2.0",
       "_model_name": "LayoutModel",
       "_view_count": null,
       "_view_module": "@jupyter-widgets/base",
       "_view_module_version": "1.2.0",
       "_view_name": "LayoutView",
       "align_content": null,
       "align_items": null,
       "align_self": null,
       "border": null,
       "bottom": null,
       "display": null,
       "flex": null,
       "flex_flow": null,
       "grid_area": null,
       "grid_auto_columns": null,
       "grid_auto_flow": null,
       "grid_auto_rows": null,
       "grid_column": null,
       "grid_gap": null,
       "grid_row": null,
       "grid_template_areas": null,
       "grid_template_columns": null,
       "grid_template_rows": null,
       "height": null,
       "justify_content": null,
       "justify_items": null,
       "left": null,
       "margin": null,
       "max_height": null,
       "max_width": null,
       "min_height": null,
       "min_width": null,
       "object_fit": null,
       "object_position": null,
       "order": null,
       "overflow": null,
       "overflow_x": null,
       "overflow_y": null,
       "padding": null,
       "right": null,
       "top": null,
       "visibility": null,
       "width": null
      }
     },
     "4374899926c242f8999857a557a4f472": {
      "model_module": "@jupyter-widgets/controls",
      "model_module_version": "1.5.0",
      "model_name": "HTMLModel",
      "state": {
       "_dom_classes": [],
       "_model_module": "@jupyter-widgets/controls",
       "_model_module_version": "1.5.0",
       "_model_name": "HTMLModel",
       "_view_count": null,
       "_view_module": "@jupyter-widgets/controls",
       "_view_module_version": "1.5.0",
       "_view_name": "HTMLView",
       "description": "",
       "description_tooltip": null,
       "layout": "IPY_MODEL_2ce384685b1c4c68a23f9d8369034ec7",
       "placeholder": "​",
       "style": "IPY_MODEL_e18a1464832041899e461f8aeabc4509",
       "value": "Downloading (…)solve/main/vocab.txt: 100%"
      }
     },
     "543c213754d94275a42bb6e678ec5bdc": {
      "model_module": "@jupyter-widgets/controls",
      "model_module_version": "1.5.0",
      "model_name": "ProgressStyleModel",
      "state": {
       "_model_module": "@jupyter-widgets/controls",
       "_model_module_version": "1.5.0",
       "_model_name": "ProgressStyleModel",
       "_view_count": null,
       "_view_module": "@jupyter-widgets/base",
       "_view_module_version": "1.2.0",
       "_view_name": "StyleView",
       "bar_color": null,
       "description_width": ""
      }
     },
     "5b6bc6c9afd646d1b1c52ae5c548ef18": {
      "model_module": "@jupyter-widgets/base",
      "model_module_version": "1.2.0",
      "model_name": "LayoutModel",
      "state": {
       "_model_module": "@jupyter-widgets/base",
       "_model_module_version": "1.2.0",
       "_model_name": "LayoutModel",
       "_view_count": null,
       "_view_module": "@jupyter-widgets/base",
       "_view_module_version": "1.2.0",
       "_view_name": "LayoutView",
       "align_content": null,
       "align_items": null,
       "align_self": null,
       "border": null,
       "bottom": null,
       "display": null,
       "flex": null,
       "flex_flow": null,
       "grid_area": null,
       "grid_auto_columns": null,
       "grid_auto_flow": null,
       "grid_auto_rows": null,
       "grid_column": null,
       "grid_gap": null,
       "grid_row": null,
       "grid_template_areas": null,
       "grid_template_columns": null,
       "grid_template_rows": null,
       "height": null,
       "justify_content": null,
       "justify_items": null,
       "left": null,
       "margin": null,
       "max_height": null,
       "max_width": null,
       "min_height": null,
       "min_width": null,
       "object_fit": null,
       "object_position": null,
       "order": null,
       "overflow": null,
       "overflow_x": null,
       "overflow_y": null,
       "padding": null,
       "right": null,
       "top": null,
       "visibility": null,
       "width": null
      }
     },
     "5e8b5d0f3ed249878593154b8d10712e": {
      "model_module": "@jupyter-widgets/base",
      "model_module_version": "1.2.0",
      "model_name": "LayoutModel",
      "state": {
       "_model_module": "@jupyter-widgets/base",
       "_model_module_version": "1.2.0",
       "_model_name": "LayoutModel",
       "_view_count": null,
       "_view_module": "@jupyter-widgets/base",
       "_view_module_version": "1.2.0",
       "_view_name": "LayoutView",
       "align_content": null,
       "align_items": null,
       "align_self": null,
       "border": null,
       "bottom": null,
       "display": null,
       "flex": null,
       "flex_flow": null,
       "grid_area": null,
       "grid_auto_columns": null,
       "grid_auto_flow": null,
       "grid_auto_rows": null,
       "grid_column": null,
       "grid_gap": null,
       "grid_row": null,
       "grid_template_areas": null,
       "grid_template_columns": null,
       "grid_template_rows": null,
       "height": null,
       "justify_content": null,
       "justify_items": null,
       "left": null,
       "margin": null,
       "max_height": null,
       "max_width": null,
       "min_height": null,
       "min_width": null,
       "object_fit": null,
       "object_position": null,
       "order": null,
       "overflow": null,
       "overflow_x": null,
       "overflow_y": null,
       "padding": null,
       "right": null,
       "top": null,
       "visibility": null,
       "width": null
      }
     },
     "5f51f4f510ec4622befa861666b4a1bb": {
      "model_module": "@jupyter-widgets/base",
      "model_module_version": "1.2.0",
      "model_name": "LayoutModel",
      "state": {
       "_model_module": "@jupyter-widgets/base",
       "_model_module_version": "1.2.0",
       "_model_name": "LayoutModel",
       "_view_count": null,
       "_view_module": "@jupyter-widgets/base",
       "_view_module_version": "1.2.0",
       "_view_name": "LayoutView",
       "align_content": null,
       "align_items": null,
       "align_self": null,
       "border": null,
       "bottom": null,
       "display": null,
       "flex": null,
       "flex_flow": null,
       "grid_area": null,
       "grid_auto_columns": null,
       "grid_auto_flow": null,
       "grid_auto_rows": null,
       "grid_column": null,
       "grid_gap": null,
       "grid_row": null,
       "grid_template_areas": null,
       "grid_template_columns": null,
       "grid_template_rows": null,
       "height": null,
       "justify_content": null,
       "justify_items": null,
       "left": null,
       "margin": null,
       "max_height": null,
       "max_width": null,
       "min_height": null,
       "min_width": null,
       "object_fit": null,
       "object_position": null,
       "order": null,
       "overflow": null,
       "overflow_x": null,
       "overflow_y": null,
       "padding": null,
       "right": null,
       "top": null,
       "visibility": null,
       "width": null
      }
     },
     "61ea03eb3ea84c4490f616d1cf8e5574": {
      "model_module": "@jupyter-widgets/base",
      "model_module_version": "1.2.0",
      "model_name": "LayoutModel",
      "state": {
       "_model_module": "@jupyter-widgets/base",
       "_model_module_version": "1.2.0",
       "_model_name": "LayoutModel",
       "_view_count": null,
       "_view_module": "@jupyter-widgets/base",
       "_view_module_version": "1.2.0",
       "_view_name": "LayoutView",
       "align_content": null,
       "align_items": null,
       "align_self": null,
       "border": null,
       "bottom": null,
       "display": null,
       "flex": null,
       "flex_flow": null,
       "grid_area": null,
       "grid_auto_columns": null,
       "grid_auto_flow": null,
       "grid_auto_rows": null,
       "grid_column": null,
       "grid_gap": null,
       "grid_row": null,
       "grid_template_areas": null,
       "grid_template_columns": null,
       "grid_template_rows": null,
       "height": null,
       "justify_content": null,
       "justify_items": null,
       "left": null,
       "margin": null,
       "max_height": null,
       "max_width": null,
       "min_height": null,
       "min_width": null,
       "object_fit": null,
       "object_position": null,
       "order": null,
       "overflow": null,
       "overflow_x": null,
       "overflow_y": null,
       "padding": null,
       "right": null,
       "top": null,
       "visibility": null,
       "width": null
      }
     },
     "622a260a9e004b98a4bed6fd64f2e0ec": {
      "model_module": "@jupyter-widgets/controls",
      "model_module_version": "1.5.0",
      "model_name": "HTMLModel",
      "state": {
       "_dom_classes": [],
       "_model_module": "@jupyter-widgets/controls",
       "_model_module_version": "1.5.0",
       "_model_name": "HTMLModel",
       "_view_count": null,
       "_view_module": "@jupyter-widgets/controls",
       "_view_module_version": "1.5.0",
       "_view_name": "HTMLView",
       "description": "",
       "description_tooltip": null,
       "layout": "IPY_MODEL_34e5a4df985f428ea4b269fa95c75fd1",
       "placeholder": "​",
       "style": "IPY_MODEL_1e4ce1c93c3c4871b3d6282965038963",
       "value": " 543M/543M [00:17&lt;00:00, 33.0MB/s]"
      }
     },
     "622c6e8cdb284843ad5ca1f07459a31e": {
      "model_module": "@jupyter-widgets/base",
      "model_module_version": "1.2.0",
      "model_name": "LayoutModel",
      "state": {
       "_model_module": "@jupyter-widgets/base",
       "_model_module_version": "1.2.0",
       "_model_name": "LayoutModel",
       "_view_count": null,
       "_view_module": "@jupyter-widgets/base",
       "_view_module_version": "1.2.0",
       "_view_name": "LayoutView",
       "align_content": null,
       "align_items": null,
       "align_self": null,
       "border": null,
       "bottom": null,
       "display": null,
       "flex": null,
       "flex_flow": null,
       "grid_area": null,
       "grid_auto_columns": null,
       "grid_auto_flow": null,
       "grid_auto_rows": null,
       "grid_column": null,
       "grid_gap": null,
       "grid_row": null,
       "grid_template_areas": null,
       "grid_template_columns": null,
       "grid_template_rows": null,
       "height": null,
       "justify_content": null,
       "justify_items": null,
       "left": null,
       "margin": null,
       "max_height": null,
       "max_width": null,
       "min_height": null,
       "min_width": null,
       "object_fit": null,
       "object_position": null,
       "order": null,
       "overflow": null,
       "overflow_x": null,
       "overflow_y": null,
       "padding": null,
       "right": null,
       "top": null,
       "visibility": null,
       "width": null
      }
     },
     "6484e775b6a449c1b93b18c6f5aabf9f": {
      "model_module": "@jupyter-widgets/controls",
      "model_module_version": "1.5.0",
      "model_name": "FloatProgressModel",
      "state": {
       "_dom_classes": [],
       "_model_module": "@jupyter-widgets/controls",
       "_model_module_version": "1.5.0",
       "_model_name": "FloatProgressModel",
       "_view_count": null,
       "_view_module": "@jupyter-widgets/controls",
       "_view_module_version": "1.5.0",
       "_view_name": "ProgressView",
       "bar_style": "success",
       "description": "",
       "description_tooltip": null,
       "layout": "IPY_MODEL_2852ba100b2846949a3811b3dfd3c932",
       "max": 557.0,
       "min": 0.0,
       "orientation": "horizontal",
       "style": "IPY_MODEL_218e46cf67e34ab78f68d589786ef38d",
       "value": 557.0
      }
     },
     "6519be0e2ce94da99c5ea4cffb4d55cf": {
      "model_module": "@jupyter-widgets/controls",
      "model_module_version": "1.5.0",
      "model_name": "DescriptionStyleModel",
      "state": {
       "_model_module": "@jupyter-widgets/controls",
       "_model_module_version": "1.5.0",
       "_model_name": "DescriptionStyleModel",
       "_view_count": null,
       "_view_module": "@jupyter-widgets/base",
       "_view_module_version": "1.2.0",
       "_view_name": "StyleView",
       "description_width": ""
      }
     },
     "6aea2aa99bb44b5cbc82577de4945ef1": {
      "model_module": "@jupyter-widgets/controls",
      "model_module_version": "1.5.0",
      "model_name": "DescriptionStyleModel",
      "state": {
       "_model_module": "@jupyter-widgets/controls",
       "_model_module_version": "1.5.0",
       "_model_name": "DescriptionStyleModel",
       "_view_count": null,
       "_view_module": "@jupyter-widgets/base",
       "_view_module_version": "1.2.0",
       "_view_name": "StyleView",
       "description_width": ""
      }
     },
     "6d68c994635e413092befea53cf83ade": {
      "model_module": "@jupyter-widgets/controls",
      "model_module_version": "1.5.0",
      "model_name": "HTMLModel",
      "state": {
       "_dom_classes": [],
       "_model_module": "@jupyter-widgets/controls",
       "_model_module_version": "1.5.0",
       "_model_name": "HTMLModel",
       "_view_count": null,
       "_view_module": "@jupyter-widgets/controls",
       "_view_module_version": "1.5.0",
       "_view_name": "HTMLView",
       "description": "",
       "description_tooltip": null,
       "layout": "IPY_MODEL_5f51f4f510ec4622befa861666b4a1bb",
       "placeholder": "​",
       "style": "IPY_MODEL_8366e869f6984b44a1c5fc48c992f8b9",
       "value": " 895k/895k [00:00&lt;00:00, 51.6MB/s]"
      }
     },
     "7038730c779242af8f968711ed08fd3a": {
      "model_module": "@jupyter-widgets/base",
      "model_module_version": "1.2.0",
      "model_name": "LayoutModel",
      "state": {
       "_model_module": "@jupyter-widgets/base",
       "_model_module_version": "1.2.0",
       "_model_name": "LayoutModel",
       "_view_count": null,
       "_view_module": "@jupyter-widgets/base",
       "_view_module_version": "1.2.0",
       "_view_name": "LayoutView",
       "align_content": null,
       "align_items": null,
       "align_self": null,
       "border": null,
       "bottom": null,
       "display": null,
       "flex": null,
       "flex_flow": null,
       "grid_area": null,
       "grid_auto_columns": null,
       "grid_auto_flow": null,
       "grid_auto_rows": null,
       "grid_column": null,
       "grid_gap": null,
       "grid_row": null,
       "grid_template_areas": null,
       "grid_template_columns": null,
       "grid_template_rows": null,
       "height": null,
       "justify_content": null,
       "justify_items": null,
       "left": null,
       "margin": null,
       "max_height": null,
       "max_width": null,
       "min_height": null,
       "min_width": null,
       "object_fit": null,
       "object_position": null,
       "order": null,
       "overflow": null,
       "overflow_x": null,
       "overflow_y": null,
       "padding": null,
       "right": null,
       "top": null,
       "visibility": null,
       "width": null
      }
     },
     "7276c68c219a463baee708fe3eda3596": {
      "model_module": "@jupyter-widgets/controls",
      "model_module_version": "1.5.0",
      "model_name": "HTMLModel",
      "state": {
       "_dom_classes": [],
       "_model_module": "@jupyter-widgets/controls",
       "_model_module_version": "1.5.0",
       "_model_name": "HTMLModel",
       "_view_count": null,
       "_view_module": "@jupyter-widgets/controls",
       "_view_module_version": "1.5.0",
       "_view_name": "HTMLView",
       "description": "",
       "description_tooltip": null,
       "layout": "IPY_MODEL_622c6e8cdb284843ad5ca1f07459a31e",
       "placeholder": "​",
       "style": "IPY_MODEL_f6b68d615f0d4494ac1837ec2548b13f",
       "value": "Downloading (…)solve/main/bpe.codes: 100%"
      }
     },
     "729714f98bf94e0f97c619f583c6fceb": {
      "model_module": "@jupyter-widgets/controls",
      "model_module_version": "1.5.0",
      "model_name": "HTMLModel",
      "state": {
       "_dom_classes": [],
       "_model_module": "@jupyter-widgets/controls",
       "_model_module_version": "1.5.0",
       "_model_name": "HTMLModel",
       "_view_count": null,
       "_view_module": "@jupyter-widgets/controls",
       "_view_module_version": "1.5.0",
       "_view_name": "HTMLView",
       "description": "",
       "description_tooltip": null,
       "layout": "IPY_MODEL_3faa1eb571b84f848fc385de08976ac2",
       "placeholder": "​",
       "style": "IPY_MODEL_a23f19530c5548459f13363c325d036a",
       "value": " 1.14M/1.14M [00:01&lt;00:00, 1.08MB/s]"
      }
     },
     "7715e6dee69749e0949e584b975eb635": {
      "model_module": "@jupyter-widgets/base",
      "model_module_version": "1.2.0",
      "model_name": "LayoutModel",
      "state": {
       "_model_module": "@jupyter-widgets/base",
       "_model_module_version": "1.2.0",
       "_model_name": "LayoutModel",
       "_view_count": null,
       "_view_module": "@jupyter-widgets/base",
       "_view_module_version": "1.2.0",
       "_view_name": "LayoutView",
       "align_content": null,
       "align_items": null,
       "align_self": null,
       "border": null,
       "bottom": null,
       "display": null,
       "flex": null,
       "flex_flow": null,
       "grid_area": null,
       "grid_auto_columns": null,
       "grid_auto_flow": null,
       "grid_auto_rows": null,
       "grid_column": null,
       "grid_gap": null,
       "grid_row": null,
       "grid_template_areas": null,
       "grid_template_columns": null,
       "grid_template_rows": null,
       "height": null,
       "justify_content": null,
       "justify_items": null,
       "left": null,
       "margin": null,
       "max_height": null,
       "max_width": null,
       "min_height": null,
       "min_width": null,
       "object_fit": null,
       "object_position": null,
       "order": null,
       "overflow": null,
       "overflow_x": null,
       "overflow_y": null,
       "padding": null,
       "right": null,
       "top": null,
       "visibility": null,
       "width": null
      }
     },
     "791a1a0ad8fb439997d92e7f3daf7508": {
      "model_module": "@jupyter-widgets/controls",
      "model_module_version": "1.5.0",
      "model_name": "DescriptionStyleModel",
      "state": {
       "_model_module": "@jupyter-widgets/controls",
       "_model_module_version": "1.5.0",
       "_model_name": "DescriptionStyleModel",
       "_view_count": null,
       "_view_module": "@jupyter-widgets/base",
       "_view_module_version": "1.2.0",
       "_view_name": "StyleView",
       "description_width": ""
      }
     },
     "7b9cdc6468c94ca69587eb231bae4ab1": {
      "model_module": "@jupyter-widgets/controls",
      "model_module_version": "1.5.0",
      "model_name": "FloatProgressModel",
      "state": {
       "_dom_classes": [],
       "_model_module": "@jupyter-widgets/controls",
       "_model_module_version": "1.5.0",
       "_model_name": "FloatProgressModel",
       "_view_count": null,
       "_view_module": "@jupyter-widgets/controls",
       "_view_module_version": "1.5.0",
       "_view_name": "ProgressView",
       "bar_style": "success",
       "description": "",
       "description_tooltip": null,
       "layout": "IPY_MODEL_b4f0321c89ca4757876557bf6e077ad1",
       "max": 1135173.0,
       "min": 0.0,
       "orientation": "horizontal",
       "style": "IPY_MODEL_12d288a87b6f48fc8197a91e95309960",
       "value": 1135173.0
      }
     },
     "7dc1cb81c08e48d88a182ccb1b594d45": {
      "model_module": "@jupyter-widgets/controls",
      "model_module_version": "1.5.0",
      "model_name": "HTMLModel",
      "state": {
       "_dom_classes": [],
       "_model_module": "@jupyter-widgets/controls",
       "_model_module_version": "1.5.0",
       "_model_name": "HTMLModel",
       "_view_count": null,
       "_view_module": "@jupyter-widgets/controls",
       "_view_module_version": "1.5.0",
       "_view_name": "HTMLView",
       "description": "",
       "description_tooltip": null,
       "layout": "IPY_MODEL_61ea03eb3ea84c4490f616d1cf8e5574",
       "placeholder": "​",
       "style": "IPY_MODEL_e8cc35e7988d46f481b3532b3a96bf6c",
       "value": "Downloading (…)lve/main/config.json: 100%"
      }
     },
     "7de058792c694093acaab203638641d2": {
      "model_module": "@jupyter-widgets/controls",
      "model_module_version": "1.5.0",
      "model_name": "HTMLModel",
      "state": {
       "_dom_classes": [],
       "_model_module": "@jupyter-widgets/controls",
       "_model_module_version": "1.5.0",
       "_model_name": "HTMLModel",
       "_view_count": null,
       "_view_module": "@jupyter-widgets/controls",
       "_view_module_version": "1.5.0",
       "_view_name": "HTMLView",
       "description": "",
       "description_tooltip": null,
       "layout": "IPY_MODEL_7e3461b870724d98945f8cb64205dac4",
       "placeholder": "​",
       "style": "IPY_MODEL_114faa12d09f48628ac35a9c7b7934ea",
       "value": " 678/678 [00:00&lt;00:00, 47.1kB/s]"
      }
     },
     "7e3461b870724d98945f8cb64205dac4": {
      "model_module": "@jupyter-widgets/base",
      "model_module_version": "1.2.0",
      "model_name": "LayoutModel",
      "state": {
       "_model_module": "@jupyter-widgets/base",
       "_model_module_version": "1.2.0",
       "_model_name": "LayoutModel",
       "_view_count": null,
       "_view_module": "@jupyter-widgets/base",
       "_view_module_version": "1.2.0",
       "_view_name": "LayoutView",
       "align_content": null,
       "align_items": null,
       "align_self": null,
       "border": null,
       "bottom": null,
       "display": null,
       "flex": null,
       "flex_flow": null,
       "grid_area": null,
       "grid_auto_columns": null,
       "grid_auto_flow": null,
       "grid_auto_rows": null,
       "grid_column": null,
       "grid_gap": null,
       "grid_row": null,
       "grid_template_areas": null,
       "grid_template_columns": null,
       "grid_template_rows": null,
       "height": null,
       "justify_content": null,
       "justify_items": null,
       "left": null,
       "margin": null,
       "max_height": null,
       "max_width": null,
       "min_height": null,
       "min_width": null,
       "object_fit": null,
       "object_position": null,
       "order": null,
       "overflow": null,
       "overflow_x": null,
       "overflow_y": null,
       "padding": null,
       "right": null,
       "top": null,
       "visibility": null,
       "width": null
      }
     },
     "7f8fb82518ce45e0bce6f182edb734c4": {
      "model_module": "@jupyter-widgets/controls",
      "model_module_version": "1.5.0",
      "model_name": "HBoxModel",
      "state": {
       "_dom_classes": [],
       "_model_module": "@jupyter-widgets/controls",
       "_model_module_version": "1.5.0",
       "_model_name": "HBoxModel",
       "_view_count": null,
       "_view_module": "@jupyter-widgets/controls",
       "_view_module_version": "1.5.0",
       "_view_name": "HBoxView",
       "box_style": "",
       "children": [
        "IPY_MODEL_4374899926c242f8999857a557a4f472",
        "IPY_MODEL_835bcb399cbb4884afe90d76dda9d6bf",
        "IPY_MODEL_6d68c994635e413092befea53cf83ade"
       ],
       "layout": "IPY_MODEL_e81bb8a9c1ab47a097260d9e5e1a4788"
      }
     },
     "82a9e06456c5460ebb324b1ea91180b6": {
      "model_module": "@jupyter-widgets/controls",
      "model_module_version": "1.5.0",
      "model_name": "HTMLModel",
      "state": {
       "_dom_classes": [],
       "_model_module": "@jupyter-widgets/controls",
       "_model_module_version": "1.5.0",
       "_model_name": "HTMLModel",
       "_view_count": null,
       "_view_module": "@jupyter-widgets/controls",
       "_view_module_version": "1.5.0",
       "_view_name": "HTMLView",
       "description": "",
       "description_tooltip": null,
       "layout": "IPY_MODEL_ac144c0d839d45b58157c5ae049c71a3",
       "placeholder": "​",
       "style": "IPY_MODEL_e2b5b128107543cc9480674f33cd9322",
       "value": " 895k/895k [00:00&lt;00:00, 1.07MB/s]"
      }
     },
     "835bcb399cbb4884afe90d76dda9d6bf": {
      "model_module": "@jupyter-widgets/controls",
      "model_module_version": "1.5.0",
      "model_name": "FloatProgressModel",
      "state": {
       "_dom_classes": [],
       "_model_module": "@jupyter-widgets/controls",
       "_model_module_version": "1.5.0",
       "_model_name": "FloatProgressModel",
       "_view_count": null,
       "_view_module": "@jupyter-widgets/controls",
       "_view_module_version": "1.5.0",
       "_view_name": "ProgressView",
       "bar_style": "success",
       "description": "",
       "description_tooltip": null,
       "layout": "IPY_MODEL_5b6bc6c9afd646d1b1c52ae5c548ef18",
       "max": 895321.0,
       "min": 0.0,
       "orientation": "horizontal",
       "style": "IPY_MODEL_9ff8c32771d644b79358b3196baa70bd",
       "value": 895321.0
      }
     },
     "8366e869f6984b44a1c5fc48c992f8b9": {
      "model_module": "@jupyter-widgets/controls",
      "model_module_version": "1.5.0",
      "model_name": "DescriptionStyleModel",
      "state": {
       "_model_module": "@jupyter-widgets/controls",
       "_model_module_version": "1.5.0",
       "_model_name": "DescriptionStyleModel",
       "_view_count": null,
       "_view_module": "@jupyter-widgets/base",
       "_view_module_version": "1.2.0",
       "_view_name": "StyleView",
       "description_width": ""
      }
     },
     "918d5685c0004430b88701b7a6892a71": {
      "model_module": "@jupyter-widgets/base",
      "model_module_version": "1.2.0",
      "model_name": "LayoutModel",
      "state": {
       "_model_module": "@jupyter-widgets/base",
       "_model_module_version": "1.2.0",
       "_model_name": "LayoutModel",
       "_view_count": null,
       "_view_module": "@jupyter-widgets/base",
       "_view_module_version": "1.2.0",
       "_view_name": "LayoutView",
       "align_content": null,
       "align_items": null,
       "align_self": null,
       "border": null,
       "bottom": null,
       "display": null,
       "flex": null,
       "flex_flow": null,
       "grid_area": null,
       "grid_auto_columns": null,
       "grid_auto_flow": null,
       "grid_auto_rows": null,
       "grid_column": null,
       "grid_gap": null,
       "grid_row": null,
       "grid_template_areas": null,
       "grid_template_columns": null,
       "grid_template_rows": null,
       "height": null,
       "justify_content": null,
       "justify_items": null,
       "left": null,
       "margin": null,
       "max_height": null,
       "max_width": null,
       "min_height": null,
       "min_width": null,
       "object_fit": null,
       "object_position": null,
       "order": null,
       "overflow": null,
       "overflow_x": null,
       "overflow_y": null,
       "padding": null,
       "right": null,
       "top": null,
       "visibility": null,
       "width": null
      }
     },
     "9394854f5e2b4af68be2bcc63fca0b16": {
      "model_module": "@jupyter-widgets/base",
      "model_module_version": "1.2.0",
      "model_name": "LayoutModel",
      "state": {
       "_model_module": "@jupyter-widgets/base",
       "_model_module_version": "1.2.0",
       "_model_name": "LayoutModel",
       "_view_count": null,
       "_view_module": "@jupyter-widgets/base",
       "_view_module_version": "1.2.0",
       "_view_name": "LayoutView",
       "align_content": null,
       "align_items": null,
       "align_self": null,
       "border": null,
       "bottom": null,
       "display": null,
       "flex": null,
       "flex_flow": null,
       "grid_area": null,
       "grid_auto_columns": null,
       "grid_auto_flow": null,
       "grid_auto_rows": null,
       "grid_column": null,
       "grid_gap": null,
       "grid_row": null,
       "grid_template_areas": null,
       "grid_template_columns": null,
       "grid_template_rows": null,
       "height": null,
       "justify_content": null,
       "justify_items": null,
       "left": null,
       "margin": null,
       "max_height": null,
       "max_width": null,
       "min_height": null,
       "min_width": null,
       "object_fit": null,
       "object_position": null,
       "order": null,
       "overflow": null,
       "overflow_x": null,
       "overflow_y": null,
       "padding": null,
       "right": null,
       "top": null,
       "visibility": null,
       "width": null
      }
     },
     "95d4461aa2cb4866a2a686f8f59691b8": {
      "model_module": "@jupyter-widgets/base",
      "model_module_version": "1.2.0",
      "model_name": "LayoutModel",
      "state": {
       "_model_module": "@jupyter-widgets/base",
       "_model_module_version": "1.2.0",
       "_model_name": "LayoutModel",
       "_view_count": null,
       "_view_module": "@jupyter-widgets/base",
       "_view_module_version": "1.2.0",
       "_view_name": "LayoutView",
       "align_content": null,
       "align_items": null,
       "align_self": null,
       "border": null,
       "bottom": null,
       "display": null,
       "flex": null,
       "flex_flow": null,
       "grid_area": null,
       "grid_auto_columns": null,
       "grid_auto_flow": null,
       "grid_auto_rows": null,
       "grid_column": null,
       "grid_gap": null,
       "grid_row": null,
       "grid_template_areas": null,
       "grid_template_columns": null,
       "grid_template_rows": null,
       "height": null,
       "justify_content": null,
       "justify_items": null,
       "left": null,
       "margin": null,
       "max_height": null,
       "max_width": null,
       "min_height": null,
       "min_width": null,
       "object_fit": null,
       "object_position": null,
       "order": null,
       "overflow": null,
       "overflow_x": null,
       "overflow_y": null,
       "padding": null,
       "right": null,
       "top": null,
       "visibility": null,
       "width": null
      }
     },
     "96845654106249a882386b5ca51290a0": {
      "model_module": "@jupyter-widgets/controls",
      "model_module_version": "1.5.0",
      "model_name": "HBoxModel",
      "state": {
       "_dom_classes": [],
       "_model_module": "@jupyter-widgets/controls",
       "_model_module_version": "1.5.0",
       "_model_name": "HBoxModel",
       "_view_count": null,
       "_view_module": "@jupyter-widgets/controls",
       "_view_module_version": "1.5.0",
       "_view_name": "HBoxView",
       "box_style": "",
       "children": [
        "IPY_MODEL_d6234960afa54b2e98e0fe6a10fb8101",
        "IPY_MODEL_37631ee20b4742fb8bcad618cb7f04d9",
        "IPY_MODEL_82a9e06456c5460ebb324b1ea91180b6"
       ],
       "layout": "IPY_MODEL_7715e6dee69749e0949e584b975eb635"
      }
     },
     "9ff8c32771d644b79358b3196baa70bd": {
      "model_module": "@jupyter-widgets/controls",
      "model_module_version": "1.5.0",
      "model_name": "ProgressStyleModel",
      "state": {
       "_model_module": "@jupyter-widgets/controls",
       "_model_module_version": "1.5.0",
       "_model_name": "ProgressStyleModel",
       "_view_count": null,
       "_view_module": "@jupyter-widgets/base",
       "_view_module_version": "1.2.0",
       "_view_name": "StyleView",
       "bar_color": null,
       "description_width": ""
      }
     },
     "a02c6a82f20e45609ff52898ad8ca954": {
      "model_module": "@jupyter-widgets/controls",
      "model_module_version": "1.5.0",
      "model_name": "FloatProgressModel",
      "state": {
       "_dom_classes": [],
       "_model_module": "@jupyter-widgets/controls",
       "_model_module_version": "1.5.0",
       "_model_name": "FloatProgressModel",
       "_view_count": null,
       "_view_module": "@jupyter-widgets/controls",
       "_view_module_version": "1.5.0",
       "_view_name": "ProgressView",
       "bar_style": "success",
       "description": "",
       "description_tooltip": null,
       "layout": "IPY_MODEL_7038730c779242af8f968711ed08fd3a",
       "max": 1135173.0,
       "min": 0.0,
       "orientation": "horizontal",
       "style": "IPY_MODEL_110b426b8e8b42e1957536b7fdc84e8a",
       "value": 1135173.0
      }
     },
     "a23f19530c5548459f13363c325d036a": {
      "model_module": "@jupyter-widgets/controls",
      "model_module_version": "1.5.0",
      "model_name": "DescriptionStyleModel",
      "state": {
       "_model_module": "@jupyter-widgets/controls",
       "_model_module_version": "1.5.0",
       "_model_name": "DescriptionStyleModel",
       "_view_count": null,
       "_view_module": "@jupyter-widgets/base",
       "_view_module_version": "1.2.0",
       "_view_name": "StyleView",
       "description_width": ""
      }
     },
     "abd3b345050a40038953e63dd88bf24e": {
      "model_module": "@jupyter-widgets/controls",
      "model_module_version": "1.5.0",
      "model_name": "HBoxModel",
      "state": {
       "_dom_classes": [],
       "_model_module": "@jupyter-widgets/controls",
       "_model_module_version": "1.5.0",
       "_model_name": "HBoxModel",
       "_view_count": null,
       "_view_module": "@jupyter-widgets/controls",
       "_view_module_version": "1.5.0",
       "_view_name": "HBoxView",
       "box_style": "",
       "children": [
        "IPY_MODEL_ceea47e4b9a0446188e00e237608e8f8",
        "IPY_MODEL_c3ba77ea49044d89b063f29a58cfca1f",
        "IPY_MODEL_7de058792c694093acaab203638641d2"
       ],
       "layout": "IPY_MODEL_2aebe903994a49dc915bf1103947f69c"
      }
     },
     "ac144c0d839d45b58157c5ae049c71a3": {
      "model_module": "@jupyter-widgets/base",
      "model_module_version": "1.2.0",
      "model_name": "LayoutModel",
      "state": {
       "_model_module": "@jupyter-widgets/base",
       "_model_module_version": "1.2.0",
       "_model_name": "LayoutModel",
       "_view_count": null,
       "_view_module": "@jupyter-widgets/base",
       "_view_module_version": "1.2.0",
       "_view_name": "LayoutView",
       "align_content": null,
       "align_items": null,
       "align_self": null,
       "border": null,
       "bottom": null,
       "display": null,
       "flex": null,
       "flex_flow": null,
       "grid_area": null,
       "grid_auto_columns": null,
       "grid_auto_flow": null,
       "grid_auto_rows": null,
       "grid_column": null,
       "grid_gap": null,
       "grid_row": null,
       "grid_template_areas": null,
       "grid_template_columns": null,
       "grid_template_rows": null,
       "height": null,
       "justify_content": null,
       "justify_items": null,
       "left": null,
       "margin": null,
       "max_height": null,
       "max_width": null,
       "min_height": null,
       "min_width": null,
       "object_fit": null,
       "object_position": null,
       "order": null,
       "overflow": null,
       "overflow_x": null,
       "overflow_y": null,
       "padding": null,
       "right": null,
       "top": null,
       "visibility": null,
       "width": null
      }
     },
     "acc189a583b84d288dda20ca13ee285d": {
      "model_module": "@jupyter-widgets/base",
      "model_module_version": "1.2.0",
      "model_name": "LayoutModel",
      "state": {
       "_model_module": "@jupyter-widgets/base",
       "_model_module_version": "1.2.0",
       "_model_name": "LayoutModel",
       "_view_count": null,
       "_view_module": "@jupyter-widgets/base",
       "_view_module_version": "1.2.0",
       "_view_name": "LayoutView",
       "align_content": null,
       "align_items": null,
       "align_self": null,
       "border": null,
       "bottom": null,
       "display": null,
       "flex": null,
       "flex_flow": null,
       "grid_area": null,
       "grid_auto_columns": null,
       "grid_auto_flow": null,
       "grid_auto_rows": null,
       "grid_column": null,
       "grid_gap": null,
       "grid_row": null,
       "grid_template_areas": null,
       "grid_template_columns": null,
       "grid_template_rows": null,
       "height": null,
       "justify_content": null,
       "justify_items": null,
       "left": null,
       "margin": null,
       "max_height": null,
       "max_width": null,
       "min_height": null,
       "min_width": null,
       "object_fit": null,
       "object_position": null,
       "order": null,
       "overflow": null,
       "overflow_x": null,
       "overflow_y": null,
       "padding": null,
       "right": null,
       "top": null,
       "visibility": null,
       "width": null
      }
     },
     "adc7beb69a7e410b98f83f558bc64060": {
      "model_module": "@jupyter-widgets/controls",
      "model_module_version": "1.5.0",
      "model_name": "HBoxModel",
      "state": {
       "_dom_classes": [],
       "_model_module": "@jupyter-widgets/controls",
       "_model_module_version": "1.5.0",
       "_model_name": "HBoxModel",
       "_view_count": null,
       "_view_module": "@jupyter-widgets/controls",
       "_view_module_version": "1.5.0",
       "_view_name": "HBoxView",
       "box_style": "",
       "children": [
        "IPY_MODEL_d273762fa5d6433abd7114b18ec7ccf7",
        "IPY_MODEL_093cfdda2f8642aead9cf1e555efc8f2",
        "IPY_MODEL_622a260a9e004b98a4bed6fd64f2e0ec"
       ],
       "layout": "IPY_MODEL_5e8b5d0f3ed249878593154b8d10712e"
      }
     },
     "b3020ad3cb7c4addb237432df0ceea52": {
      "model_module": "@jupyter-widgets/base",
      "model_module_version": "1.2.0",
      "model_name": "LayoutModel",
      "state": {
       "_model_module": "@jupyter-widgets/base",
       "_model_module_version": "1.2.0",
       "_model_name": "LayoutModel",
       "_view_count": null,
       "_view_module": "@jupyter-widgets/base",
       "_view_module_version": "1.2.0",
       "_view_name": "LayoutView",
       "align_content": null,
       "align_items": null,
       "align_self": null,
       "border": null,
       "bottom": null,
       "display": null,
       "flex": null,
       "flex_flow": null,
       "grid_area": null,
       "grid_auto_columns": null,
       "grid_auto_flow": null,
       "grid_auto_rows": null,
       "grid_column": null,
       "grid_gap": null,
       "grid_row": null,
       "grid_template_areas": null,
       "grid_template_columns": null,
       "grid_template_rows": null,
       "height": null,
       "justify_content": null,
       "justify_items": null,
       "left": null,
       "margin": null,
       "max_height": null,
       "max_width": null,
       "min_height": null,
       "min_width": null,
       "object_fit": null,
       "object_position": null,
       "order": null,
       "overflow": null,
       "overflow_x": null,
       "overflow_y": null,
       "padding": null,
       "right": null,
       "top": null,
       "visibility": null,
       "width": null
      }
     },
     "b3284ce51e8b49f7b077fe04a96eabd4": {
      "model_module": "@jupyter-widgets/controls",
      "model_module_version": "1.5.0",
      "model_name": "DescriptionStyleModel",
      "state": {
       "_model_module": "@jupyter-widgets/controls",
       "_model_module_version": "1.5.0",
       "_model_name": "DescriptionStyleModel",
       "_view_count": null,
       "_view_module": "@jupyter-widgets/base",
       "_view_module_version": "1.2.0",
       "_view_name": "StyleView",
       "description_width": ""
      }
     },
     "b4f0321c89ca4757876557bf6e077ad1": {
      "model_module": "@jupyter-widgets/base",
      "model_module_version": "1.2.0",
      "model_name": "LayoutModel",
      "state": {
       "_model_module": "@jupyter-widgets/base",
       "_model_module_version": "1.2.0",
       "_model_name": "LayoutModel",
       "_view_count": null,
       "_view_module": "@jupyter-widgets/base",
       "_view_module_version": "1.2.0",
       "_view_name": "LayoutView",
       "align_content": null,
       "align_items": null,
       "align_self": null,
       "border": null,
       "bottom": null,
       "display": null,
       "flex": null,
       "flex_flow": null,
       "grid_area": null,
       "grid_auto_columns": null,
       "grid_auto_flow": null,
       "grid_auto_rows": null,
       "grid_column": null,
       "grid_gap": null,
       "grid_row": null,
       "grid_template_areas": null,
       "grid_template_columns": null,
       "grid_template_rows": null,
       "height": null,
       "justify_content": null,
       "justify_items": null,
       "left": null,
       "margin": null,
       "max_height": null,
       "max_width": null,
       "min_height": null,
       "min_width": null,
       "object_fit": null,
       "object_position": null,
       "order": null,
       "overflow": null,
       "overflow_x": null,
       "overflow_y": null,
       "padding": null,
       "right": null,
       "top": null,
       "visibility": null,
       "width": null
      }
     },
     "b716654bf26d4084b03840b66f23e945": {
      "model_module": "@jupyter-widgets/base",
      "model_module_version": "1.2.0",
      "model_name": "LayoutModel",
      "state": {
       "_model_module": "@jupyter-widgets/base",
       "_model_module_version": "1.2.0",
       "_model_name": "LayoutModel",
       "_view_count": null,
       "_view_module": "@jupyter-widgets/base",
       "_view_module_version": "1.2.0",
       "_view_name": "LayoutView",
       "align_content": null,
       "align_items": null,
       "align_self": null,
       "border": null,
       "bottom": null,
       "display": null,
       "flex": null,
       "flex_flow": null,
       "grid_area": null,
       "grid_auto_columns": null,
       "grid_auto_flow": null,
       "grid_auto_rows": null,
       "grid_column": null,
       "grid_gap": null,
       "grid_row": null,
       "grid_template_areas": null,
       "grid_template_columns": null,
       "grid_template_rows": null,
       "height": null,
       "justify_content": null,
       "justify_items": null,
       "left": null,
       "margin": null,
       "max_height": null,
       "max_width": null,
       "min_height": null,
       "min_width": null,
       "object_fit": null,
       "object_position": null,
       "order": null,
       "overflow": null,
       "overflow_x": null,
       "overflow_y": null,
       "padding": null,
       "right": null,
       "top": null,
       "visibility": null,
       "width": null
      }
     },
     "c0c9c12cc4b6450cba21b1cd488996ac": {
      "model_module": "@jupyter-widgets/controls",
      "model_module_version": "1.5.0",
      "model_name": "DescriptionStyleModel",
      "state": {
       "_model_module": "@jupyter-widgets/controls",
       "_model_module_version": "1.5.0",
       "_model_name": "DescriptionStyleModel",
       "_view_count": null,
       "_view_module": "@jupyter-widgets/base",
       "_view_module_version": "1.2.0",
       "_view_name": "StyleView",
       "description_width": ""
      }
     },
     "c3ba77ea49044d89b063f29a58cfca1f": {
      "model_module": "@jupyter-widgets/controls",
      "model_module_version": "1.5.0",
      "model_name": "FloatProgressModel",
      "state": {
       "_dom_classes": [],
       "_model_module": "@jupyter-widgets/controls",
       "_model_module_version": "1.5.0",
       "_model_name": "FloatProgressModel",
       "_view_count": null,
       "_view_module": "@jupyter-widgets/controls",
       "_view_module_version": "1.5.0",
       "_view_name": "ProgressView",
       "bar_style": "success",
       "description": "",
       "description_tooltip": null,
       "layout": "IPY_MODEL_e3c520262acd4856af5bb6fc857816db",
       "max": 678.0,
       "min": 0.0,
       "orientation": "horizontal",
       "style": "IPY_MODEL_fe60b5369bae49b2b8355f334e4ccef2",
       "value": 678.0
      }
     },
     "c45082220ea548378e1e676fec4595c9": {
      "model_module": "@jupyter-widgets/controls",
      "model_module_version": "1.5.0",
      "model_name": "HTMLModel",
      "state": {
       "_dom_classes": [],
       "_model_module": "@jupyter-widgets/controls",
       "_model_module_version": "1.5.0",
       "_model_name": "HTMLModel",
       "_view_count": null,
       "_view_module": "@jupyter-widgets/controls",
       "_view_module_version": "1.5.0",
       "_view_name": "HTMLView",
       "description": "",
       "description_tooltip": null,
       "layout": "IPY_MODEL_d1f2b3c7586b4b0cae0c3d840ad91be8",
       "placeholder": "​",
       "style": "IPY_MODEL_6519be0e2ce94da99c5ea4cffb4d55cf",
       "value": " 557/557 [00:00&lt;00:00, 42.4kB/s]"
      }
     },
     "ceea47e4b9a0446188e00e237608e8f8": {
      "model_module": "@jupyter-widgets/controls",
      "model_module_version": "1.5.0",
      "model_name": "HTMLModel",
      "state": {
       "_dom_classes": [],
       "_model_module": "@jupyter-widgets/controls",
       "_model_module_version": "1.5.0",
       "_model_name": "HTMLModel",
       "_view_count": null,
       "_view_module": "@jupyter-widgets/controls",
       "_view_module_version": "1.5.0",
       "_view_name": "HTMLView",
       "description": "",
       "description_tooltip": null,
       "layout": "IPY_MODEL_d8e9ae2c03df40d1944f528d7c057678",
       "placeholder": "​",
       "style": "IPY_MODEL_791a1a0ad8fb439997d92e7f3daf7508",
       "value": "Downloading (…)lve/main/config.json: 100%"
      }
     },
     "d00a93924ac14ed496a855815043dafd": {
      "model_module": "@jupyter-widgets/base",
      "model_module_version": "1.2.0",
      "model_name": "LayoutModel",
      "state": {
       "_model_module": "@jupyter-widgets/base",
       "_model_module_version": "1.2.0",
       "_model_name": "LayoutModel",
       "_view_count": null,
       "_view_module": "@jupyter-widgets/base",
       "_view_module_version": "1.2.0",
       "_view_name": "LayoutView",
       "align_content": null,
       "align_items": null,
       "align_self": null,
       "border": null,
       "bottom": null,
       "display": null,
       "flex": null,
       "flex_flow": null,
       "grid_area": null,
       "grid_auto_columns": null,
       "grid_auto_flow": null,
       "grid_auto_rows": null,
       "grid_column": null,
       "grid_gap": null,
       "grid_row": null,
       "grid_template_areas": null,
       "grid_template_columns": null,
       "grid_template_rows": null,
       "height": null,
       "justify_content": null,
       "justify_items": null,
       "left": null,
       "margin": null,
       "max_height": null,
       "max_width": null,
       "min_height": null,
       "min_width": null,
       "object_fit": null,
       "object_position": null,
       "order": null,
       "overflow": null,
       "overflow_x": null,
       "overflow_y": null,
       "padding": null,
       "right": null,
       "top": null,
       "visibility": null,
       "width": null
      }
     },
     "d1f2b3c7586b4b0cae0c3d840ad91be8": {
      "model_module": "@jupyter-widgets/base",
      "model_module_version": "1.2.0",
      "model_name": "LayoutModel",
      "state": {
       "_model_module": "@jupyter-widgets/base",
       "_model_module_version": "1.2.0",
       "_model_name": "LayoutModel",
       "_view_count": null,
       "_view_module": "@jupyter-widgets/base",
       "_view_module_version": "1.2.0",
       "_view_name": "LayoutView",
       "align_content": null,
       "align_items": null,
       "align_self": null,
       "border": null,
       "bottom": null,
       "display": null,
       "flex": null,
       "flex_flow": null,
       "grid_area": null,
       "grid_auto_columns": null,
       "grid_auto_flow": null,
       "grid_auto_rows": null,
       "grid_column": null,
       "grid_gap": null,
       "grid_row": null,
       "grid_template_areas": null,
       "grid_template_columns": null,
       "grid_template_rows": null,
       "height": null,
       "justify_content": null,
       "justify_items": null,
       "left": null,
       "margin": null,
       "max_height": null,
       "max_width": null,
       "min_height": null,
       "min_width": null,
       "object_fit": null,
       "object_position": null,
       "order": null,
       "overflow": null,
       "overflow_x": null,
       "overflow_y": null,
       "padding": null,
       "right": null,
       "top": null,
       "visibility": null,
       "width": null
      }
     },
     "d273762fa5d6433abd7114b18ec7ccf7": {
      "model_module": "@jupyter-widgets/controls",
      "model_module_version": "1.5.0",
      "model_name": "HTMLModel",
      "state": {
       "_dom_classes": [],
       "_model_module": "@jupyter-widgets/controls",
       "_model_module_version": "1.5.0",
       "_model_name": "HTMLModel",
       "_view_count": null,
       "_view_module": "@jupyter-widgets/controls",
       "_view_module_version": "1.5.0",
       "_view_name": "HTMLView",
       "description": "",
       "description_tooltip": null,
       "layout": "IPY_MODEL_e417a2869b1441018c1fbea878e59a62",
       "placeholder": "​",
       "style": "IPY_MODEL_3e6cd686022c40ef9197f86991c93bd8",
       "value": "Downloading pytorch_model.bin: 100%"
      }
     },
     "d539b1e4843542f6b2ef9acbf76dd2e1": {
      "model_module": "@jupyter-widgets/controls",
      "model_module_version": "1.5.0",
      "model_name": "HTMLModel",
      "state": {
       "_dom_classes": [],
       "_model_module": "@jupyter-widgets/controls",
       "_model_module_version": "1.5.0",
       "_model_name": "HTMLModel",
       "_view_count": null,
       "_view_module": "@jupyter-widgets/controls",
       "_view_module_version": "1.5.0",
       "_view_name": "HTMLView",
       "description": "",
       "description_tooltip": null,
       "layout": "IPY_MODEL_918d5685c0004430b88701b7a6892a71",
       "placeholder": "​",
       "style": "IPY_MODEL_b3284ce51e8b49f7b077fe04a96eabd4",
       "value": " 1.14M/1.14M [00:01&lt;00:00, 1.08MB/s]"
      }
     },
     "d6234960afa54b2e98e0fe6a10fb8101": {
      "model_module": "@jupyter-widgets/controls",
      "model_module_version": "1.5.0",
      "model_name": "HTMLModel",
      "state": {
       "_dom_classes": [],
       "_model_module": "@jupyter-widgets/controls",
       "_model_module_version": "1.5.0",
       "_model_name": "HTMLModel",
       "_view_count": null,
       "_view_module": "@jupyter-widgets/controls",
       "_view_module_version": "1.5.0",
       "_view_name": "HTMLView",
       "description": "",
       "description_tooltip": null,
       "layout": "IPY_MODEL_b716654bf26d4084b03840b66f23e945",
       "placeholder": "​",
       "style": "IPY_MODEL_c0c9c12cc4b6450cba21b1cd488996ac",
       "value": "Downloading (…)solve/main/vocab.txt: 100%"
      }
     },
     "d7b7953835e5469986fd2d70606c37ac": {
      "model_module": "@jupyter-widgets/base",
      "model_module_version": "1.2.0",
      "model_name": "LayoutModel",
      "state": {
       "_model_module": "@jupyter-widgets/base",
       "_model_module_version": "1.2.0",
       "_model_name": "LayoutModel",
       "_view_count": null,
       "_view_module": "@jupyter-widgets/base",
       "_view_module_version": "1.2.0",
       "_view_name": "LayoutView",
       "align_content": null,
       "align_items": null,
       "align_self": null,
       "border": null,
       "bottom": null,
       "display": null,
       "flex": null,
       "flex_flow": null,
       "grid_area": null,
       "grid_auto_columns": null,
       "grid_auto_flow": null,
       "grid_auto_rows": null,
       "grid_column": null,
       "grid_gap": null,
       "grid_row": null,
       "grid_template_areas": null,
       "grid_template_columns": null,
       "grid_template_rows": null,
       "height": null,
       "justify_content": null,
       "justify_items": null,
       "left": null,
       "margin": null,
       "max_height": null,
       "max_width": null,
       "min_height": null,
       "min_width": null,
       "object_fit": null,
       "object_position": null,
       "order": null,
       "overflow": null,
       "overflow_x": null,
       "overflow_y": null,
       "padding": null,
       "right": null,
       "top": null,
       "visibility": null,
       "width": null
      }
     },
     "d8e9ae2c03df40d1944f528d7c057678": {
      "model_module": "@jupyter-widgets/base",
      "model_module_version": "1.2.0",
      "model_name": "LayoutModel",
      "state": {
       "_model_module": "@jupyter-widgets/base",
       "_model_module_version": "1.2.0",
       "_model_name": "LayoutModel",
       "_view_count": null,
       "_view_module": "@jupyter-widgets/base",
       "_view_module_version": "1.2.0",
       "_view_name": "LayoutView",
       "align_content": null,
       "align_items": null,
       "align_self": null,
       "border": null,
       "bottom": null,
       "display": null,
       "flex": null,
       "flex_flow": null,
       "grid_area": null,
       "grid_auto_columns": null,
       "grid_auto_flow": null,
       "grid_auto_rows": null,
       "grid_column": null,
       "grid_gap": null,
       "grid_row": null,
       "grid_template_areas": null,
       "grid_template_columns": null,
       "grid_template_rows": null,
       "height": null,
       "justify_content": null,
       "justify_items": null,
       "left": null,
       "margin": null,
       "max_height": null,
       "max_width": null,
       "min_height": null,
       "min_width": null,
       "object_fit": null,
       "object_position": null,
       "order": null,
       "overflow": null,
       "overflow_x": null,
       "overflow_y": null,
       "padding": null,
       "right": null,
       "top": null,
       "visibility": null,
       "width": null
      }
     },
     "e18a1464832041899e461f8aeabc4509": {
      "model_module": "@jupyter-widgets/controls",
      "model_module_version": "1.5.0",
      "model_name": "DescriptionStyleModel",
      "state": {
       "_model_module": "@jupyter-widgets/controls",
       "_model_module_version": "1.5.0",
       "_model_name": "DescriptionStyleModel",
       "_view_count": null,
       "_view_module": "@jupyter-widgets/base",
       "_view_module_version": "1.2.0",
       "_view_name": "StyleView",
       "description_width": ""
      }
     },
     "e2b5b128107543cc9480674f33cd9322": {
      "model_module": "@jupyter-widgets/controls",
      "model_module_version": "1.5.0",
      "model_name": "DescriptionStyleModel",
      "state": {
       "_model_module": "@jupyter-widgets/controls",
       "_model_module_version": "1.5.0",
       "_model_name": "DescriptionStyleModel",
       "_view_count": null,
       "_view_module": "@jupyter-widgets/base",
       "_view_module_version": "1.2.0",
       "_view_name": "StyleView",
       "description_width": ""
      }
     },
     "e3c520262acd4856af5bb6fc857816db": {
      "model_module": "@jupyter-widgets/base",
      "model_module_version": "1.2.0",
      "model_name": "LayoutModel",
      "state": {
       "_model_module": "@jupyter-widgets/base",
       "_model_module_version": "1.2.0",
       "_model_name": "LayoutModel",
       "_view_count": null,
       "_view_module": "@jupyter-widgets/base",
       "_view_module_version": "1.2.0",
       "_view_name": "LayoutView",
       "align_content": null,
       "align_items": null,
       "align_self": null,
       "border": null,
       "bottom": null,
       "display": null,
       "flex": null,
       "flex_flow": null,
       "grid_area": null,
       "grid_auto_columns": null,
       "grid_auto_flow": null,
       "grid_auto_rows": null,
       "grid_column": null,
       "grid_gap": null,
       "grid_row": null,
       "grid_template_areas": null,
       "grid_template_columns": null,
       "grid_template_rows": null,
       "height": null,
       "justify_content": null,
       "justify_items": null,
       "left": null,
       "margin": null,
       "max_height": null,
       "max_width": null,
       "min_height": null,
       "min_width": null,
       "object_fit": null,
       "object_position": null,
       "order": null,
       "overflow": null,
       "overflow_x": null,
       "overflow_y": null,
       "padding": null,
       "right": null,
       "top": null,
       "visibility": null,
       "width": null
      }
     },
     "e417a2869b1441018c1fbea878e59a62": {
      "model_module": "@jupyter-widgets/base",
      "model_module_version": "1.2.0",
      "model_name": "LayoutModel",
      "state": {
       "_model_module": "@jupyter-widgets/base",
       "_model_module_version": "1.2.0",
       "_model_name": "LayoutModel",
       "_view_count": null,
       "_view_module": "@jupyter-widgets/base",
       "_view_module_version": "1.2.0",
       "_view_name": "LayoutView",
       "align_content": null,
       "align_items": null,
       "align_self": null,
       "border": null,
       "bottom": null,
       "display": null,
       "flex": null,
       "flex_flow": null,
       "grid_area": null,
       "grid_auto_columns": null,
       "grid_auto_flow": null,
       "grid_auto_rows": null,
       "grid_column": null,
       "grid_gap": null,
       "grid_row": null,
       "grid_template_areas": null,
       "grid_template_columns": null,
       "grid_template_rows": null,
       "height": null,
       "justify_content": null,
       "justify_items": null,
       "left": null,
       "margin": null,
       "max_height": null,
       "max_width": null,
       "min_height": null,
       "min_width": null,
       "object_fit": null,
       "object_position": null,
       "order": null,
       "overflow": null,
       "overflow_x": null,
       "overflow_y": null,
       "padding": null,
       "right": null,
       "top": null,
       "visibility": null,
       "width": null
      }
     },
     "e81bb8a9c1ab47a097260d9e5e1a4788": {
      "model_module": "@jupyter-widgets/base",
      "model_module_version": "1.2.0",
      "model_name": "LayoutModel",
      "state": {
       "_model_module": "@jupyter-widgets/base",
       "_model_module_version": "1.2.0",
       "_model_name": "LayoutModel",
       "_view_count": null,
       "_view_module": "@jupyter-widgets/base",
       "_view_module_version": "1.2.0",
       "_view_name": "LayoutView",
       "align_content": null,
       "align_items": null,
       "align_self": null,
       "border": null,
       "bottom": null,
       "display": null,
       "flex": null,
       "flex_flow": null,
       "grid_area": null,
       "grid_auto_columns": null,
       "grid_auto_flow": null,
       "grid_auto_rows": null,
       "grid_column": null,
       "grid_gap": null,
       "grid_row": null,
       "grid_template_areas": null,
       "grid_template_columns": null,
       "grid_template_rows": null,
       "height": null,
       "justify_content": null,
       "justify_items": null,
       "left": null,
       "margin": null,
       "max_height": null,
       "max_width": null,
       "min_height": null,
       "min_width": null,
       "object_fit": null,
       "object_position": null,
       "order": null,
       "overflow": null,
       "overflow_x": null,
       "overflow_y": null,
       "padding": null,
       "right": null,
       "top": null,
       "visibility": null,
       "width": null
      }
     },
     "e8cc35e7988d46f481b3532b3a96bf6c": {
      "model_module": "@jupyter-widgets/controls",
      "model_module_version": "1.5.0",
      "model_name": "DescriptionStyleModel",
      "state": {
       "_model_module": "@jupyter-widgets/controls",
       "_model_module_version": "1.5.0",
       "_model_name": "DescriptionStyleModel",
       "_view_count": null,
       "_view_module": "@jupyter-widgets/base",
       "_view_module_version": "1.2.0",
       "_view_name": "StyleView",
       "description_width": ""
      }
     },
     "f1053a0f59d64c489eec7ae3346f00a9": {
      "model_module": "@jupyter-widgets/controls",
      "model_module_version": "1.5.0",
      "model_name": "HBoxModel",
      "state": {
       "_dom_classes": [],
       "_model_module": "@jupyter-widgets/controls",
       "_model_module_version": "1.5.0",
       "_model_name": "HBoxModel",
       "_view_count": null,
       "_view_module": "@jupyter-widgets/controls",
       "_view_module_version": "1.5.0",
       "_view_name": "HBoxView",
       "box_style": "",
       "children": [
        "IPY_MODEL_7dc1cb81c08e48d88a182ccb1b594d45",
        "IPY_MODEL_6484e775b6a449c1b93b18c6f5aabf9f",
        "IPY_MODEL_c45082220ea548378e1e676fec4595c9"
       ],
       "layout": "IPY_MODEL_9394854f5e2b4af68be2bcc63fca0b16"
      }
     },
     "f6b68d615f0d4494ac1837ec2548b13f": {
      "model_module": "@jupyter-widgets/controls",
      "model_module_version": "1.5.0",
      "model_name": "DescriptionStyleModel",
      "state": {
       "_model_module": "@jupyter-widgets/controls",
       "_model_module_version": "1.5.0",
       "_model_name": "DescriptionStyleModel",
       "_view_count": null,
       "_view_module": "@jupyter-widgets/base",
       "_view_module_version": "1.2.0",
       "_view_name": "StyleView",
       "description_width": ""
      }
     },
     "fe60b5369bae49b2b8355f334e4ccef2": {
      "model_module": "@jupyter-widgets/controls",
      "model_module_version": "1.5.0",
      "model_name": "ProgressStyleModel",
      "state": {
       "_model_module": "@jupyter-widgets/controls",
       "_model_module_version": "1.5.0",
       "_model_name": "ProgressStyleModel",
       "_view_count": null,
       "_view_module": "@jupyter-widgets/base",
       "_view_module_version": "1.2.0",
       "_view_name": "StyleView",
       "bar_color": null,
       "description_width": ""
      }
     }
    },
    "version_major": 2,
    "version_minor": 0
   }
  }
 },
 "nbformat": 4,
 "nbformat_minor": 5
}
